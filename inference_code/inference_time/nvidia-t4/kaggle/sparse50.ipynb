{
 "cells": [
  {
   "cell_type": "code",
   "execution_count": 1,
   "id": "58e12bc9",
   "metadata": {
    "execution": {
     "iopub.execute_input": "2023-05-30T13:01:10.409743Z",
     "iopub.status.busy": "2023-05-30T13:01:10.409274Z",
     "iopub.status.idle": "2023-05-30T13:02:44.240690Z",
     "shell.execute_reply": "2023-05-30T13:02:44.239586Z"
    },
    "papermill": {
     "duration": 93.838317,
     "end_time": "2023-05-30T13:02:44.243238",
     "exception": false,
     "start_time": "2023-05-30T13:01:10.404921",
     "status": "completed"
    },
    "tags": []
   },
   "outputs": [
    {
     "name": "stdout",
     "output_type": "stream",
     "text": [
      "Collecting torch==1.12.1\r\n",
      "  Downloading torch-1.12.1-cp310-cp310-manylinux1_x86_64.whl (776.3 MB)\r\n",
      "\u001b[2K     \u001b[90m━━━━━━━━━━━━━━━━━━━━━━━━━━━━━━━━━━━━━━━\u001b[0m \u001b[32m776.3/776.3 MB\u001b[0m \u001b[31m1.0 MB/s\u001b[0m eta \u001b[36m0:00:00\u001b[0m\r\n",
      "\u001b[?25hRequirement already satisfied: typing-extensions in /opt/conda/lib/python3.10/site-packages (from torch==1.12.1) (4.5.0)\r\n",
      "Installing collected packages: torch\r\n",
      "  Attempting uninstall: torch\r\n",
      "    Found existing installation: torch 2.0.0\r\n",
      "    Uninstalling torch-2.0.0:\r\n",
      "      Successfully uninstalled torch-2.0.0\r\n",
      "\u001b[31mERROR: pip's dependency resolver does not currently take into account all the packages that are installed. This behaviour is the source of the following dependency conflicts.\r\n",
      "torchdata 0.6.0 requires torch==2.0.0, but you have torch 1.12.1 which is incompatible.\u001b[0m\u001b[31m\r\n",
      "\u001b[0mSuccessfully installed torch-1.12.1\r\n",
      "\u001b[33mWARNING: Running pip as the 'root' user can result in broken permissions and conflicting behaviour with the system package manager. It is recommended to use a virtual environment instead: https://pip.pypa.io/warnings/venv\u001b[0m\u001b[33m\r\n",
      "\u001b[0mCollecting fastai==2.7.9\r\n",
      "  Downloading fastai-2.7.9-py3-none-any.whl (225 kB)\r\n",
      "\u001b[2K     \u001b[90m━━━━━━━━━━━━━━━━━━━━━━━━━━━━━━━━━━━━━━━\u001b[0m \u001b[32m225.5/225.5 kB\u001b[0m \u001b[31m7.7 MB/s\u001b[0m eta \u001b[36m0:00:00\u001b[0m\r\n",
      "\u001b[?25hRequirement already satisfied: pip in /opt/conda/lib/python3.10/site-packages (from fastai==2.7.9) (23.1.2)\r\n",
      "Requirement already satisfied: packaging in /opt/conda/lib/python3.10/site-packages (from fastai==2.7.9) (21.3)\r\n",
      "Requirement already satisfied: fastdownload<2,>=0.0.5 in /opt/conda/lib/python3.10/site-packages (from fastai==2.7.9) (0.0.7)\r\n",
      "Requirement already satisfied: fastcore<1.6,>=1.4.5 in /opt/conda/lib/python3.10/site-packages (from fastai==2.7.9) (1.5.29)\r\n",
      "Requirement already satisfied: torchvision>=0.8.2 in /opt/conda/lib/python3.10/site-packages (from fastai==2.7.9) (0.15.1)\r\n",
      "Requirement already satisfied: matplotlib in /opt/conda/lib/python3.10/site-packages (from fastai==2.7.9) (3.6.3)\r\n",
      "Requirement already satisfied: pandas in /opt/conda/lib/python3.10/site-packages (from fastai==2.7.9) (1.5.3)\r\n",
      "Requirement already satisfied: requests in /opt/conda/lib/python3.10/site-packages (from fastai==2.7.9) (2.28.2)\r\n",
      "Requirement already satisfied: pyyaml in /opt/conda/lib/python3.10/site-packages (from fastai==2.7.9) (5.4.1)\r\n",
      "Requirement already satisfied: fastprogress>=0.2.4 in /opt/conda/lib/python3.10/site-packages (from fastai==2.7.9) (1.0.3)\r\n",
      "Requirement already satisfied: pillow>6.0.0 in /opt/conda/lib/python3.10/site-packages (from fastai==2.7.9) (9.5.0)\r\n",
      "Requirement already satisfied: scikit-learn in /opt/conda/lib/python3.10/site-packages (from fastai==2.7.9) (1.2.2)\r\n",
      "Requirement already satisfied: scipy in /opt/conda/lib/python3.10/site-packages (from fastai==2.7.9) (1.10.1)\r\n",
      "Requirement already satisfied: spacy<4 in /opt/conda/lib/python3.10/site-packages (from fastai==2.7.9) (3.5.3)\r\n",
      "Requirement already satisfied: torch<1.14,>=1.7 in /opt/conda/lib/python3.10/site-packages (from fastai==2.7.9) (1.12.1)\r\n",
      "Requirement already satisfied: spacy-legacy<3.1.0,>=3.0.11 in /opt/conda/lib/python3.10/site-packages (from spacy<4->fastai==2.7.9) (3.0.12)\r\n",
      "Requirement already satisfied: spacy-loggers<2.0.0,>=1.0.0 in /opt/conda/lib/python3.10/site-packages (from spacy<4->fastai==2.7.9) (1.0.4)\r\n",
      "Requirement already satisfied: murmurhash<1.1.0,>=0.28.0 in /opt/conda/lib/python3.10/site-packages (from spacy<4->fastai==2.7.9) (1.0.9)\r\n",
      "Requirement already satisfied: cymem<2.1.0,>=2.0.2 in /opt/conda/lib/python3.10/site-packages (from spacy<4->fastai==2.7.9) (2.0.7)\r\n",
      "Requirement already satisfied: preshed<3.1.0,>=3.0.2 in /opt/conda/lib/python3.10/site-packages (from spacy<4->fastai==2.7.9) (3.0.8)\r\n",
      "Requirement already satisfied: thinc<8.2.0,>=8.1.8 in /opt/conda/lib/python3.10/site-packages (from spacy<4->fastai==2.7.9) (8.1.10)\r\n",
      "Requirement already satisfied: wasabi<1.2.0,>=0.9.1 in /opt/conda/lib/python3.10/site-packages (from spacy<4->fastai==2.7.9) (1.1.1)\r\n",
      "Requirement already satisfied: srsly<3.0.0,>=2.4.3 in /opt/conda/lib/python3.10/site-packages (from spacy<4->fastai==2.7.9) (2.4.6)\r\n",
      "Requirement already satisfied: catalogue<2.1.0,>=2.0.6 in /opt/conda/lib/python3.10/site-packages (from spacy<4->fastai==2.7.9) (2.0.8)\r\n",
      "Requirement already satisfied: typer<0.8.0,>=0.3.0 in /opt/conda/lib/python3.10/site-packages (from spacy<4->fastai==2.7.9) (0.7.0)\r\n",
      "Requirement already satisfied: pathy>=0.10.0 in /opt/conda/lib/python3.10/site-packages (from spacy<4->fastai==2.7.9) (0.10.1)\r\n",
      "Requirement already satisfied: smart-open<7.0.0,>=5.2.1 in /opt/conda/lib/python3.10/site-packages (from spacy<4->fastai==2.7.9) (6.3.0)\r\n",
      "Requirement already satisfied: tqdm<5.0.0,>=4.38.0 in /opt/conda/lib/python3.10/site-packages (from spacy<4->fastai==2.7.9) (4.64.1)\r\n",
      "Requirement already satisfied: numpy>=1.15.0 in /opt/conda/lib/python3.10/site-packages (from spacy<4->fastai==2.7.9) (1.23.5)\r\n",
      "Requirement already satisfied: pydantic!=1.8,!=1.8.1,<1.11.0,>=1.7.4 in /opt/conda/lib/python3.10/site-packages (from spacy<4->fastai==2.7.9) (1.10.7)\r\n",
      "Requirement already satisfied: jinja2 in /opt/conda/lib/python3.10/site-packages (from spacy<4->fastai==2.7.9) (3.1.2)\r\n",
      "Requirement already satisfied: setuptools in /opt/conda/lib/python3.10/site-packages (from spacy<4->fastai==2.7.9) (59.8.0)\r\n",
      "Requirement already satisfied: langcodes<4.0.0,>=3.2.0 in /opt/conda/lib/python3.10/site-packages (from spacy<4->fastai==2.7.9) (3.3.0)\r\n",
      "Requirement already satisfied: pyparsing!=3.0.5,>=2.0.2 in /opt/conda/lib/python3.10/site-packages (from packaging->fastai==2.7.9) (3.0.9)\r\n",
      "Requirement already satisfied: charset-normalizer<4,>=2 in /opt/conda/lib/python3.10/site-packages (from requests->fastai==2.7.9) (2.1.1)\r\n",
      "Requirement already satisfied: idna<4,>=2.5 in /opt/conda/lib/python3.10/site-packages (from requests->fastai==2.7.9) (3.4)\r\n",
      "Requirement already satisfied: urllib3<1.27,>=1.21.1 in /opt/conda/lib/python3.10/site-packages (from requests->fastai==2.7.9) (1.26.15)\r\n",
      "Requirement already satisfied: certifi>=2017.4.17 in /opt/conda/lib/python3.10/site-packages (from requests->fastai==2.7.9) (2023.5.7)\r\n",
      "Requirement already satisfied: typing-extensions in /opt/conda/lib/python3.10/site-packages (from torch<1.14,>=1.7->fastai==2.7.9) (4.5.0)\r\n",
      "Requirement already satisfied: contourpy>=1.0.1 in /opt/conda/lib/python3.10/site-packages (from matplotlib->fastai==2.7.9) (1.0.7)\r\n",
      "Requirement already satisfied: cycler>=0.10 in /opt/conda/lib/python3.10/site-packages (from matplotlib->fastai==2.7.9) (0.11.0)\r\n",
      "Requirement already satisfied: fonttools>=4.22.0 in /opt/conda/lib/python3.10/site-packages (from matplotlib->fastai==2.7.9) (4.39.3)\r\n",
      "Requirement already satisfied: kiwisolver>=1.0.1 in /opt/conda/lib/python3.10/site-packages (from matplotlib->fastai==2.7.9) (1.4.4)\r\n",
      "Requirement already satisfied: python-dateutil>=2.7 in /opt/conda/lib/python3.10/site-packages (from matplotlib->fastai==2.7.9) (2.8.2)\r\n",
      "Requirement already satisfied: pytz>=2020.1 in /opt/conda/lib/python3.10/site-packages (from pandas->fastai==2.7.9) (2023.3)\r\n",
      "Requirement already satisfied: joblib>=1.1.1 in /opt/conda/lib/python3.10/site-packages (from scikit-learn->fastai==2.7.9) (1.2.0)\r\n",
      "Requirement already satisfied: threadpoolctl>=2.0.0 in /opt/conda/lib/python3.10/site-packages (from scikit-learn->fastai==2.7.9) (3.1.0)\r\n",
      "Requirement already satisfied: six>=1.5 in /opt/conda/lib/python3.10/site-packages (from python-dateutil>=2.7->matplotlib->fastai==2.7.9) (1.16.0)\r\n",
      "Requirement already satisfied: blis<0.8.0,>=0.7.8 in /opt/conda/lib/python3.10/site-packages (from thinc<8.2.0,>=8.1.8->spacy<4->fastai==2.7.9) (0.7.9)\r\n",
      "Requirement already satisfied: confection<1.0.0,>=0.0.1 in /opt/conda/lib/python3.10/site-packages (from thinc<8.2.0,>=8.1.8->spacy<4->fastai==2.7.9) (0.0.4)\r\n",
      "Requirement already satisfied: click<9.0.0,>=7.1.1 in /opt/conda/lib/python3.10/site-packages (from typer<0.8.0,>=0.3.0->spacy<4->fastai==2.7.9) (8.1.3)\r\n",
      "Requirement already satisfied: MarkupSafe>=2.0 in /opt/conda/lib/python3.10/site-packages (from jinja2->spacy<4->fastai==2.7.9) (2.1.2)\r\n",
      "Installing collected packages: fastai\r\n",
      "  Attempting uninstall: fastai\r\n",
      "    Found existing installation: fastai 2.7.12\r\n",
      "    Uninstalling fastai-2.7.12:\r\n",
      "      Successfully uninstalled fastai-2.7.12\r\n",
      "Successfully installed fastai-2.7.9\r\n",
      "\u001b[33mWARNING: Running pip as the 'root' user can result in broken permissions and conflicting behaviour with the system package manager. It is recommended to use a virtual environment instead: https://pip.pypa.io/warnings/venv\u001b[0m\u001b[33m\r\n",
      "\u001b[0mCollecting pytorch_benchmark==0.3.4\r\n",
      "  Downloading pytorch_benchmark-0.3.4-py3-none-any.whl (16 kB)\r\n",
      "Requirement already satisfied: torch>=1.6 in /opt/conda/lib/python3.10/site-packages (from pytorch_benchmark==0.3.4) (1.12.1)\r\n",
      "Collecting ptflops~=0.6.8 (from pytorch_benchmark==0.3.4)\r\n",
      "  Downloading ptflops-0.6.9.tar.gz (12 kB)\r\n",
      "  Preparing metadata (setup.py) ... \u001b[?25l-\b \b\\\b \bdone\r\n",
      "\u001b[?25hRequirement already satisfied: tqdm~=4.62 in /opt/conda/lib/python3.10/site-packages (from pytorch_benchmark==0.3.4) (4.64.1)\r\n",
      "Requirement already satisfied: numpy in /opt/conda/lib/python3.10/site-packages (from pytorch_benchmark==0.3.4) (1.23.5)\r\n",
      "Requirement already satisfied: psutil>=5.9 in /opt/conda/lib/python3.10/site-packages (from pytorch_benchmark==0.3.4) (5.9.3)\r\n",
      "Collecting gputil>=1.4 (from pytorch_benchmark==0.3.4)\r\n",
      "  Downloading GPUtil-1.4.0.tar.gz (5.5 kB)\r\n",
      "  Preparing metadata (setup.py) ... \u001b[?25l-\b \b\\\b \bdone\r\n",
      "\u001b[?25hRequirement already satisfied: py-cpuinfo>=7.0 in /opt/conda/lib/python3.10/site-packages (from pytorch_benchmark==0.3.4) (9.0.0)\r\n",
      "Collecting pyyaml>=6.0 (from pytorch_benchmark==0.3.4)\r\n",
      "  Downloading PyYAML-6.0-cp310-cp310-manylinux_2_5_x86_64.manylinux1_x86_64.manylinux_2_12_x86_64.manylinux2010_x86_64.whl (682 kB)\r\n",
      "\u001b[2K     \u001b[90m━━━━━━━━━━━━━━━━━━━━━━━━━━━━━━━━━━━━━━\u001b[0m \u001b[32m682.2/682.2 kB\u001b[0m \u001b[31m17.1 MB/s\u001b[0m eta \u001b[36m0:00:00\u001b[0m\r\n",
      "\u001b[?25hRequirement already satisfied: typing-extensions in /opt/conda/lib/python3.10/site-packages (from torch>=1.6->pytorch_benchmark==0.3.4) (4.5.0)\r\n",
      "Building wheels for collected packages: gputil, ptflops\r\n",
      "  Building wheel for gputil (setup.py) ... \u001b[?25l-\b \b\\\b \b|\b \bdone\r\n",
      "\u001b[?25h  Created wheel for gputil: filename=GPUtil-1.4.0-py3-none-any.whl size=7409 sha256=91f79a1ffc664c91f2f740193b439fec17a52457f0f09b4d9dea2fac347bc27c\r\n",
      "  Stored in directory: /root/.cache/pip/wheels/a9/8a/bd/81082387151853ab8b6b3ef33426e98f5cbfebc3c397a9d4d0\r\n",
      "  Building wheel for ptflops (setup.py) ... \u001b[?25l-\b \b\\\b \bdone\r\n",
      "\u001b[?25h  Created wheel for ptflops: filename=ptflops-0.6.9-py3-none-any.whl size=11714 sha256=68ff5243497b16538a58bcbc7b62dc11ad14b4ee244f96ca880a5bc8cc6b6474\r\n",
      "  Stored in directory: /root/.cache/pip/wheels/d6/ef/a6/e822983afa401a9c37eb71a8ed4f16d2fd88654886195d1af5\r\n",
      "Successfully built gputil ptflops\r\n",
      "Installing collected packages: gputil, pyyaml, ptflops, pytorch_benchmark\r\n",
      "  Attempting uninstall: pyyaml\r\n",
      "    Found existing installation: PyYAML 5.4.1\r\n",
      "    Uninstalling PyYAML-5.4.1:\r\n",
      "      Successfully uninstalled PyYAML-5.4.1\r\n",
      "\u001b[31mERROR: pip's dependency resolver does not currently take into account all the packages that are installed. This behaviour is the source of the following dependency conflicts.\r\n",
      "dask-cudf 23.4.1 requires cupy-cuda11x<12.0.0a0,>=9.5.0, which is not installed.\r\n",
      "dask-cuda 23.4.0 requires dask==2023.3.2, but you have dask 2023.5.0 which is incompatible.\r\n",
      "dask-cudf 23.4.1 requires dask==2023.3.2, but you have dask 2023.5.0 which is incompatible.\r\n",
      "distributed 2023.3.2.1 requires dask==2023.3.2, but you have dask 2023.5.0 which is incompatible.\r\n",
      "jupyterlab-lsp 4.1.0 requires jupyter-lsp>=2.0.0, but you have jupyter-lsp 1.5.1 which is incompatible.\r\n",
      "kfp 1.8.21 requires google-api-python-client<2,>=1.7.8, but you have google-api-python-client 2.86.0 which is incompatible.\r\n",
      "kfp 1.8.21 requires PyYAML<6,>=5.3, but you have pyyaml 6.0 which is incompatible.\r\n",
      "raft-dask 23.4.1 requires dask==2023.3.2, but you have dask 2023.5.0 which is incompatible.\r\n",
      "ydata-profiling 4.1.2 requires scipy<1.10,>=1.4.1, but you have scipy 1.10.1 which is incompatible.\u001b[0m\u001b[31m\r\n",
      "\u001b[0mSuccessfully installed gputil-1.4.0 ptflops-0.6.9 pytorch_benchmark-0.3.4 pyyaml-6.0\r\n",
      "\u001b[33mWARNING: Running pip as the 'root' user can result in broken permissions and conflicting behaviour with the system package manager. It is recommended to use a virtual environment instead: https://pip.pypa.io/warnings/venv\u001b[0m\u001b[33m\r\n",
      "\u001b[0m"
     ]
    }
   ],
   "source": [
    "!pip install torch==1.12.1\n",
    "!pip install fastai==2.7.9\n",
    "!pip install pytorch_benchmark==0.3.4"
   ]
  },
  {
   "cell_type": "code",
   "execution_count": 2,
   "id": "4adec23d",
   "metadata": {
    "execution": {
     "iopub.execute_input": "2023-05-30T13:02:44.298158Z",
     "iopub.status.busy": "2023-05-30T13:02:44.297859Z",
     "iopub.status.idle": "2023-05-30T13:02:47.581604Z",
     "shell.execute_reply": "2023-05-30T13:02:47.580672Z"
    },
    "papermill": {
     "duration": 3.314004,
     "end_time": "2023-05-30T13:02:47.584420",
     "exception": false,
     "start_time": "2023-05-30T13:02:44.270416",
     "status": "completed"
    },
    "tags": []
   },
   "outputs": [
    {
     "name": "stderr",
     "output_type": "stream",
     "text": [
      "/opt/conda/lib/python3.10/site-packages/torchvision/io/image.py:13: UserWarning: Failed to load image Python extension: '/opt/conda/lib/python3.10/site-packages/torchvision/image.so: undefined symbol: _ZN3c104cuda20CUDACachingAllocator9allocatorE'If you don't plan on using image functionality from `torchvision.io`, you can ignore this warning. Otherwise, there might be something wrong with your environment. Did you have `libjpeg` or `libpng` installed before building `torchvision` from source?\n",
      "  warn(\n"
     ]
    }
   ],
   "source": [
    "from pytorch_benchmark import benchmark\n",
    "from fastai.vision.all import *\n",
    "import gc"
   ]
  },
  {
   "cell_type": "code",
   "execution_count": 3,
   "id": "4544f9c1",
   "metadata": {
    "execution": {
     "iopub.execute_input": "2023-05-30T13:02:47.640610Z",
     "iopub.status.busy": "2023-05-30T13:02:47.640285Z",
     "iopub.status.idle": "2023-05-30T13:02:50.823096Z",
     "shell.execute_reply": "2023-05-30T13:02:50.822223Z"
    },
    "papermill": {
     "duration": 3.212945,
     "end_time": "2023-05-30T13:02:50.825187",
     "exception": false,
     "start_time": "2023-05-30T13:02:47.612242",
     "status": "completed"
    },
    "tags": []
   },
   "outputs": [
    {
     "data": {
      "text/plain": [
       "VGG(\n",
       "  (features): Sequential(\n",
       "    (0): Conv2d(3, 32, kernel_size=(3, 3), stride=(1, 1), padding=(1, 1))\n",
       "    (1): BatchNorm2d(32, eps=1e-05, momentum=0.1, affine=True, track_running_stats=True)\n",
       "    (2): ReLU(inplace=True)\n",
       "    (3): Conv2d(32, 32, kernel_size=(3, 3), stride=(1, 1), padding=(1, 1))\n",
       "    (4): BatchNorm2d(32, eps=1e-05, momentum=0.1, affine=True, track_running_stats=True)\n",
       "    (5): ReLU(inplace=True)\n",
       "    (6): MaxPool2d(kernel_size=2, stride=2, padding=0, dilation=1, ceil_mode=False)\n",
       "    (7): Conv2d(32, 64, kernel_size=(3, 3), stride=(1, 1), padding=(1, 1))\n",
       "    (8): BatchNorm2d(64, eps=1e-05, momentum=0.1, affine=True, track_running_stats=True)\n",
       "    (9): ReLU(inplace=True)\n",
       "    (10): Conv2d(64, 64, kernel_size=(3, 3), stride=(1, 1), padding=(1, 1))\n",
       "    (11): BatchNorm2d(64, eps=1e-05, momentum=0.1, affine=True, track_running_stats=True)\n",
       "    (12): ReLU(inplace=True)\n",
       "    (13): MaxPool2d(kernel_size=2, stride=2, padding=0, dilation=1, ceil_mode=False)\n",
       "    (14): Conv2d(64, 128, kernel_size=(3, 3), stride=(1, 1), padding=(1, 1))\n",
       "    (15): BatchNorm2d(128, eps=1e-05, momentum=0.1, affine=True, track_running_stats=True)\n",
       "    (16): ReLU(inplace=True)\n",
       "    (17): Conv2d(128, 128, kernel_size=(3, 3), stride=(1, 1), padding=(1, 1))\n",
       "    (18): BatchNorm2d(128, eps=1e-05, momentum=0.1, affine=True, track_running_stats=True)\n",
       "    (19): ReLU(inplace=True)\n",
       "    (20): Conv2d(128, 128, kernel_size=(3, 3), stride=(1, 1), padding=(1, 1))\n",
       "    (21): BatchNorm2d(128, eps=1e-05, momentum=0.1, affine=True, track_running_stats=True)\n",
       "    (22): ReLU(inplace=True)\n",
       "    (23): MaxPool2d(kernel_size=2, stride=2, padding=0, dilation=1, ceil_mode=False)\n",
       "    (24): Conv2d(128, 256, kernel_size=(3, 3), stride=(1, 1), padding=(1, 1))\n",
       "    (25): BatchNorm2d(256, eps=1e-05, momentum=0.1, affine=True, track_running_stats=True)\n",
       "    (26): ReLU(inplace=True)\n",
       "    (27): Conv2d(256, 256, kernel_size=(3, 3), stride=(1, 1), padding=(1, 1))\n",
       "    (28): BatchNorm2d(256, eps=1e-05, momentum=0.1, affine=True, track_running_stats=True)\n",
       "    (29): ReLU(inplace=True)\n",
       "    (30): Conv2d(256, 256, kernel_size=(3, 3), stride=(1, 1), padding=(1, 1))\n",
       "    (31): BatchNorm2d(256, eps=1e-05, momentum=0.1, affine=True, track_running_stats=True)\n",
       "    (32): ReLU(inplace=True)\n",
       "    (33): MaxPool2d(kernel_size=2, stride=2, padding=0, dilation=1, ceil_mode=False)\n",
       "    (34): Conv2d(256, 256, kernel_size=(3, 3), stride=(1, 1), padding=(1, 1))\n",
       "    (35): BatchNorm2d(256, eps=1e-05, momentum=0.1, affine=True, track_running_stats=True)\n",
       "    (36): ReLU(inplace=True)\n",
       "    (37): Conv2d(256, 256, kernel_size=(3, 3), stride=(1, 1), padding=(1, 1))\n",
       "    (38): BatchNorm2d(256, eps=1e-05, momentum=0.1, affine=True, track_running_stats=True)\n",
       "    (39): ReLU(inplace=True)\n",
       "    (40): Conv2d(256, 256, kernel_size=(3, 3), stride=(1, 1), padding=(1, 1))\n",
       "    (41): BatchNorm2d(256, eps=1e-05, momentum=0.1, affine=True, track_running_stats=True)\n",
       "    (42): ReLU(inplace=True)\n",
       "    (43): MaxPool2d(kernel_size=2, stride=2, padding=0, dilation=1, ceil_mode=False)\n",
       "  )\n",
       "  (avgpool): AdaptiveAvgPool2d(output_size=(7, 7))\n",
       "  (classifier): Sequential(\n",
       "    (0): Linear(in_features=12544, out_features=4096, bias=True)\n",
       "    (1): ReLU(inplace=True)\n",
       "    (2): Dropout(p=0.5, inplace=False)\n",
       "    (3): Linear(in_features=4096, out_features=4096, bias=True)\n",
       "    (4): ReLU(inplace=True)\n",
       "    (5): Dropout(p=0.5, inplace=False)\n",
       "    (6): Linear(in_features=4096, out_features=10, bias=True)\n",
       "  )\n",
       ")"
      ]
     },
     "execution_count": 3,
     "metadata": {},
     "output_type": "execute_result"
    }
   ],
   "source": [
    "# Create your learner and load your model       \n",
    "model = load_learner(\"/kaggle/input/t4dataset/VGG16_bn_sparsity50_pruned.pkl\")\n",
    "\n",
    "# Set the model to evaluation mode\n",
    "model.eval()"
   ]
  },
  {
   "cell_type": "code",
   "execution_count": 4,
   "id": "18ab97d3",
   "metadata": {
    "execution": {
     "iopub.execute_input": "2023-05-30T13:02:50.880549Z",
     "iopub.status.busy": "2023-05-30T13:02:50.880199Z",
     "iopub.status.idle": "2023-05-30T13:03:30.392175Z",
     "shell.execute_reply": "2023-05-30T13:03:30.391304Z"
    },
    "papermill": {
     "duration": 39.542328,
     "end_time": "2023-05-30T13:03:30.394940",
     "exception": false,
     "start_time": "2023-05-30T13:02:50.852612",
     "status": "completed"
    },
    "tags": []
   },
   "outputs": [
    {
     "name": "stderr",
     "output_type": "stream",
     "text": [
      "Warming up with batch_size=1: 100%|██████████| 1/1 [00:00<00:00, 21.72it/s]\n"
     ]
    },
    {
     "name": "stdout",
     "output_type": "stream",
     "text": [
      "Warning! No positional inputs found for a module, assuming batch size is 1.\n"
     ]
    },
    {
     "name": "stderr",
     "output_type": "stream",
     "text": [
      "Warming up with batch_size=1: 100%|██████████| 100/100 [00:03<00:00, 29.45it/s]\n",
      "Measuring inference for batch_size=1: 100%|██████████| 1000/1000 [00:34<00:00, 28.77it/s]\n"
     ]
    }
   ],
   "source": [
    "# Make predictions on multiple batches of data and measure the time\n",
    "sample = torch.randn(1, 3, 64, 64)  # (B, C, H, W)\n",
    "results = benchmark(model.model, sample, num_runs=1000)"
   ]
  },
  {
   "cell_type": "code",
   "execution_count": 5,
   "id": "b381dff5",
   "metadata": {
    "execution": {
     "iopub.execute_input": "2023-05-30T13:03:30.500911Z",
     "iopub.status.busy": "2023-05-30T13:03:30.500571Z",
     "iopub.status.idle": "2023-05-30T13:03:30.507616Z",
     "shell.execute_reply": "2023-05-30T13:03:30.506755Z"
    },
    "papermill": {
     "duration": 0.062454,
     "end_time": "2023-05-30T13:03:30.509529",
     "exception": false,
     "start_time": "2023-05-30T13:03:30.447075",
     "status": "completed"
    },
    "tags": []
   },
   "outputs": [
    {
     "data": {
      "text/plain": [
       "{'machine_info': {'system': {'system': 'Linux',\n",
       "   'node': 'b0912920603e',\n",
       "   'release': '5.15.109+'},\n",
       "  'cpu': {'model': 'Intel(R) Xeon(R) CPU @ 2.00GHz',\n",
       "   'architecture': 'x86_64',\n",
       "   'cores': {'physical': 1, 'total': 2},\n",
       "   'frequency': '0.00 GHz'},\n",
       "  'memory': {'total': '15.63 GB', 'used': '1.04 GB', 'available': '14.26 GB'},\n",
       "  'gpus': [{'name': 'Tesla P100-PCIE-16GB', 'memory': '16280.0 MB'}]},\n",
       " 'device': 'cpu',\n",
       " 'params': 71890986,\n",
       " 'flops': 385643530,\n",
       " 'timing': {'batch_size_1': {'on_device_inference': {'metrics': {'batches_per_second_mean': 29.314272369082996,\n",
       "     'batches_per_second_std': 2.0456629329701332,\n",
       "     'batches_per_second_min': 12.201718124085447,\n",
       "     'batches_per_second_max': 32.19898358692481,\n",
       "     'seconds_per_batch_mean': 0.03435867810249329,\n",
       "     'seconds_per_batch_std': 0.0036831410500409397,\n",
       "     'seconds_per_batch_min': 0.031056880950927734,\n",
       "     'seconds_per_batch_max': 0.0819556713104248},\n",
       "    'human_readable': {'batches_per_second': '29.31 +/- 2.05 [12.20, 32.20]',\n",
       "     'batch_latency': '34.359 ms +/- 3.683 ms [31.057 ms, 81.956 ms]'}}}}}"
      ]
     },
     "execution_count": 5,
     "metadata": {},
     "output_type": "execute_result"
    }
   ],
   "source": [
    "results"
   ]
  }
 ],
 "metadata": {
  "kernelspec": {
   "display_name": "Python 3",
   "language": "python",
   "name": "python3"
  },
  "language_info": {
   "codemirror_mode": {
    "name": "ipython",
    "version": 3
   },
   "file_extension": ".py",
   "mimetype": "text/x-python",
   "name": "python",
   "nbconvert_exporter": "python",
   "pygments_lexer": "ipython3",
   "version": "3.10.10"
  },
  "papermill": {
   "default_parameters": {},
   "duration": 151.882394,
   "end_time": "2023-05-30T13:03:31.785068",
   "environment_variables": {},
   "exception": null,
   "input_path": "__notebook__.ipynb",
   "output_path": "__notebook__.ipynb",
   "parameters": {},
   "start_time": "2023-05-30T13:00:59.902674",
   "version": "2.4.0"
  }
 },
 "nbformat": 4,
 "nbformat_minor": 5
}
