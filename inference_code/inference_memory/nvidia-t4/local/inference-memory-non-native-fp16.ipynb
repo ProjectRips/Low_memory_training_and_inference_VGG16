{
 "cells": [
  {
   "cell_type": "code",
   "execution_count": 1,
   "id": "4e76b4cf",
   "metadata": {
    "execution": {
     "iopub.execute_input": "2023-05-28T13:48:45.619851Z",
     "iopub.status.busy": "2023-05-28T13:48:45.619415Z",
     "iopub.status.idle": "2023-05-28T13:52:26.998254Z",
     "shell.execute_reply": "2023-05-28T13:52:26.996979Z"
    },
    "papermill": {
     "duration": 221.3854,
     "end_time": "2023-05-28T13:52:27.000998",
     "exception": false,
     "start_time": "2023-05-28T13:48:45.615598",
     "status": "completed"
    },
    "tags": []
   },
   "outputs": [
    {
     "name": "stdout",
     "output_type": "stream",
     "text": [
      "time: 0 ns (started: 2023-05-29 16:35:49 +07:00)\n"
     ]
    }
   ],
   "source": [
    "%load_ext autotime"
   ]
  },
  {
   "cell_type": "code",
   "execution_count": 2,
   "id": "64e57f09",
   "metadata": {
    "execution": {
     "iopub.execute_input": "2023-05-28T13:52:27.183251Z",
     "iopub.status.busy": "2023-05-28T13:52:27.182517Z",
     "iopub.status.idle": "2023-05-28T13:52:30.912164Z",
     "shell.execute_reply": "2023-05-28T13:52:30.910386Z"
    },
    "papermill": {
     "duration": 3.821578,
     "end_time": "2023-05-28T13:52:30.914289",
     "exception": false,
     "start_time": "2023-05-28T13:52:27.092711",
     "status": "completed"
    },
    "tags": []
   },
   "outputs": [
    {
     "name": "stdout",
     "output_type": "stream",
     "text": [
      "time: 5.25 s (started: 2023-05-29 16:35:49 +07:00)\n"
     ]
    }
   ],
   "source": [
    "import numpy as np\n",
    "from fairscale.experimental.tooling.layer_memory_tracker import LayerwiseMemoryTracker\n",
    "from fastai.vision.all import *"
   ]
  },
  {
   "cell_type": "code",
   "execution_count": 3,
   "id": "54b3242c",
   "metadata": {},
   "outputs": [
    {
     "name": "stdout",
     "output_type": "stream",
     "text": [
      "time: 0 ns (started: 2023-05-29 16:35:54 +07:00)\n"
     ]
    }
   ],
   "source": [
    "import pathlib\n",
    "temp = pathlib.PosixPath\n",
    "pathlib.PosixPath = pathlib.WindowsPath"
   ]
  },
  {
   "cell_type": "code",
   "execution_count": 4,
   "id": "dab273e1",
   "metadata": {
    "execution": {
     "iopub.execute_input": "2023-05-28T13:52:31.078099Z",
     "iopub.status.busy": "2023-05-28T13:52:31.077743Z",
     "iopub.status.idle": "2023-05-28T13:52:37.796335Z",
     "shell.execute_reply": "2023-05-28T13:52:37.795392Z"
    },
    "papermill": {
     "duration": 6.801718,
     "end_time": "2023-05-28T13:52:37.798377",
     "exception": false,
     "start_time": "2023-05-28T13:52:30.996659",
     "status": "completed"
    },
    "tags": []
   },
   "outputs": [
    {
     "name": "stdout",
     "output_type": "stream",
     "text": [
      "time: 2.03 s (started: 2023-05-29 16:35:54 +07:00)\n"
     ]
    }
   ],
   "source": [
    "# Set the size of the image\n",
    "img_size = (64, 64)\n",
    "\n",
    "def create_random_data():\n",
    "    # Generate a random NumPy array\n",
    "    rand_arr = np.random.rand(*img_size, 3) * 255\n",
    "    rand_arr = rand_arr.astype(np.uint8)\n",
    "    return rand_arr\n",
    "\n",
    "def get_model_file_size(model): \n",
    "    param_size = 0\n",
    "    for param in model.parameters():\n",
    "        param_size += param.nelement() * param.element_size()\n",
    "\n",
    "    model_size = param_size\n",
    "    print('Model size: {} Byte'.format(model_size))\n",
    "\n",
    "# Create your learner and load your model\n",
    "model = load_learner(\"../../../../model/nvidia-t4/VGG16_bn_non_native_fp16.pkl\")\n",
    "\n",
    "get_model_file_size(model.model)\n",
    "\n",
    "# Set the model to evaluation mode\n",
    "model.eval()\n",
    "\n",
    "\n",
    "# Get activation memory\n",
    "tracker = LayerwiseMemoryTracker()\n",
    "tracker.monitor(model)\n",
    "\n",
    "x = create_random_data()\n",
    "preds = model.predict(x)\n",
    "\n",
    "\n",
    "tracker.stop()\n"
   ]
  },
  {
   "cell_type": "code",
   "execution_count": 5,
   "id": "4ba85e5b",
   "metadata": {
    "execution": {
     "iopub.execute_input": "2023-05-28T13:52:37.963449Z",
     "iopub.status.busy": "2023-05-28T13:52:37.963082Z",
     "iopub.status.idle": "2023-05-28T13:52:37.968265Z",
     "shell.execute_reply": "2023-05-28T13:52:37.967409Z"
    },
    "papermill": {
     "duration": 0.089079,
     "end_time": "2023-05-28T13:52:37.970687",
     "exception": false,
     "start_time": "2023-05-28T13:52:37.881608",
     "status": "completed"
    },
    "tags": []
   },
   "outputs": [
    {
     "name": "stdout",
     "output_type": "stream",
     "text": [
      "Activation Memory: 9480232 Byte\n",
      "time: 0 ns (started: 2023-05-29 16:35:56 +07:00)\n"
     ]
    }
   ],
   "source": [
    "forward_act = sum(t.event.memory_activations for t in tracker.forward_traces) \n",
    "print(f\"Activation Memory: {forward_act} Byte\")"
   ]
  }
 ],
 "metadata": {
  "kernelspec": {
   "display_name": "Python 3",
   "language": "python",
   "name": "python3"
  },
  "language_info": {
   "codemirror_mode": {
    "name": "ipython",
    "version": 3
   },
   "file_extension": ".py",
   "mimetype": "text/x-python",
   "name": "python",
   "nbconvert_exporter": "python",
   "pygments_lexer": "ipython3",
   "version": "3.8.1"
  },
  "papermill": {
   "default_parameters": {},
   "duration": 244.310722,
   "end_time": "2023-05-28T13:52:39.271157",
   "environment_variables": {},
   "exception": null,
   "input_path": "__notebook__.ipynb",
   "output_path": "__notebook__.ipynb",
   "parameters": {},
   "start_time": "2023-05-28T13:48:34.960435",
   "version": "2.4.0"
  }
 },
 "nbformat": 4,
 "nbformat_minor": 5
}
