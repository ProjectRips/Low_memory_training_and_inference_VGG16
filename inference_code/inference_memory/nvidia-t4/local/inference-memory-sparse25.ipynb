{
 "cells": [
  {
   "cell_type": "code",
   "execution_count": 1,
   "id": "1197663c",
   "metadata": {
    "execution": {
     "iopub.execute_input": "2023-05-28T13:21:40.910763Z",
     "iopub.status.busy": "2023-05-28T13:21:40.909754Z",
     "iopub.status.idle": "2023-05-28T13:25:22.103489Z",
     "shell.execute_reply": "2023-05-28T13:25:22.102195Z"
    },
    "papermill": {
     "duration": 221.200036,
     "end_time": "2023-05-28T13:25:22.105788",
     "exception": false,
     "start_time": "2023-05-28T13:21:40.905752",
     "status": "completed"
    },
    "tags": []
   },
   "outputs": [
    {
     "name": "stdout",
     "output_type": "stream",
     "text": [
      "time: 0 ns (started: 2023-05-29 16:41:06 +07:00)\n"
     ]
    }
   ],
   "source": [
    "%load_ext autotime"
   ]
  },
  {
   "cell_type": "code",
   "execution_count": 2,
   "id": "806a9f69",
   "metadata": {
    "execution": {
     "iopub.execute_input": "2023-05-28T13:25:22.267640Z",
     "iopub.status.busy": "2023-05-28T13:25:22.267282Z",
     "iopub.status.idle": "2023-05-28T13:25:26.053234Z",
     "shell.execute_reply": "2023-05-28T13:25:26.052112Z"
    },
    "papermill": {
     "duration": 3.869523,
     "end_time": "2023-05-28T13:25:26.055377",
     "exception": false,
     "start_time": "2023-05-28T13:25:22.185854",
     "status": "completed"
    },
    "tags": []
   },
   "outputs": [
    {
     "name": "stdout",
     "output_type": "stream",
     "text": [
      "time: 5.34 s (started: 2023-05-29 16:41:06 +07:00)\n"
     ]
    }
   ],
   "source": [
    "import numpy as np\n",
    "from fairscale.experimental.tooling.layer_memory_tracker import LayerwiseMemoryTracker\n",
    "from fastai.vision.all import *"
   ]
  },
  {
   "cell_type": "code",
   "execution_count": 3,
   "id": "1dcf5715",
   "metadata": {},
   "outputs": [
    {
     "name": "stdout",
     "output_type": "stream",
     "text": [
      "time: 0 ns (started: 2023-05-29 16:41:12 +07:00)\n"
     ]
    }
   ],
   "source": [
    "import pathlib\n",
    "temp = pathlib.PosixPath\n",
    "pathlib.PosixPath = pathlib.WindowsPath"
   ]
  },
  {
   "cell_type": "code",
   "execution_count": 4,
   "id": "06d0c6a4",
   "metadata": {
    "execution": {
     "iopub.execute_input": "2023-05-28T13:25:26.221861Z",
     "iopub.status.busy": "2023-05-28T13:25:26.220866Z",
     "iopub.status.idle": "2023-05-28T13:25:29.897272Z",
     "shell.execute_reply": "2023-05-28T13:25:29.896343Z"
    },
    "papermill": {
     "duration": 3.76371,
     "end_time": "2023-05-28T13:25:29.899386",
     "exception": false,
     "start_time": "2023-05-28T13:25:26.135676",
     "status": "completed"
    },
    "tags": []
   },
   "outputs": [
    {
     "name": "stdout",
     "output_type": "stream",
     "text": [
      "time: 1.69 s (started: 2023-05-29 16:41:12 +07:00)\n"
     ]
    }
   ],
   "source": [
    "# Set the size of the image\n",
    "img_size = (64, 64)\n",
    "\n",
    "def create_random_data():\n",
    "    # Generate a random NumPy array\n",
    "    rand_arr = np.random.rand(*img_size, 3) * 255\n",
    "    rand_arr = rand_arr.astype(np.uint8)\n",
    "    return rand_arr\n",
    "\n",
    "def get_model_file_size(model): \n",
    "    param_size = 0\n",
    "    for param in model.parameters():\n",
    "        param_size += param.nelement() * param.element_size()\n",
    "\n",
    "    model_size = param_size\n",
    "    print('Model size: {} Byte'.format(model_size))\n",
    "\n",
    "# Create your learner and load your model\n",
    "model = load_learner(\"../../../../model/nvidia-t4/VGG16_bn_sparsity25_pruned.pkl\")\n",
    "\n",
    "get_model_file_size(model.model)\n",
    "\n",
    "# Set the model to evaluation mode\n",
    "model.eval()\n",
    "\n",
    "\n",
    "# Get activation memory\n",
    "tracker = LayerwiseMemoryTracker()\n",
    "tracker.monitor(model)\n",
    "\n",
    "x = create_random_data()\n",
    "preds = model.predict(x)\n",
    "\n",
    "\n",
    "tracker.stop()\n"
   ]
  },
  {
   "cell_type": "code",
   "execution_count": 5,
   "id": "93756b5c",
   "metadata": {
    "execution": {
     "iopub.execute_input": "2023-05-28T13:25:30.066957Z",
     "iopub.status.busy": "2023-05-28T13:25:30.066305Z",
     "iopub.status.idle": "2023-05-28T13:25:30.072257Z",
     "shell.execute_reply": "2023-05-28T13:25:30.071409Z"
    },
    "papermill": {
     "duration": 0.092018,
     "end_time": "2023-05-28T13:25:30.074515",
     "exception": false,
     "start_time": "2023-05-28T13:25:29.982497",
     "status": "completed"
    },
    "tags": []
   },
   "outputs": [
    {
     "name": "stdout",
     "output_type": "stream",
     "text": [
      "Activation Memory: 7118376 Byte\n",
      "time: 0 ns (started: 2023-05-29 16:41:14 +07:00)\n"
     ]
    }
   ],
   "source": [
    "forward_act = sum(t.event.memory_activations for t in tracker.forward_traces) \n",
    "print(f\"Activation Memory: {forward_act} Byte\")"
   ]
  }
 ],
 "metadata": {
  "kernelspec": {
   "display_name": "Python 3",
   "language": "python",
   "name": "python3"
  },
  "language_info": {
   "codemirror_mode": {
    "name": "ipython",
    "version": 3
   },
   "file_extension": ".py",
   "mimetype": "text/x-python",
   "name": "python",
   "nbconvert_exporter": "python",
   "pygments_lexer": "ipython3",
   "version": "3.8.1"
  },
  "papermill": {
   "default_parameters": {},
   "duration": 241.394646,
   "end_time": "2023-05-28T13:25:31.579001",
   "environment_variables": {},
   "exception": null,
   "input_path": "__notebook__.ipynb",
   "output_path": "__notebook__.ipynb",
   "parameters": {},
   "start_time": "2023-05-28T13:21:30.184355",
   "version": "2.4.0"
  }
 },
 "nbformat": 4,
 "nbformat_minor": 5
}
