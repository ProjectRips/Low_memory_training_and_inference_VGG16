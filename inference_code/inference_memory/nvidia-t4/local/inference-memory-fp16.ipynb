{
 "cells": [
  {
   "cell_type": "code",
   "execution_count": 1,
   "id": "b92c30a5",
   "metadata": {
    "execution": {
     "iopub.execute_input": "2023-05-28T13:38:04.206867Z",
     "iopub.status.busy": "2023-05-28T13:38:04.205811Z",
     "iopub.status.idle": "2023-05-28T13:41:39.727896Z",
     "shell.execute_reply": "2023-05-28T13:41:39.726799Z"
    },
    "papermill": {
     "duration": 215.528039,
     "end_time": "2023-05-28T13:41:39.730032",
     "exception": false,
     "start_time": "2023-05-28T13:38:04.201993",
     "status": "completed"
    },
    "tags": []
   },
   "outputs": [
    {
     "name": "stdout",
     "output_type": "stream",
     "text": [
      "time: 0 ns (started: 2023-06-09 16:08:51 +07:00)\n"
     ]
    }
   ],
   "source": [
    "%load_ext autotime"
   ]
  },
  {
   "cell_type": "code",
   "execution_count": 2,
   "id": "9e8d139c",
   "metadata": {
    "execution": {
     "iopub.execute_input": "2023-05-28T13:41:39.884402Z",
     "iopub.status.busy": "2023-05-28T13:41:39.883499Z",
     "iopub.status.idle": "2023-05-28T13:41:43.241565Z",
     "shell.execute_reply": "2023-05-28T13:41:43.239558Z"
    },
    "papermill": {
     "duration": 3.437114,
     "end_time": "2023-05-28T13:41:43.243751",
     "exception": false,
     "start_time": "2023-05-28T13:41:39.806637",
     "status": "completed"
    },
    "tags": []
   },
   "outputs": [
    {
     "name": "stdout",
     "output_type": "stream",
     "text": [
      "time: 12 s (started: 2023-06-09 16:08:51 +07:00)\n"
     ]
    }
   ],
   "source": [
    "import numpy as np\n",
    "from fairscale.experimental.tooling.layer_memory_tracker import LayerwiseMemoryTracker\n",
    "from fastai.vision.all import *"
   ]
  },
  {
   "cell_type": "code",
   "execution_count": 3,
   "id": "50260913",
   "metadata": {},
   "outputs": [
    {
     "name": "stdout",
     "output_type": "stream",
     "text": [
      "time: 0 ns (started: 2023-06-09 16:09:03 +07:00)\n"
     ]
    }
   ],
   "source": [
    "import pathlib\n",
    "temp = pathlib.PosixPath\n",
    "pathlib.PosixPath = pathlib.WindowsPath"
   ]
  },
  {
   "cell_type": "code",
   "execution_count": 4,
   "id": "183b7bd1",
   "metadata": {
    "execution": {
     "iopub.execute_input": "2023-05-28T13:41:43.398145Z",
     "iopub.status.busy": "2023-05-28T13:41:43.397839Z",
     "iopub.status.idle": "2023-05-28T13:41:47.873094Z",
     "shell.execute_reply": "2023-05-28T13:41:47.872139Z"
    },
    "papermill": {
     "duration": 4.554526,
     "end_time": "2023-05-28T13:41:47.875239",
     "exception": false,
     "start_time": "2023-05-28T13:41:43.320713",
     "status": "completed"
    },
    "tags": []
   },
   "outputs": [
    {
     "name": "stdout",
     "output_type": "stream",
     "text": [
      "Model size: 537239848 Byte\n"
     ]
    },
    {
     "data": {
      "text/html": [
       "\n",
       "<style>\n",
       "    /* Turns off some styling */\n",
       "    progress {\n",
       "        /* gets rid of default border in Firefox and Opera. */\n",
       "        border: none;\n",
       "        /* Needs to be in here for Safari polyfill so background images work as expected. */\n",
       "        background-size: auto;\n",
       "    }\n",
       "    progress:not([value]), progress:not([value])::-webkit-progress-bar {\n",
       "        background: repeating-linear-gradient(45deg, #7e7e7e, #7e7e7e 10px, #5c5c5c 10px, #5c5c5c 20px);\n",
       "    }\n",
       "    .progress-bar-interrupted, .progress-bar-interrupted::-webkit-progress-bar {\n",
       "        background: #F44336;\n",
       "    }\n",
       "</style>\n"
      ],
      "text/plain": [
       "<IPython.core.display.HTML object>"
      ]
     },
     "metadata": {},
     "output_type": "display_data"
    },
    {
     "data": {
      "text/html": [],
      "text/plain": [
       "<IPython.core.display.HTML object>"
      ]
     },
     "metadata": {},
     "output_type": "display_data"
    },
    {
     "name": "stdout",
     "output_type": "stream",
     "text": [
      "time: 3.11 s (started: 2023-06-09 16:09:03 +07:00)\n"
     ]
    }
   ],
   "source": [
    "# Set the size of the image\n",
    "img_size = (64, 64)\n",
    "\n",
    "def create_random_data():\n",
    "    # Generate a random NumPy array\n",
    "    rand_arr = np.random.rand(*img_size, 3) * 255\n",
    "    rand_arr = rand_arr.astype(np.uint8)\n",
    "    return rand_arr\n",
    "\n",
    "def get_model_file_size(model): \n",
    "    param_size = 0\n",
    "    for param in model.parameters():\n",
    "        param_size += param.nelement() * param.element_size()\n",
    "\n",
    "    model_size = param_size\n",
    "    print('Model size: {} Byte'.format(model_size))\n",
    "\n",
    "# Create your learner and load your model\n",
    "model = load_learner(\"../../../../../model/nvidia-t4/VGG16_bn_fp16.pkl\")\n",
    "\n",
    "get_model_file_size(model.model)\n",
    "\n",
    "# Set the model to evaluation mode\n",
    "model.eval()\n",
    "\n",
    "\n",
    "# Get activation memory\n",
    "tracker = LayerwiseMemoryTracker()\n",
    "tracker.monitor(model)\n",
    "\n",
    "x = create_random_data()\n",
    "preds = model.predict(x)\n",
    "\n",
    "\n",
    "tracker.stop()\n"
   ]
  },
  {
   "cell_type": "code",
   "execution_count": 5,
   "id": "7193e085",
   "metadata": {
    "execution": {
     "iopub.execute_input": "2023-05-28T13:41:48.035361Z",
     "iopub.status.busy": "2023-05-28T13:41:48.035001Z",
     "iopub.status.idle": "2023-05-28T13:41:48.040315Z",
     "shell.execute_reply": "2023-05-28T13:41:48.039443Z"
    },
    "papermill": {
     "duration": 0.087955,
     "end_time": "2023-05-28T13:41:48.042674",
     "exception": false,
     "start_time": "2023-05-28T13:41:47.954719",
     "status": "completed"
    },
    "tags": []
   },
   "outputs": [
    {
     "name": "stdout",
     "output_type": "stream",
     "text": [
      "Activation Memory: 9480232 Byte\n",
      "time: 0 ns (started: 2023-06-09 16:09:06 +07:00)\n"
     ]
    }
   ],
   "source": [
    "forward_act = sum(t.event.memory_activations for t in tracker.forward_traces) \n",
    "print(f\"Activation Memory: {forward_act} Byte\")"
   ]
  }
 ],
 "metadata": {
  "kernelspec": {
   "display_name": "Python 3",
   "language": "python",
   "name": "python3"
  },
  "language_info": {
   "codemirror_mode": {
    "name": "ipython",
    "version": 3
   },
   "file_extension": ".py",
   "mimetype": "text/x-python",
   "name": "python",
   "nbconvert_exporter": "python",
   "pygments_lexer": "ipython3",
   "version": "3.8.1"
  },
  "papermill": {
   "default_parameters": {},
   "duration": 235.224472,
   "end_time": "2023-05-28T13:41:49.443948",
   "environment_variables": {},
   "exception": null,
   "input_path": "__notebook__.ipynb",
   "output_path": "__notebook__.ipynb",
   "parameters": {},
   "start_time": "2023-05-28T13:37:54.219476",
   "version": "2.4.0"
  }
 },
 "nbformat": 4,
 "nbformat_minor": 5
}
