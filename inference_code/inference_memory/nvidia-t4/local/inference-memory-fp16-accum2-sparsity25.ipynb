{
 "cells": [
  {
   "cell_type": "code",
   "execution_count": 1,
   "id": "954793ee",
   "metadata": {
    "execution": {
     "iopub.execute_input": "2023-05-28T13:54:41.108797Z",
     "iopub.status.busy": "2023-05-28T13:54:41.108350Z",
     "iopub.status.idle": "2023-05-28T13:58:18.557395Z",
     "shell.execute_reply": "2023-05-28T13:58:18.555962Z"
    },
    "papermill": {
     "duration": 217.454931,
     "end_time": "2023-05-28T13:58:18.559616",
     "exception": false,
     "start_time": "2023-05-28T13:54:41.104685",
     "status": "completed"
    },
    "tags": []
   },
   "outputs": [
    {
     "name": "stdout",
     "output_type": "stream",
     "text": [
      "time: 0 ns (started: 2023-05-29 16:33:48 +07:00)\n"
     ]
    }
   ],
   "source": [
    "%load_ext autotime"
   ]
  },
  {
   "cell_type": "code",
   "execution_count": 2,
   "id": "b74c2f10",
   "metadata": {
    "execution": {
     "iopub.execute_input": "2023-05-28T13:58:18.707695Z",
     "iopub.status.busy": "2023-05-28T13:58:18.706954Z",
     "iopub.status.idle": "2023-05-28T13:58:22.645407Z",
     "shell.execute_reply": "2023-05-28T13:58:22.644443Z"
    },
    "papermill": {
     "duration": 4.015167,
     "end_time": "2023-05-28T13:58:22.647658",
     "exception": false,
     "start_time": "2023-05-28T13:58:18.632491",
     "status": "completed"
    },
    "tags": []
   },
   "outputs": [
    {
     "name": "stdout",
     "output_type": "stream",
     "text": [
      "time: 6.7 s (started: 2023-05-29 16:33:48 +07:00)\n"
     ]
    }
   ],
   "source": [
    "import numpy as np\n",
    "from fairscale.experimental.tooling.layer_memory_tracker import LayerwiseMemoryTracker\n",
    "from fastai.vision.all import *"
   ]
  },
  {
   "cell_type": "code",
   "execution_count": 3,
   "id": "0db2917e",
   "metadata": {},
   "outputs": [
    {
     "name": "stdout",
     "output_type": "stream",
     "text": [
      "time: 15 ms (started: 2023-05-29 16:33:54 +07:00)\n"
     ]
    }
   ],
   "source": [
    "import pathlib\n",
    "temp = pathlib.PosixPath\n",
    "pathlib.PosixPath = pathlib.WindowsPath"
   ]
  },
  {
   "cell_type": "code",
   "execution_count": 4,
   "id": "1594bc90",
   "metadata": {
    "execution": {
     "iopub.execute_input": "2023-05-28T13:58:22.794378Z",
     "iopub.status.busy": "2023-05-28T13:58:22.792891Z",
     "iopub.status.idle": "2023-05-28T13:58:26.980931Z",
     "shell.execute_reply": "2023-05-28T13:58:26.980039Z"
    },
    "papermill": {
     "duration": 4.262821,
     "end_time": "2023-05-28T13:58:26.982883",
     "exception": false,
     "start_time": "2023-05-28T13:58:22.720062",
     "status": "completed"
    },
    "tags": []
   },
   "outputs": [
    {
     "name": "stdout",
     "output_type": "stream",
     "text": [
      "time: 1.58 s (started: 2023-05-29 16:33:54 +07:00)\n"
     ]
    }
   ],
   "source": [
    "# Set the size of the image\n",
    "img_size = (64, 64)\n",
    "\n",
    "def create_random_data():\n",
    "    # Generate a random NumPy array\n",
    "    rand_arr = np.random.rand(*img_size, 3) * 255\n",
    "    rand_arr = rand_arr.astype(np.uint8)\n",
    "    return rand_arr\n",
    "\n",
    "def get_model_file_size(model): \n",
    "    param_size = 0\n",
    "    for param in model.parameters():\n",
    "        param_size += param.nelement() * param.element_size()\n",
    "\n",
    "    model_size = param_size\n",
    "    print('Model size: {} Byte'.format(model_size))\n",
    "\n",
    "# Create your learner and load your model\n",
    "model = load_learner(\"../../../../model/nvidia-t4/VGG16_bn_fp16_accum2_sparsity25_pruned.pkl\")\n",
    "\n",
    "get_model_file_size(model.model)\n",
    "\n",
    "# Set the model to evaluation mode\n",
    "model.eval()\n",
    "\n",
    "\n",
    "# Get activation memory\n",
    "tracker = LayerwiseMemoryTracker()\n",
    "tracker.monitor(model)\n",
    "\n",
    "x = create_random_data()\n",
    "preds = model.predict(x)\n",
    "\n",
    "\n",
    "tracker.stop()\n"
   ]
  },
  {
   "cell_type": "code",
   "execution_count": 5,
   "id": "f69c4f22",
   "metadata": {
    "execution": {
     "iopub.execute_input": "2023-05-28T13:58:27.131666Z",
     "iopub.status.busy": "2023-05-28T13:58:27.130653Z",
     "iopub.status.idle": "2023-05-28T13:58:27.136462Z",
     "shell.execute_reply": "2023-05-28T13:58:27.135454Z"
    },
    "papermill": {
     "duration": 0.08286,
     "end_time": "2023-05-28T13:58:27.139495",
     "exception": false,
     "start_time": "2023-05-28T13:58:27.056635",
     "status": "completed"
    },
    "tags": []
   },
   "outputs": [
    {
     "name": "stdout",
     "output_type": "stream",
     "text": [
      "Activation Memory: 7118376 Byte\n",
      "time: 0 ns (started: 2023-05-29 16:33:56 +07:00)\n"
     ]
    }
   ],
   "source": [
    "forward_act = sum(t.event.memory_activations for t in tracker.forward_traces) \n",
    "print(f\"Activation Memory: {forward_act} Byte\")"
   ]
  }
 ],
 "metadata": {
  "kernelspec": {
   "display_name": "Python 3",
   "language": "python",
   "name": "python3"
  },
  "language_info": {
   "codemirror_mode": {
    "name": "ipython",
    "version": 3
   },
   "file_extension": ".py",
   "mimetype": "text/x-python",
   "name": "python",
   "nbconvert_exporter": "python",
   "pygments_lexer": "ipython3",
   "version": "3.8.1"
  },
  "papermill": {
   "default_parameters": {},
   "duration": 238.123206,
   "end_time": "2023-05-28T13:58:28.534664",
   "environment_variables": {},
   "exception": null,
   "input_path": "__notebook__.ipynb",
   "output_path": "__notebook__.ipynb",
   "parameters": {},
   "start_time": "2023-05-28T13:54:30.411458",
   "version": "2.4.0"
  }
 },
 "nbformat": 4,
 "nbformat_minor": 5
}
