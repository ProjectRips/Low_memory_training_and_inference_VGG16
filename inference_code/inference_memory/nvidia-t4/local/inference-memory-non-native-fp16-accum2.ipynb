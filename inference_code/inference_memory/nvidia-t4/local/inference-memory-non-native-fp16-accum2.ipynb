{
 "cells": [
  {
   "cell_type": "code",
   "execution_count": 2,
   "id": "feb4d9f1",
   "metadata": {
    "execution": {
     "iopub.execute_input": "2023-05-28T14:08:28.517797Z",
     "iopub.status.busy": "2023-05-28T14:08:28.517120Z",
     "iopub.status.idle": "2023-05-28T14:12:11.742967Z",
     "shell.execute_reply": "2023-05-28T14:12:11.741738Z"
    },
    "papermill": {
     "duration": 223.232102,
     "end_time": "2023-05-28T14:12:11.745491",
     "exception": false,
     "start_time": "2023-05-28T14:08:28.513389",
     "status": "completed"
    },
    "tags": []
   },
   "outputs": [
    {
     "name": "stdout",
     "output_type": "stream",
     "text": [
      "The autotime extension is already loaded. To reload it, use:\n",
      "  %reload_ext autotime\n",
      "time: 0 ns (started: 2023-05-29 16:38:27 +07:00)\n"
     ]
    }
   ],
   "source": [
    "%load_ext autotime"
   ]
  },
  {
   "cell_type": "code",
   "execution_count": 3,
   "id": "701721f0",
   "metadata": {
    "execution": {
     "iopub.execute_input": "2023-05-28T14:12:11.905257Z",
     "iopub.status.busy": "2023-05-28T14:12:11.904945Z",
     "iopub.status.idle": "2023-05-28T14:12:15.546436Z",
     "shell.execute_reply": "2023-05-28T14:12:15.544727Z"
    },
    "papermill": {
     "duration": 3.723989,
     "end_time": "2023-05-28T14:12:15.548547",
     "exception": false,
     "start_time": "2023-05-28T14:12:11.824558",
     "status": "completed"
    },
    "tags": []
   },
   "outputs": [
    {
     "name": "stdout",
     "output_type": "stream",
     "text": [
      "time: 6.33 s (started: 2023-05-29 16:38:27 +07:00)\n"
     ]
    }
   ],
   "source": [
    "import numpy as np\n",
    "from fairscale.experimental.tooling.layer_memory_tracker import LayerwiseMemoryTracker\n",
    "from fastai.vision.all import *"
   ]
  },
  {
   "cell_type": "code",
   "execution_count": 4,
   "id": "eb685e79",
   "metadata": {},
   "outputs": [
    {
     "name": "stdout",
     "output_type": "stream",
     "text": [
      "time: 0 ns (started: 2023-05-29 16:38:33 +07:00)\n"
     ]
    }
   ],
   "source": [
    "import pathlib\n",
    "temp = pathlib.PosixPath\n",
    "pathlib.PosixPath = pathlib.WindowsPath"
   ]
  },
  {
   "cell_type": "code",
   "execution_count": 5,
   "id": "d7a1d593",
   "metadata": {
    "execution": {
     "iopub.execute_input": "2023-05-28T14:12:15.709273Z",
     "iopub.status.busy": "2023-05-28T14:12:15.708584Z",
     "iopub.status.idle": "2023-05-28T14:12:21.408472Z",
     "shell.execute_reply": "2023-05-28T14:12:21.407472Z"
    },
    "papermill": {
     "duration": 5.782559,
     "end_time": "2023-05-28T14:12:21.410870",
     "exception": false,
     "start_time": "2023-05-28T14:12:15.628311",
     "status": "completed"
    },
    "tags": []
   },
   "outputs": [
    {
     "name": "stdout",
     "output_type": "stream",
     "text": [
      "time: 2.17 s (started: 2023-05-29 16:38:33 +07:00)\n"
     ]
    }
   ],
   "source": [
    "# Set the size of the image\n",
    "img_size = (64, 64)\n",
    "\n",
    "def create_random_data():\n",
    "    # Generate a random NumPy array\n",
    "    rand_arr = np.random.rand(*img_size, 3) * 255\n",
    "    rand_arr = rand_arr.astype(np.uint8)\n",
    "    return rand_arr\n",
    "\n",
    "def get_model_file_size(model): \n",
    "    param_size = 0\n",
    "    for param in model.parameters():\n",
    "        param_size += param.nelement() * param.element_size()\n",
    "\n",
    "    model_size = param_size\n",
    "    print('Model size: {} Byte'.format(model_size))\n",
    "\n",
    "# Create your learner and load your model\n",
    "model = load_learner(\"../../../../model/nvidia-t4/VGG16_bn_non_native_fp16_accum2.pkl\")\n",
    "\n",
    "get_model_file_size(model.model)\n",
    "\n",
    "# Set the model to evaluation mode\n",
    "model.eval()\n",
    "\n",
    "\n",
    "# Get activation memory\n",
    "tracker = LayerwiseMemoryTracker()\n",
    "tracker.monitor(model)\n",
    "\n",
    "x = create_random_data()\n",
    "preds = model.predict(x)\n",
    "\n",
    "\n",
    "tracker.stop()\n"
   ]
  },
  {
   "cell_type": "code",
   "execution_count": 6,
   "id": "34d962d2",
   "metadata": {
    "execution": {
     "iopub.execute_input": "2023-05-28T14:12:21.574435Z",
     "iopub.status.busy": "2023-05-28T14:12:21.573445Z",
     "iopub.status.idle": "2023-05-28T14:12:21.581005Z",
     "shell.execute_reply": "2023-05-28T14:12:21.580135Z"
    },
    "papermill": {
     "duration": 0.089537,
     "end_time": "2023-05-28T14:12:21.582990",
     "exception": false,
     "start_time": "2023-05-28T14:12:21.493453",
     "status": "completed"
    },
    "tags": []
   },
   "outputs": [
    {
     "name": "stdout",
     "output_type": "stream",
     "text": [
      "Activation Memory: 9480232 Byte\n",
      "time: 0 ns (started: 2023-05-29 16:38:36 +07:00)\n"
     ]
    }
   ],
   "source": [
    "forward_act = sum(t.event.memory_activations for t in tracker.forward_traces) \n",
    "print(f\"Activation Memory: {forward_act} Byte\")"
   ]
  }
 ],
 "metadata": {
  "kernelspec": {
   "display_name": "Python 3",
   "language": "python",
   "name": "python3"
  },
  "language_info": {
   "codemirror_mode": {
    "name": "ipython",
    "version": 3
   },
   "file_extension": ".py",
   "mimetype": "text/x-python",
   "name": "python",
   "nbconvert_exporter": "python",
   "pygments_lexer": "ipython3",
   "version": "3.8.1"
  },
  "papermill": {
   "default_parameters": {},
   "duration": 245.652551,
   "end_time": "2023-05-28T14:12:22.883900",
   "environment_variables": {},
   "exception": null,
   "input_path": "__notebook__.ipynb",
   "output_path": "__notebook__.ipynb",
   "parameters": {},
   "start_time": "2023-05-28T14:08:17.231349",
   "version": "2.4.0"
  }
 },
 "nbformat": 4,
 "nbformat_minor": 5
}
