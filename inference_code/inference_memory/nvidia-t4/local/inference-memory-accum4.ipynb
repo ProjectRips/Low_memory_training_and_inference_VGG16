{
 "cells": [
  {
   "cell_type": "code",
   "execution_count": 1,
   "id": "d4574d2e",
   "metadata": {
    "execution": {
     "iopub.execute_input": "2023-05-28T12:58:59.750128Z",
     "iopub.status.busy": "2023-05-28T12:58:59.749701Z",
     "iopub.status.idle": "2023-05-28T13:02:40.162980Z",
     "shell.execute_reply": "2023-05-28T13:02:40.161909Z"
    },
    "papermill": {
     "duration": 220.419394,
     "end_time": "2023-05-28T13:02:40.165196",
     "exception": false,
     "start_time": "2023-05-28T12:58:59.745802",
     "status": "completed"
    },
    "tags": []
   },
   "outputs": [
    {
     "name": "stdout",
     "output_type": "stream",
     "text": [
      "time: 0 ns (started: 2023-06-05 12:24:06 +07:00)\n"
     ]
    }
   ],
   "source": [
    "%load_ext autotime"
   ]
  },
  {
   "cell_type": "code",
   "execution_count": 2,
   "id": "e2228c17",
   "metadata": {
    "execution": {
     "iopub.execute_input": "2023-05-28T13:02:40.316660Z",
     "iopub.status.busy": "2023-05-28T13:02:40.315058Z",
     "iopub.status.idle": "2023-05-28T13:02:44.067246Z",
     "shell.execute_reply": "2023-05-28T13:02:44.066186Z"
    },
    "papermill": {
     "duration": 3.830177,
     "end_time": "2023-05-28T13:02:44.069369",
     "exception": false,
     "start_time": "2023-05-28T13:02:40.239192",
     "status": "completed"
    },
    "tags": []
   },
   "outputs": [
    {
     "name": "stdout",
     "output_type": "stream",
     "text": [
      "time: 18.4 s (started: 2023-06-05 12:24:06 +07:00)\n"
     ]
    }
   ],
   "source": [
    "import numpy as np\n",
    "from fairscale.experimental.tooling.layer_memory_tracker import LayerwiseMemoryTracker\n",
    "from fastai.vision.all import *"
   ]
  },
  {
   "cell_type": "code",
   "execution_count": 3,
   "id": "4f44a0fa",
   "metadata": {},
   "outputs": [
    {
     "name": "stdout",
     "output_type": "stream",
     "text": [
      "time: 0 ns (started: 2023-06-05 12:24:25 +07:00)\n"
     ]
    }
   ],
   "source": [
    "import pathlib\n",
    "temp = pathlib.PosixPath\n",
    "pathlib.PosixPath = pathlib.WindowsPath"
   ]
  },
  {
   "cell_type": "code",
   "execution_count": 15,
   "id": "b2ea0bfc",
   "metadata": {
    "execution": {
     "iopub.execute_input": "2023-05-28T13:02:44.218482Z",
     "iopub.status.busy": "2023-05-28T13:02:44.218152Z",
     "iopub.status.idle": "2023-05-28T13:02:49.649794Z",
     "shell.execute_reply": "2023-05-28T13:02:49.648922Z"
    },
    "papermill": {
     "duration": 5.508084,
     "end_time": "2023-05-28T13:02:49.651675",
     "exception": false,
     "start_time": "2023-05-28T13:02:44.143591",
     "status": "completed"
    },
    "tags": []
   },
   "outputs": [
    {
     "name": "stdout",
     "output_type": "stream",
     "text": [
      "Model size: 537239848 Byte\n"
     ]
    },
    {
     "data": {
      "text/plain": [
       "VGG(\n",
       "  (features): Sequential(\n",
       "    (0): Conv2d(3, 64, kernel_size=(3, 3), stride=(1, 1), padding=(1, 1))\n",
       "    (1): BatchNorm2d(64, eps=1e-05, momentum=0.1, affine=True, track_running_stats=True)\n",
       "    (2): ReLU(inplace=True)\n",
       "    (3): Conv2d(64, 64, kernel_size=(3, 3), stride=(1, 1), padding=(1, 1))\n",
       "    (4): BatchNorm2d(64, eps=1e-05, momentum=0.1, affine=True, track_running_stats=True)\n",
       "    (5): ReLU(inplace=True)\n",
       "    (6): MaxPool2d(kernel_size=2, stride=2, padding=0, dilation=1, ceil_mode=False)\n",
       "    (7): Conv2d(64, 128, kernel_size=(3, 3), stride=(1, 1), padding=(1, 1))\n",
       "    (8): BatchNorm2d(128, eps=1e-05, momentum=0.1, affine=True, track_running_stats=True)\n",
       "    (9): ReLU(inplace=True)\n",
       "    (10): Conv2d(128, 128, kernel_size=(3, 3), stride=(1, 1), padding=(1, 1))\n",
       "    (11): BatchNorm2d(128, eps=1e-05, momentum=0.1, affine=True, track_running_stats=True)\n",
       "    (12): ReLU(inplace=True)\n",
       "    (13): MaxPool2d(kernel_size=2, stride=2, padding=0, dilation=1, ceil_mode=False)\n",
       "    (14): Conv2d(128, 256, kernel_size=(3, 3), stride=(1, 1), padding=(1, 1))\n",
       "    (15): BatchNorm2d(256, eps=1e-05, momentum=0.1, affine=True, track_running_stats=True)\n",
       "    (16): ReLU(inplace=True)\n",
       "    (17): Conv2d(256, 256, kernel_size=(3, 3), stride=(1, 1), padding=(1, 1))\n",
       "    (18): BatchNorm2d(256, eps=1e-05, momentum=0.1, affine=True, track_running_stats=True)\n",
       "    (19): ReLU(inplace=True)\n",
       "    (20): Conv2d(256, 256, kernel_size=(3, 3), stride=(1, 1), padding=(1, 1))\n",
       "    (21): BatchNorm2d(256, eps=1e-05, momentum=0.1, affine=True, track_running_stats=True)\n",
       "    (22): ReLU(inplace=True)\n",
       "    (23): MaxPool2d(kernel_size=2, stride=2, padding=0, dilation=1, ceil_mode=False)\n",
       "    (24): Conv2d(256, 512, kernel_size=(3, 3), stride=(1, 1), padding=(1, 1))\n",
       "    (25): BatchNorm2d(512, eps=1e-05, momentum=0.1, affine=True, track_running_stats=True)\n",
       "    (26): ReLU(inplace=True)\n",
       "    (27): Conv2d(512, 512, kernel_size=(3, 3), stride=(1, 1), padding=(1, 1))\n",
       "    (28): BatchNorm2d(512, eps=1e-05, momentum=0.1, affine=True, track_running_stats=True)\n",
       "    (29): ReLU(inplace=True)\n",
       "    (30): Conv2d(512, 512, kernel_size=(3, 3), stride=(1, 1), padding=(1, 1))\n",
       "    (31): BatchNorm2d(512, eps=1e-05, momentum=0.1, affine=True, track_running_stats=True)\n",
       "    (32): ReLU(inplace=True)\n",
       "    (33): MaxPool2d(kernel_size=2, stride=2, padding=0, dilation=1, ceil_mode=False)\n",
       "    (34): Conv2d(512, 512, kernel_size=(3, 3), stride=(1, 1), padding=(1, 1))\n",
       "    (35): BatchNorm2d(512, eps=1e-05, momentum=0.1, affine=True, track_running_stats=True)\n",
       "    (36): ReLU(inplace=True)\n",
       "    (37): Conv2d(512, 512, kernel_size=(3, 3), stride=(1, 1), padding=(1, 1))\n",
       "    (38): BatchNorm2d(512, eps=1e-05, momentum=0.1, affine=True, track_running_stats=True)\n",
       "    (39): ReLU(inplace=True)\n",
       "    (40): Conv2d(512, 512, kernel_size=(3, 3), stride=(1, 1), padding=(1, 1))\n",
       "    (41): BatchNorm2d(512, eps=1e-05, momentum=0.1, affine=True, track_running_stats=True)\n",
       "    (42): ReLU(inplace=True)\n",
       "    (43): MaxPool2d(kernel_size=2, stride=2, padding=0, dilation=1, ceil_mode=False)\n",
       "  )\n",
       "  (avgpool): AdaptiveAvgPool2d(output_size=(7, 7))\n",
       "  (classifier): Sequential(\n",
       "    (0): Linear(in_features=25088, out_features=4096, bias=True)\n",
       "    (1): ReLU(inplace=True)\n",
       "    (2): Dropout(p=0.5, inplace=False)\n",
       "    (3): Linear(in_features=4096, out_features=4096, bias=True)\n",
       "    (4): ReLU(inplace=True)\n",
       "    (5): Dropout(p=0.5, inplace=False)\n",
       "    (6): Linear(in_features=4096, out_features=10, bias=True)\n",
       "  )\n",
       ")"
      ]
     },
     "execution_count": 15,
     "metadata": {},
     "output_type": "execute_result"
    },
    {
     "name": "stdout",
     "output_type": "stream",
     "text": [
      "time: 1.81 s (started: 2023-06-05 12:36:57 +07:00)\n"
     ]
    }
   ],
   "source": [
    "# Set the size of the image\n",
    "img_size = (64, 64)\n",
    "\n",
    "def create_random_data():\n",
    "    # Generate a random NumPy array\n",
    "    rand_arr = np.random.rand(*img_size, 3) * 255\n",
    "    rand_arr = rand_arr.astype(np.uint8)\n",
    "    return rand_arr\n",
    "\n",
    "def get_model_file_size(model): \n",
    "    param_size = 0\n",
    "    for param in model.parameters():\n",
    "        param_size += param.nelement() * param.element_size()\n",
    "\n",
    "    model_size = param_size\n",
    "    print('Model size: {} Byte'.format(model_size))\n",
    "\n",
    "# Create your learner and load your model\n",
    "model = load_learner(\"../../../../model/nvidia-t4/VGG16_bn_accum4.pkl\")\n",
    "\n",
    "get_model_file_size(model.model)\n",
    "\n",
    "# Set the model to evaluation mode\n",
    "model.eval()\n",
    "\n",
    "\n",
    "# Get activation memory\n",
    "tracker = LayerwiseMemoryTracker()\n",
    "tracker.monitor(model)\n",
    "\n",
    "x = create_random_data()\n",
    "preds = model.predict(x)\n",
    "\n",
    "\n",
    "tracker.stop()\n"
   ]
  },
  {
   "cell_type": "code",
   "execution_count": null,
   "id": "fcbe9256",
   "metadata": {
    "execution": {
     "iopub.execute_input": "2023-05-28T13:02:49.805668Z",
     "iopub.status.busy": "2023-05-28T13:02:49.805309Z",
     "iopub.status.idle": "2023-05-28T13:02:49.810883Z",
     "shell.execute_reply": "2023-05-28T13:02:49.809969Z"
    },
    "papermill": {
     "duration": 0.084954,
     "end_time": "2023-05-28T13:02:49.813384",
     "exception": false,
     "start_time": "2023-05-28T13:02:49.728430",
     "status": "completed"
    },
    "tags": []
   },
   "outputs": [
    {
     "name": "stdout",
     "output_type": "stream",
     "text": [
      "Activation Memory: 9480232 Byte\n",
      "time: 0 ns (started: 2023-05-29 16:20:23 +07:00)\n"
     ]
    }
   ],
   "source": [
    "forward_act = sum(t.event.memory_activations for t in tracker.forward_traces) \n",
    "print(f\"Activation Memory: {forward_act} Byte\")"
   ]
  }
 ],
 "metadata": {
  "kernelspec": {
   "display_name": "Python 3",
   "language": "python",
   "name": "python3"
  },
  "language_info": {
   "codemirror_mode": {
    "name": "ipython",
    "version": 3
   },
   "file_extension": ".py",
   "mimetype": "text/x-python",
   "name": "python",
   "nbconvert_exporter": "python",
   "pygments_lexer": "ipython3",
   "version": "3.8.1"
  },
  "papermill": {
   "default_parameters": {},
   "duration": 242.056555,
   "end_time": "2023-05-28T13:02:51.117180",
   "environment_variables": {},
   "exception": null,
   "input_path": "__notebook__.ipynb",
   "output_path": "__notebook__.ipynb",
   "parameters": {},
   "start_time": "2023-05-28T12:58:49.060625",
   "version": "2.4.0"
  }
 },
 "nbformat": 4,
 "nbformat_minor": 5
}
