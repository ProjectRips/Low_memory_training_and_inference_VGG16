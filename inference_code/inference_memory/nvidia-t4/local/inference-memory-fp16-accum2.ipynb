{
 "cells": [
  {
   "cell_type": "code",
   "execution_count": 1,
   "id": "4b29030f",
   "metadata": {
    "execution": {
     "iopub.execute_input": "2023-05-28T14:02:01.479843Z",
     "iopub.status.busy": "2023-05-28T14:02:01.479138Z",
     "iopub.status.idle": "2023-05-28T14:05:37.952482Z",
     "shell.execute_reply": "2023-05-28T14:05:37.951049Z"
    },
    "papermill": {
     "duration": 216.479491,
     "end_time": "2023-05-28T14:05:37.954865",
     "exception": false,
     "start_time": "2023-05-28T14:02:01.475374",
     "status": "completed"
    },
    "tags": []
   },
   "outputs": [
    {
     "name": "stdout",
     "output_type": "stream",
     "text": [
      "time: 0 ns (started: 2023-05-29 16:29:27 +07:00)\n"
     ]
    }
   ],
   "source": [
    "%load_ext autotime"
   ]
  },
  {
   "cell_type": "code",
   "execution_count": 2,
   "id": "d534eba3",
   "metadata": {
    "execution": {
     "iopub.execute_input": "2023-05-28T14:05:38.117649Z",
     "iopub.status.busy": "2023-05-28T14:05:38.117305Z",
     "iopub.status.idle": "2023-05-28T14:05:41.559414Z",
     "shell.execute_reply": "2023-05-28T14:05:41.557470Z"
    },
    "papermill": {
     "duration": 3.526026,
     "end_time": "2023-05-28T14:05:41.561531",
     "exception": false,
     "start_time": "2023-05-28T14:05:38.035505",
     "status": "completed"
    },
    "tags": []
   },
   "outputs": [
    {
     "name": "stdout",
     "output_type": "stream",
     "text": [
      "time: 6.08 s (started: 2023-05-29 16:29:28 +07:00)\n"
     ]
    }
   ],
   "source": [
    "import numpy as np\n",
    "from fairscale.experimental.tooling.layer_memory_tracker import LayerwiseMemoryTracker\n",
    "from fastai.vision.all import *"
   ]
  },
  {
   "cell_type": "code",
   "execution_count": 3,
   "id": "2a7445f5",
   "metadata": {},
   "outputs": [
    {
     "name": "stdout",
     "output_type": "stream",
     "text": [
      "time: 16 ms (started: 2023-05-29 16:29:34 +07:00)\n"
     ]
    }
   ],
   "source": [
    "import pathlib\n",
    "temp = pathlib.PosixPath\n",
    "pathlib.PosixPath = pathlib.WindowsPath"
   ]
  },
  {
   "cell_type": "code",
   "execution_count": 4,
   "id": "3930a4e9",
   "metadata": {
    "execution": {
     "iopub.execute_input": "2023-05-28T14:05:41.723741Z",
     "iopub.status.busy": "2023-05-28T14:05:41.723409Z",
     "iopub.status.idle": "2023-05-28T14:05:46.413431Z",
     "shell.execute_reply": "2023-05-28T14:05:46.412527Z"
    },
    "papermill": {
     "duration": 4.772754,
     "end_time": "2023-05-28T14:05:46.415442",
     "exception": false,
     "start_time": "2023-05-28T14:05:41.642688",
     "status": "completed"
    },
    "tags": []
   },
   "outputs": [
    {
     "name": "stdout",
     "output_type": "stream",
     "text": [
      "time: 4.95 s (started: 2023-05-29 16:29:34 +07:00)\n"
     ]
    }
   ],
   "source": [
    "# Set the size of the image\n",
    "img_size = (64, 64)\n",
    "\n",
    "def create_random_data():\n",
    "    # Generate a random NumPy array\n",
    "    rand_arr = np.random.rand(*img_size, 3) * 255\n",
    "    rand_arr = rand_arr.astype(np.uint8)\n",
    "    return rand_arr\n",
    "\n",
    "def get_model_file_size(model): \n",
    "    param_size = 0\n",
    "    for param in model.parameters():\n",
    "        param_size += param.nelement() * param.element_size()\n",
    "\n",
    "    model_size = param_size\n",
    "    print('Model size: {} Byte'.format(model_size))\n",
    "\n",
    "# Create your learner and load your model\n",
    "model = load_learner(\"../../../../model/nvidia-t4/VGG16_bn_native_fp16_accum2.pkl\")\n",
    "\n",
    "get_model_file_size(model.model)\n",
    "\n",
    "# Set the model to evaluation mode\n",
    "model.eval()\n",
    "\n",
    "\n",
    "# Get activation memory\n",
    "tracker = LayerwiseMemoryTracker()\n",
    "tracker.monitor(model)\n",
    "\n",
    "x = create_random_data()\n",
    "preds = model.predict(x)\n",
    "\n",
    "\n",
    "tracker.stop()\n"
   ]
  },
  {
   "cell_type": "code",
   "execution_count": 5,
   "id": "91713f66",
   "metadata": {
    "execution": {
     "iopub.execute_input": "2023-05-28T14:05:46.578443Z",
     "iopub.status.busy": "2023-05-28T14:05:46.578090Z",
     "iopub.status.idle": "2023-05-28T14:05:46.583618Z",
     "shell.execute_reply": "2023-05-28T14:05:46.582720Z"
    },
    "papermill": {
     "duration": 0.089105,
     "end_time": "2023-05-28T14:05:46.586048",
     "exception": false,
     "start_time": "2023-05-28T14:05:46.496943",
     "status": "completed"
    },
    "tags": []
   },
   "outputs": [
    {
     "name": "stdout",
     "output_type": "stream",
     "text": [
      "Activation Memory: 9480232 Byte\n",
      "time: 0 ns (started: 2023-05-29 16:29:39 +07:00)\n"
     ]
    }
   ],
   "source": [
    "forward_act = sum(t.event.memory_activations for t in tracker.forward_traces) \n",
    "print(f\"Activation Memory: {forward_act} Byte\")"
   ]
  }
 ],
 "metadata": {
  "kernelspec": {
   "display_name": "Python 3",
   "language": "python",
   "name": "python3"
  },
  "language_info": {
   "codemirror_mode": {
    "name": "ipython",
    "version": 3
   },
   "file_extension": ".py",
   "mimetype": "text/x-python",
   "name": "python",
   "nbconvert_exporter": "python",
   "pygments_lexer": "ipython3",
   "version": "3.8.1"
  },
  "papermill": {
   "default_parameters": {},
   "duration": 236.260631,
   "end_time": "2023-05-28T14:05:47.890545",
   "environment_variables": {},
   "exception": null,
   "input_path": "__notebook__.ipynb",
   "output_path": "__notebook__.ipynb",
   "parameters": {},
   "start_time": "2023-05-28T14:01:51.629914",
   "version": "2.4.0"
  }
 },
 "nbformat": 4,
 "nbformat_minor": 5
}
