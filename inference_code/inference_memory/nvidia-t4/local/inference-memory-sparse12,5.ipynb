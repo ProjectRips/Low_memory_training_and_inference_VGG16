{
 "cells": [
  {
   "cell_type": "code",
   "execution_count": 7,
   "id": "9e4a0de8",
   "metadata": {
    "execution": {
     "iopub.execute_input": "2023-05-28T13:12:32.761712Z",
     "iopub.status.busy": "2023-05-28T13:12:32.761032Z",
     "iopub.status.idle": "2023-05-28T13:16:11.841499Z",
     "shell.execute_reply": "2023-05-28T13:16:11.840298Z"
    },
    "papermill": {
     "duration": 219.086219,
     "end_time": "2023-05-28T13:16:11.843755",
     "exception": false,
     "start_time": "2023-05-28T13:12:32.757536",
     "status": "completed"
    },
    "tags": []
   },
   "outputs": [
    {
     "name": "stdout",
     "output_type": "stream",
     "text": [
      "The autotime extension is already loaded. To reload it, use:\n",
      "  %reload_ext autotime\n",
      "time: 16 ms (started: 2023-05-29 16:40:38 +07:00)\n"
     ]
    }
   ],
   "source": [
    "%load_ext autotime"
   ]
  },
  {
   "cell_type": "code",
   "execution_count": 8,
   "id": "dff503c4",
   "metadata": {
    "execution": {
     "iopub.execute_input": "2023-05-28T13:16:11.991061Z",
     "iopub.status.busy": "2023-05-28T13:16:11.990728Z",
     "iopub.status.idle": "2023-05-28T13:16:15.732434Z",
     "shell.execute_reply": "2023-05-28T13:16:15.731374Z"
    },
    "papermill": {
     "duration": 3.817953,
     "end_time": "2023-05-28T13:16:15.734652",
     "exception": false,
     "start_time": "2023-05-28T13:16:11.916699",
     "status": "completed"
    },
    "tags": []
   },
   "outputs": [
    {
     "name": "stdout",
     "output_type": "stream",
     "text": [
      "time: 0 ns (started: 2023-05-29 16:40:38 +07:00)\n"
     ]
    }
   ],
   "source": [
    "import numpy as np\n",
    "from fairscale.experimental.tooling.layer_memory_tracker import LayerwiseMemoryTracker\n",
    "from fastai.vision.all import *"
   ]
  },
  {
   "cell_type": "code",
   "execution_count": 9,
   "id": "aa89b485",
   "metadata": {},
   "outputs": [
    {
     "name": "stdout",
     "output_type": "stream",
     "text": [
      "time: 0 ns (started: 2023-05-29 16:40:38 +07:00)\n"
     ]
    }
   ],
   "source": [
    "import pathlib\n",
    "temp = pathlib.PosixPath\n",
    "pathlib.PosixPath = pathlib.WindowsPath"
   ]
  },
  {
   "cell_type": "code",
   "execution_count": 10,
   "id": "56d6dd96",
   "metadata": {
    "execution": {
     "iopub.execute_input": "2023-05-28T13:16:15.884211Z",
     "iopub.status.busy": "2023-05-28T13:16:15.883588Z",
     "iopub.status.idle": "2023-05-28T13:16:20.545267Z",
     "shell.execute_reply": "2023-05-28T13:16:20.544108Z"
    },
    "papermill": {
     "duration": 4.739343,
     "end_time": "2023-05-28T13:16:20.547806",
     "exception": false,
     "start_time": "2023-05-28T13:16:15.808463",
     "status": "completed"
    },
    "tags": []
   },
   "outputs": [
    {
     "name": "stdout",
     "output_type": "stream",
     "text": [
      "time: 1.8 s (started: 2023-05-29 16:40:38 +07:00)\n"
     ]
    }
   ],
   "source": [
    "# Set the size of the image\n",
    "img_size = (64, 64)\n",
    "\n",
    "def create_random_data():\n",
    "    # Generate a random NumPy array\n",
    "    rand_arr = np.random.rand(*img_size, 3) * 255\n",
    "    rand_arr = rand_arr.astype(np.uint8)\n",
    "    return rand_arr\n",
    "\n",
    "def get_model_file_size(model): \n",
    "    param_size = 0\n",
    "    for param in model.parameters():\n",
    "        param_size += param.nelement() * param.element_size()\n",
    "\n",
    "    model_size = param_size\n",
    "    print('Model size: {} Byte'.format(model_size))\n",
    "\n",
    "# Create your learner and load your model\n",
    "model = load_learner(\"../../../../model/nvidia-t4/VGG16_bn_sparsity12,5_pruned.pkl\")\n",
    "\n",
    "get_model_file_size(model.model)\n",
    "\n",
    "# Set the model to evaluation mode\n",
    "model.eval()\n",
    "\n",
    "\n",
    "# Get activation memory\n",
    "tracker = LayerwiseMemoryTracker()\n",
    "tracker.monitor(model)\n",
    "\n",
    "x = create_random_data()\n",
    "preds = model.predict(x)\n",
    "\n",
    "\n",
    "tracker.stop()\n"
   ]
  },
  {
   "cell_type": "code",
   "execution_count": 11,
   "id": "59d63b34",
   "metadata": {
    "execution": {
     "iopub.execute_input": "2023-05-28T13:16:20.715907Z",
     "iopub.status.busy": "2023-05-28T13:16:20.715553Z",
     "iopub.status.idle": "2023-05-28T13:16:20.722156Z",
     "shell.execute_reply": "2023-05-28T13:16:20.721186Z"
    },
    "papermill": {
     "duration": 0.096761,
     "end_time": "2023-05-28T13:16:20.724757",
     "exception": false,
     "start_time": "2023-05-28T13:16:20.627996",
     "status": "completed"
    },
    "tags": []
   },
   "outputs": [
    {
     "name": "stdout",
     "output_type": "stream",
     "text": [
      "Activation Memory: 8299304 Byte\n",
      "time: 0 ns (started: 2023-05-29 16:40:40 +07:00)\n"
     ]
    }
   ],
   "source": [
    "forward_act = sum(t.event.memory_activations for t in tracker.forward_traces) \n",
    "print(f\"Activation Memory: {forward_act} Byte\")"
   ]
  }
 ],
 "metadata": {
  "kernelspec": {
   "display_name": "Python 3",
   "language": "python",
   "name": "python3"
  },
  "language_info": {
   "codemirror_mode": {
    "name": "ipython",
    "version": 3
   },
   "file_extension": ".py",
   "mimetype": "text/x-python",
   "name": "python",
   "nbconvert_exporter": "python",
   "pygments_lexer": "ipython3",
   "version": "3.8.1"
  },
  "papermill": {
   "default_parameters": {},
   "duration": 240.157548,
   "end_time": "2023-05-28T13:16:22.134640",
   "environment_variables": {},
   "exception": null,
   "input_path": "__notebook__.ipynb",
   "output_path": "__notebook__.ipynb",
   "parameters": {},
   "start_time": "2023-05-28T13:12:21.977092",
   "version": "2.4.0"
  }
 },
 "nbformat": 4,
 "nbformat_minor": 5
}
