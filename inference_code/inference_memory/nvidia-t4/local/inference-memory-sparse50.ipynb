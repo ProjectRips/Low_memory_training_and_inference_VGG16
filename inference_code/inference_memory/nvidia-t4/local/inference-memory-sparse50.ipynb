{
 "cells": [
  {
   "cell_type": "code",
   "execution_count": 1,
   "id": "d10a24c9",
   "metadata": {
    "execution": {
     "iopub.execute_input": "2023-05-28T13:31:20.704138Z",
     "iopub.status.busy": "2023-05-28T13:31:20.703392Z",
     "iopub.status.idle": "2023-05-28T13:34:58.713687Z",
     "shell.execute_reply": "2023-05-28T13:34:58.712179Z"
    },
    "papermill": {
     "duration": 218.01641,
     "end_time": "2023-05-28T13:34:58.715886",
     "exception": false,
     "start_time": "2023-05-28T13:31:20.699476",
     "status": "completed"
    },
    "tags": []
   },
   "outputs": [
    {
     "name": "stdout",
     "output_type": "stream",
     "text": [
      "time: 0 ns (started: 2023-05-29 16:44:18 +07:00)\n"
     ]
    }
   ],
   "source": [
    "%load_ext autotime"
   ]
  },
  {
   "cell_type": "code",
   "execution_count": 2,
   "id": "bcc8b283",
   "metadata": {
    "execution": {
     "iopub.execute_input": "2023-05-28T13:34:58.870285Z",
     "iopub.status.busy": "2023-05-28T13:34:58.869356Z",
     "iopub.status.idle": "2023-05-28T13:35:02.544845Z",
     "shell.execute_reply": "2023-05-28T13:35:02.543684Z"
    },
    "papermill": {
     "duration": 3.755403,
     "end_time": "2023-05-28T13:35:02.547126",
     "exception": false,
     "start_time": "2023-05-28T13:34:58.791723",
     "status": "completed"
    },
    "tags": []
   },
   "outputs": [
    {
     "name": "stdout",
     "output_type": "stream",
     "text": [
      "time: 5.45 s (started: 2023-05-29 16:44:18 +07:00)\n"
     ]
    }
   ],
   "source": [
    "import numpy as np\n",
    "from fairscale.experimental.tooling.layer_memory_tracker import LayerwiseMemoryTracker\n",
    "from fastai.vision.all import *"
   ]
  },
  {
   "cell_type": "code",
   "execution_count": 3,
   "id": "81388450",
   "metadata": {},
   "outputs": [
    {
     "name": "stdout",
     "output_type": "stream",
     "text": [
      "time: 0 ns (started: 2023-05-29 16:44:24 +07:00)\n"
     ]
    }
   ],
   "source": [
    "import pathlib\n",
    "temp = pathlib.PosixPath\n",
    "pathlib.PosixPath = pathlib.WindowsPath"
   ]
  },
  {
   "cell_type": "code",
   "execution_count": 4,
   "id": "de48ee01",
   "metadata": {
    "execution": {
     "iopub.execute_input": "2023-05-28T13:35:02.697867Z",
     "iopub.status.busy": "2023-05-28T13:35:02.697529Z",
     "iopub.status.idle": "2023-05-28T13:35:05.400106Z",
     "shell.execute_reply": "2023-05-28T13:35:05.398913Z"
    },
    "papermill": {
     "duration": 2.7807,
     "end_time": "2023-05-28T13:35:05.402793",
     "exception": false,
     "start_time": "2023-05-28T13:35:02.622093",
     "status": "completed"
    },
    "tags": []
   },
   "outputs": [
    {
     "name": "stdout",
     "output_type": "stream",
     "text": [
      "time: 1.49 s (started: 2023-05-29 16:44:24 +07:00)\n"
     ]
    }
   ],
   "source": [
    "# Set the size of the image\n",
    "img_size = (64, 64)\n",
    "\n",
    "def create_random_data():\n",
    "    # Generate a random NumPy array\n",
    "    rand_arr = np.random.rand(*img_size, 3) * 255\n",
    "    rand_arr = rand_arr.astype(np.uint8)\n",
    "    return rand_arr\n",
    "\n",
    "def get_model_file_size(model): \n",
    "    param_size = 0\n",
    "    for param in model.parameters():\n",
    "        param_size += param.nelement() * param.element_size()\n",
    "\n",
    "    model_size = param_size\n",
    "    print('Model size: {} Byte'.format(model_size))\n",
    "\n",
    "# Create your learner and load your model\n",
    "model = load_learner(\"../../../../model/nvidia-t4/VGG16_bn_sparsity50_pruned.pkl\")\n",
    "\n",
    "get_model_file_size(model.model)\n",
    "\n",
    "# Set the model to evaluation mode\n",
    "model.eval()\n",
    "\n",
    "\n",
    "# Get activation memory\n",
    "tracker = LayerwiseMemoryTracker()\n",
    "tracker.monitor(model)\n",
    "\n",
    "x = create_random_data()\n",
    "preds = model.predict(x)\n",
    "\n",
    "\n",
    "tracker.stop()\n"
   ]
  },
  {
   "cell_type": "code",
   "execution_count": 5,
   "id": "00949b40",
   "metadata": {
    "execution": {
     "iopub.execute_input": "2023-05-28T13:35:05.557144Z",
     "iopub.status.busy": "2023-05-28T13:35:05.556836Z",
     "iopub.status.idle": "2023-05-28T13:35:05.563595Z",
     "shell.execute_reply": "2023-05-28T13:35:05.562290Z"
    },
    "papermill": {
     "duration": 0.083301,
     "end_time": "2023-05-28T13:35:05.565663",
     "exception": false,
     "start_time": "2023-05-28T13:35:05.482362",
     "status": "completed"
    },
    "tags": []
   },
   "outputs": [
    {
     "name": "stdout",
     "output_type": "stream",
     "text": [
      "Activation Memory: 4756520 Byte\n",
      "time: 0 ns (started: 2023-05-29 16:44:26 +07:00)\n"
     ]
    }
   ],
   "source": [
    "forward_act = sum(t.event.memory_activations for t in tracker.forward_traces) \n",
    "print(f\"Activation Memory: {forward_act} Byte\")"
   ]
  }
 ],
 "metadata": {
  "kernelspec": {
   "display_name": "Python 3",
   "language": "python",
   "name": "python3"
  },
  "language_info": {
   "codemirror_mode": {
    "name": "ipython",
    "version": 3
   },
   "file_extension": ".py",
   "mimetype": "text/x-python",
   "name": "python",
   "nbconvert_exporter": "python",
   "pygments_lexer": "ipython3",
   "version": "3.8.1"
  },
  "papermill": {
   "default_parameters": {},
   "duration": 237.321852,
   "end_time": "2023-05-28T13:35:06.863122",
   "environment_variables": {},
   "exception": null,
   "input_path": "__notebook__.ipynb",
   "output_path": "__notebook__.ipynb",
   "parameters": {},
   "start_time": "2023-05-28T13:31:09.541270",
   "version": "2.4.0"
  }
 },
 "nbformat": 4,
 "nbformat_minor": 5
}
