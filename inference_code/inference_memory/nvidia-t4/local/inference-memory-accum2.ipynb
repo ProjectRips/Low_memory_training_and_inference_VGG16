{
 "cells": [
  {
   "cell_type": "code",
   "execution_count": 5,
   "id": "412cdd17",
   "metadata": {
    "execution": {
     "iopub.execute_input": "2023-05-28T12:52:23.791723Z",
     "iopub.status.busy": "2023-05-28T12:52:23.791191Z",
     "iopub.status.idle": "2023-05-28T12:56:04.495517Z",
     "shell.execute_reply": "2023-05-28T12:56:04.493766Z"
    },
    "papermill": {
     "duration": 220.710839,
     "end_time": "2023-05-28T12:56:04.498114",
     "exception": false,
     "start_time": "2023-05-28T12:52:23.787275",
     "status": "completed"
    },
    "tags": []
   },
   "outputs": [
    {
     "name": "stdout",
     "output_type": "stream",
     "text": [
      "The autotime extension is already loaded. To reload it, use:\n",
      "  %reload_ext autotime\n",
      "time: 0 ns (started: 2023-06-09 16:01:20 +07:00)\n"
     ]
    }
   ],
   "source": [
    "%load_ext autotime"
   ]
  },
  {
   "cell_type": "code",
   "execution_count": 6,
   "id": "4c4e35ce",
   "metadata": {
    "execution": {
     "iopub.execute_input": "2023-05-28T12:56:04.663869Z",
     "iopub.status.busy": "2023-05-28T12:56:04.663543Z",
     "iopub.status.idle": "2023-05-28T12:56:08.658893Z",
     "shell.execute_reply": "2023-05-28T12:56:08.657447Z"
    },
    "papermill": {
     "duration": 4.07816,
     "end_time": "2023-05-28T12:56:08.661114",
     "exception": false,
     "start_time": "2023-05-28T12:56:04.582954",
     "status": "completed"
    },
    "tags": []
   },
   "outputs": [
    {
     "name": "stdout",
     "output_type": "stream",
     "text": [
      "time: 0 ns (started: 2023-06-09 16:01:20 +07:00)\n"
     ]
    }
   ],
   "source": [
    "import numpy as np\n",
    "from fairscale.experimental.tooling.layer_memory_tracker import LayerwiseMemoryTracker\n",
    "from fastai.vision.all import *"
   ]
  },
  {
   "cell_type": "code",
   "execution_count": 7,
   "id": "08653a4d",
   "metadata": {},
   "outputs": [
    {
     "name": "stdout",
     "output_type": "stream",
     "text": [
      "time: 0 ns (started: 2023-06-09 16:01:20 +07:00)\n"
     ]
    }
   ],
   "source": [
    "import pathlib\n",
    "temp = pathlib.PosixPath\n",
    "pathlib.PosixPath = pathlib.WindowsPath"
   ]
  },
  {
   "cell_type": "code",
   "execution_count": 8,
   "id": "e56aa0ae",
   "metadata": {
    "execution": {
     "iopub.execute_input": "2023-05-28T12:56:08.821184Z",
     "iopub.status.busy": "2023-05-28T12:56:08.820409Z",
     "iopub.status.idle": "2023-05-28T12:56:13.759025Z",
     "shell.execute_reply": "2023-05-28T12:56:13.757627Z"
    },
    "papermill": {
     "duration": 5.02049,
     "end_time": "2023-05-28T12:56:13.761094",
     "exception": false,
     "start_time": "2023-05-28T12:56:08.740604",
     "status": "completed"
    },
    "tags": []
   },
   "outputs": [
    {
     "name": "stdout",
     "output_type": "stream",
     "text": [
      "Model size: 537239848 Byte\n"
     ]
    },
    {
     "data": {
      "text/html": [
       "\n",
       "<style>\n",
       "    /* Turns off some styling */\n",
       "    progress {\n",
       "        /* gets rid of default border in Firefox and Opera. */\n",
       "        border: none;\n",
       "        /* Needs to be in here for Safari polyfill so background images work as expected. */\n",
       "        background-size: auto;\n",
       "    }\n",
       "    progress:not([value]), progress:not([value])::-webkit-progress-bar {\n",
       "        background: repeating-linear-gradient(45deg, #7e7e7e, #7e7e7e 10px, #5c5c5c 10px, #5c5c5c 20px);\n",
       "    }\n",
       "    .progress-bar-interrupted, .progress-bar-interrupted::-webkit-progress-bar {\n",
       "        background: #F44336;\n",
       "    }\n",
       "</style>\n"
      ],
      "text/plain": [
       "<IPython.core.display.HTML object>"
      ]
     },
     "metadata": {},
     "output_type": "display_data"
    },
    {
     "data": {
      "text/html": [],
      "text/plain": [
       "<IPython.core.display.HTML object>"
      ]
     },
     "metadata": {},
     "output_type": "display_data"
    },
    {
     "name": "stdout",
     "output_type": "stream",
     "text": [
      "time: 2.56 s (started: 2023-06-09 16:01:20 +07:00)\n"
     ]
    }
   ],
   "source": [
    "# Set the size of the image\n",
    "img_size = (64, 64)\n",
    "\n",
    "def create_random_data():\n",
    "    # Generate a random NumPy array\n",
    "    rand_arr = np.random.rand(*img_size, 3) * 255\n",
    "    rand_arr = rand_arr.astype(np.uint8)\n",
    "    return rand_arr\n",
    "\n",
    "def get_model_file_size(model): \n",
    "    param_size = 0\n",
    "    for param in model.parameters():\n",
    "        param_size += param.nelement() * param.element_size()\n",
    "\n",
    "    model_size = param_size\n",
    "    print('Model size: {} Byte'.format(model_size))\n",
    "\n",
    "# Create your learner and load your model\n",
    "model = load_learner(\"../../../../model/nvidia-t4/VGG16_bn_accum2.pkl\")\n",
    "\n",
    "get_model_file_size(model.model)\n",
    "\n",
    "# Set the model to evaluation mode\n",
    "model.eval()\n",
    "\n",
    "\n",
    "# Set the model to evaluation mode\n",
    "model.eval()\n",
    "\n",
    "\n",
    "# Get activation memory\n",
    "tracker = LayerwiseMemoryTracker()\n",
    "tracker.monitor(model)\n",
    "\n",
    "x = create_random_data()\n",
    "preds = model.predict(x)\n",
    "\n",
    "\n",
    "tracker.stop()\n"
   ]
  },
  {
   "cell_type": "code",
   "execution_count": 9,
   "id": "d43b0e5f",
   "metadata": {
    "execution": {
     "iopub.execute_input": "2023-05-28T12:56:13.922702Z",
     "iopub.status.busy": "2023-05-28T12:56:13.922393Z",
     "iopub.status.idle": "2023-05-28T12:56:13.927737Z",
     "shell.execute_reply": "2023-05-28T12:56:13.926729Z"
    },
    "papermill": {
     "duration": 0.08836,
     "end_time": "2023-05-28T12:56:13.930993",
     "exception": false,
     "start_time": "2023-05-28T12:56:13.842633",
     "status": "completed"
    },
    "tags": []
   },
   "outputs": [
    {
     "name": "stdout",
     "output_type": "stream",
     "text": [
      "Activation Memory: 9480232 Byte\n",
      "time: 0 ns (started: 2023-06-09 16:01:23 +07:00)\n"
     ]
    }
   ],
   "source": [
    "forward_act = sum(t.event.memory_activations for t in tracker.forward_traces) \n",
    "print(f\"Activation Memory: {forward_act} Byte\")"
   ]
  }
 ],
 "metadata": {
  "kernelspec": {
   "display_name": "Python 3",
   "language": "python",
   "name": "python3"
  },
  "language_info": {
   "codemirror_mode": {
    "name": "ipython",
    "version": 3
   },
   "file_extension": ".py",
   "mimetype": "text/x-python",
   "name": "python",
   "nbconvert_exporter": "python",
   "pygments_lexer": "ipython3",
   "version": "3.8.1"
  },
  "papermill": {
   "default_parameters": {},
   "duration": 241.927963,
   "end_time": "2023-05-28T12:56:15.232087",
   "environment_variables": {},
   "exception": null,
   "input_path": "__notebook__.ipynb",
   "output_path": "__notebook__.ipynb",
   "parameters": {},
   "start_time": "2023-05-28T12:52:13.304124",
   "version": "2.4.0"
  }
 },
 "nbformat": 4,
 "nbformat_minor": 5
}
