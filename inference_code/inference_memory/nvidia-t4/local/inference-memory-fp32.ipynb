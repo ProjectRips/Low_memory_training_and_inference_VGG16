{
 "cells": [
  {
   "cell_type": "code",
   "execution_count": 5,
   "id": "154a72aa",
   "metadata": {
    "execution": {
     "iopub.execute_input": "2023-05-28T13:43:21.618444Z",
     "iopub.status.busy": "2023-05-28T13:43:21.618023Z",
     "iopub.status.idle": "2023-05-28T13:47:07.221649Z",
     "shell.execute_reply": "2023-05-28T13:47:07.220243Z"
    },
    "papermill": {
     "duration": 225.609911,
     "end_time": "2023-05-28T13:47:07.224056",
     "exception": false,
     "start_time": "2023-05-28T13:43:21.614145",
     "status": "completed"
    },
    "tags": []
   },
   "outputs": [
    {
     "name": "stdout",
     "output_type": "stream",
     "text": [
      "The autotime extension is already loaded. To reload it, use:\n",
      "  %reload_ext autotime\n",
      "time: 0 ns (started: 2023-05-29 16:35:14 +07:00)\n"
     ]
    }
   ],
   "source": [
    "%load_ext autotime"
   ]
  },
  {
   "cell_type": "code",
   "execution_count": 6,
   "id": "8418e47d",
   "metadata": {
    "execution": {
     "iopub.execute_input": "2023-05-28T13:47:07.401501Z",
     "iopub.status.busy": "2023-05-28T13:47:07.401138Z",
     "iopub.status.idle": "2023-05-28T13:47:11.214020Z",
     "shell.execute_reply": "2023-05-28T13:47:11.212140Z"
    },
    "papermill": {
     "duration": 3.90378,
     "end_time": "2023-05-28T13:47:11.216128",
     "exception": false,
     "start_time": "2023-05-28T13:47:07.312348",
     "status": "completed"
    },
    "tags": []
   },
   "outputs": [
    {
     "name": "stdout",
     "output_type": "stream",
     "text": [
      "time: 0 ns (started: 2023-05-29 16:35:14 +07:00)\n"
     ]
    }
   ],
   "source": [
    "import numpy as np\n",
    "from fairscale.experimental.tooling.layer_memory_tracker import LayerwiseMemoryTracker\n",
    "from fastai.vision.all import *"
   ]
  },
  {
   "cell_type": "code",
   "execution_count": 7,
   "id": "3964d304",
   "metadata": {},
   "outputs": [
    {
     "name": "stdout",
     "output_type": "stream",
     "text": [
      "time: 0 ns (started: 2023-05-29 16:35:15 +07:00)\n"
     ]
    }
   ],
   "source": [
    "import pathlib\n",
    "temp = pathlib.PosixPath\n",
    "pathlib.PosixPath = pathlib.WindowsPath"
   ]
  },
  {
   "cell_type": "code",
   "execution_count": 8,
   "id": "5435c573",
   "metadata": {
    "execution": {
     "iopub.execute_input": "2023-05-28T13:47:11.397028Z",
     "iopub.status.busy": "2023-05-28T13:47:11.395273Z",
     "iopub.status.idle": "2023-05-28T13:47:16.383783Z",
     "shell.execute_reply": "2023-05-28T13:47:16.382604Z"
    },
    "papermill": {
     "duration": 5.081322,
     "end_time": "2023-05-28T13:47:16.385750",
     "exception": false,
     "start_time": "2023-05-28T13:47:11.304428",
     "status": "completed"
    },
    "tags": []
   },
   "outputs": [
    {
     "name": "stdout",
     "output_type": "stream",
     "text": [
      "time: 2.03 s (started: 2023-05-29 16:35:15 +07:00)\n"
     ]
    }
   ],
   "source": [
    "# Set the size of the image\n",
    "img_size = (64, 64)\n",
    "\n",
    "def create_random_data():\n",
    "    # Generate a random NumPy array\n",
    "    rand_arr = np.random.rand(*img_size, 3) * 255\n",
    "    rand_arr = rand_arr.astype(np.uint8)\n",
    "    return rand_arr\n",
    "\n",
    "def get_model_file_size(model): \n",
    "    param_size = 0\n",
    "    for param in model.parameters():\n",
    "        param_size += param.nelement() * param.element_size()\n",
    "\n",
    "    model_size = param_size\n",
    "    print('Model size: {} Byte'.format(model_size))\n",
    "\n",
    "# Create your learner and load your model\n",
    "model = load_learner(\"../../../../model/nvidia-t4/VGG16_bn_fp32.pkl\")\n",
    "\n",
    "get_model_file_size(model.model)\n",
    "\n",
    "# Set the model to evaluation mode\n",
    "model.eval()\n",
    "\n",
    "\n",
    "# Get activation memory\n",
    "tracker = LayerwiseMemoryTracker()\n",
    "tracker.monitor(model)\n",
    "\n",
    "x = create_random_data()\n",
    "preds = model.predict(x)\n",
    "\n",
    "\n",
    "tracker.stop()\n"
   ]
  },
  {
   "cell_type": "code",
   "execution_count": 9,
   "id": "ad898ae6",
   "metadata": {
    "execution": {
     "iopub.execute_input": "2023-05-28T13:47:16.564261Z",
     "iopub.status.busy": "2023-05-28T13:47:16.563702Z",
     "iopub.status.idle": "2023-05-28T13:47:16.569584Z",
     "shell.execute_reply": "2023-05-28T13:47:16.568604Z"
    },
    "papermill": {
     "duration": 0.098108,
     "end_time": "2023-05-28T13:47:16.573006",
     "exception": false,
     "start_time": "2023-05-28T13:47:16.474898",
     "status": "completed"
    },
    "tags": []
   },
   "outputs": [
    {
     "name": "stdout",
     "output_type": "stream",
     "text": [
      "Activation Memory: 9480232 Byte\n",
      "time: 0 ns (started: 2023-05-29 16:35:17 +07:00)\n"
     ]
    }
   ],
   "source": [
    "forward_act = sum(t.event.memory_activations for t in tracker.forward_traces) \n",
    "print(f\"Activation Memory: {forward_act} Byte\")"
   ]
  }
 ],
 "metadata": {
  "kernelspec": {
   "display_name": "Python 3",
   "language": "python",
   "name": "python3"
  },
  "language_info": {
   "codemirror_mode": {
    "name": "ipython",
    "version": 3
   },
   "file_extension": ".py",
   "mimetype": "text/x-python",
   "name": "python",
   "nbconvert_exporter": "python",
   "pygments_lexer": "ipython3",
   "version": "3.8.1"
  },
  "papermill": {
   "default_parameters": {},
   "duration": 247.265271,
   "end_time": "2023-05-28T13:47:17.984521",
   "environment_variables": {},
   "exception": null,
   "input_path": "__notebook__.ipynb",
   "output_path": "__notebook__.ipynb",
   "parameters": {},
   "start_time": "2023-05-28T13:43:10.719250",
   "version": "2.4.0"
  }
 },
 "nbformat": 4,
 "nbformat_minor": 5
}
