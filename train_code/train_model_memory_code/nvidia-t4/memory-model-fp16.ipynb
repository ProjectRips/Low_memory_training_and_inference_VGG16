{
 "cells": [
  {
   "cell_type": "code",
   "execution_count": 1,
   "id": "80ba1cd8",
   "metadata": {
    "execution": {
     "iopub.execute_input": "2023-05-28T05:41:19.102359Z",
     "iopub.status.busy": "2023-05-28T05:41:19.101883Z",
     "iopub.status.idle": "2023-05-28T05:45:10.044639Z",
     "shell.execute_reply": "2023-05-28T05:45:10.040281Z"
    },
    "papermill": {
     "duration": 230.950821,
     "end_time": "2023-05-28T05:45:10.046857",
     "exception": false,
     "start_time": "2023-05-28T05:41:19.096036",
     "status": "completed"
    },
    "tags": []
   },
   "outputs": [
    {
     "name": "stdout",
     "output_type": "stream",
     "text": [
      "Requirement already satisfied: fastai==2.7.9 in c:\\users\\ricky\\appdata\\local\\programs\\python\\python38\\lib\\site-packages (2.7.9)"
     ]
    },
    {
     "name": "stderr",
     "output_type": "stream",
     "text": [
      "WARNING: Ignoring invalid distribution -indows-curses (c:\\users\\ricky\\appdata\\local\\programs\\python\\python38\\lib\\site-packages)\n",
      "WARNING: Ignoring invalid distribution -rotobuf (c:\\users\\ricky\\appdata\\local\\programs\\python\\python38\\lib\\site-packages)\n",
      "WARNING: Ignoring invalid distribution -indows-curses (c:\\users\\ricky\\appdata\\local\\programs\\python\\python38\\lib\\site-packages)\n",
      "WARNING: Ignoring invalid distribution -rotobuf (c:\\users\\ricky\\appdata\\local\\programs\\python\\python38\\lib\\site-packages)\n",
      "\n",
      "[notice] A new release of pip is available: 23.1 -> 23.2\n",
      "[notice] To update, run: python.exe -m pip install --upgrade pip\n"
     ]
    },
    {
     "name": "stdout",
     "output_type": "stream",
     "text": [
      "\n",
      "Requirement already satisfied: pip in c:\\users\\ricky\\appdata\\local\\programs\\python\\python38\\lib\\site-packages (from fastai==2.7.9) (23.1)\n",
      "Requirement already satisfied: packaging in c:\\users\\ricky\\appdata\\local\\programs\\python\\python38\\lib\\site-packages (from fastai==2.7.9) (20.9)\n",
      "Requirement already satisfied: fastdownload<2,>=0.0.5 in c:\\users\\ricky\\appdata\\local\\programs\\python\\python38\\lib\\site-packages (from fastai==2.7.9) (0.0.7)\n",
      "Requirement already satisfied: fastcore<1.6,>=1.4.5 in c:\\users\\ricky\\appdata\\local\\programs\\python\\python38\\lib\\site-packages (from fastai==2.7.9) (1.5.27)\n",
      "Requirement already satisfied: torchvision>=0.8.2 in c:\\users\\ricky\\appdata\\local\\programs\\python\\python38\\lib\\site-packages (from fastai==2.7.9) (0.13.1+cu116)\n",
      "Requirement already satisfied: matplotlib in c:\\users\\ricky\\appdata\\local\\programs\\python\\python38\\lib\\site-packages (from fastai==2.7.9) (3.5.2)\n",
      "Requirement already satisfied: pandas in c:\\users\\ricky\\appdata\\local\\programs\\python\\python38\\lib\\site-packages (from fastai==2.7.9) (1.5.0)\n",
      "Requirement already satisfied: requests in c:\\users\\ricky\\appdata\\local\\programs\\python\\python38\\lib\\site-packages (from fastai==2.7.9) (2.28.0)\n",
      "Requirement already satisfied: pyyaml in c:\\users\\ricky\\appdata\\local\\programs\\python\\python38\\lib\\site-packages (from fastai==2.7.9) (6.0)\n",
      "Requirement already satisfied: fastprogress>=0.2.4 in c:\\users\\ricky\\appdata\\local\\programs\\python\\python38\\lib\\site-packages (from fastai==2.7.9) (1.0.3)\n",
      "Requirement already satisfied: pillow>6.0.0 in c:\\users\\ricky\\appdata\\local\\programs\\python\\python38\\lib\\site-packages (from fastai==2.7.9) (9.1.1)\n",
      "Requirement already satisfied: scikit-learn in c:\\users\\ricky\\appdata\\local\\programs\\python\\python38\\lib\\site-packages (from fastai==2.7.9) (1.0.2)\n",
      "Requirement already satisfied: scipy in c:\\users\\ricky\\appdata\\local\\programs\\python\\python38\\lib\\site-packages (from fastai==2.7.9) (1.8.1)\n",
      "Requirement already satisfied: spacy<4 in c:\\users\\ricky\\appdata\\local\\programs\\python\\python38\\lib\\site-packages (from fastai==2.7.9) (3.4.1)\n",
      "Requirement already satisfied: torch<1.14,>=1.7 in c:\\users\\ricky\\appdata\\local\\programs\\python\\python38\\lib\\site-packages (from fastai==2.7.9) (1.12.1+cu116)\n",
      "Requirement already satisfied: spacy-legacy<3.1.0,>=3.0.9 in c:\\users\\ricky\\appdata\\local\\programs\\python\\python38\\lib\\site-packages (from spacy<4->fastai==2.7.9) (3.0.10)\n",
      "Requirement already satisfied: spacy-loggers<2.0.0,>=1.0.0 in c:\\users\\ricky\\appdata\\local\\programs\\python\\python38\\lib\\site-packages (from spacy<4->fastai==2.7.9) (1.0.3)\n",
      "Requirement already satisfied: murmurhash<1.1.0,>=0.28.0 in c:\\users\\ricky\\appdata\\local\\programs\\python\\python38\\lib\\site-packages (from spacy<4->fastai==2.7.9) (1.0.8)\n",
      "Requirement already satisfied: cymem<2.1.0,>=2.0.2 in c:\\users\\ricky\\appdata\\local\\programs\\python\\python38\\lib\\site-packages (from spacy<4->fastai==2.7.9) (2.0.6)\n",
      "Requirement already satisfied: preshed<3.1.0,>=3.0.2 in c:\\users\\ricky\\appdata\\local\\programs\\python\\python38\\lib\\site-packages (from spacy<4->fastai==2.7.9) (3.0.7)\n",
      "Requirement already satisfied: thinc<8.2.0,>=8.1.0 in c:\\users\\ricky\\appdata\\local\\programs\\python\\python38\\lib\\site-packages (from spacy<4->fastai==2.7.9) (8.1.1)\n",
      "Requirement already satisfied: wasabi<1.1.0,>=0.9.1 in c:\\users\\ricky\\appdata\\local\\programs\\python\\python38\\lib\\site-packages (from spacy<4->fastai==2.7.9) (0.10.1)\n",
      "Requirement already satisfied: srsly<3.0.0,>=2.4.3 in c:\\users\\ricky\\appdata\\local\\programs\\python\\python38\\lib\\site-packages (from spacy<4->fastai==2.7.9) (2.4.4)\n",
      "Requirement already satisfied: catalogue<2.1.0,>=2.0.6 in c:\\users\\ricky\\appdata\\local\\programs\\python\\python38\\lib\\site-packages (from spacy<4->fastai==2.7.9) (2.0.8)\n",
      "Requirement already satisfied: typer<0.5.0,>=0.3.0 in c:\\users\\ricky\\appdata\\local\\programs\\python\\python38\\lib\\site-packages (from spacy<4->fastai==2.7.9) (0.4.2)\n",
      "Requirement already satisfied: pathy>=0.3.5 in c:\\users\\ricky\\appdata\\local\\programs\\python\\python38\\lib\\site-packages (from spacy<4->fastai==2.7.9) (0.6.2)\n",
      "Requirement already satisfied: tqdm<5.0.0,>=4.38.0 in c:\\users\\ricky\\appdata\\local\\programs\\python\\python38\\lib\\site-packages (from spacy<4->fastai==2.7.9) (4.64.1)\n",
      "Requirement already satisfied: numpy>=1.15.0 in c:\\users\\ricky\\appdata\\local\\programs\\python\\python38\\lib\\site-packages (from spacy<4->fastai==2.7.9) (1.22.4)\n",
      "Requirement already satisfied: pydantic!=1.8,!=1.8.1,<1.10.0,>=1.7.4 in c:\\users\\ricky\\appdata\\local\\programs\\python\\python38\\lib\\site-packages (from spacy<4->fastai==2.7.9) (1.9.2)\n",
      "Requirement already satisfied: jinja2 in c:\\users\\ricky\\appdata\\local\\programs\\python\\python38\\lib\\site-packages (from spacy<4->fastai==2.7.9) (3.1.2)\n",
      "Requirement already satisfied: setuptools in c:\\users\\ricky\\appdata\\local\\programs\\python\\python38\\lib\\site-packages (from spacy<4->fastai==2.7.9) (41.2.0)\n",
      "Requirement already satisfied: langcodes<4.0.0,>=3.2.0 in c:\\users\\ricky\\appdata\\local\\programs\\python\\python38\\lib\\site-packages (from spacy<4->fastai==2.7.9) (3.3.0)\n",
      "Requirement already satisfied: pyparsing>=2.0.2 in c:\\users\\ricky\\appdata\\local\\programs\\python\\python38\\lib\\site-packages (from packaging->fastai==2.7.9) (3.0.9)\n",
      "Requirement already satisfied: charset-normalizer~=2.0.0 in c:\\users\\ricky\\appdata\\local\\programs\\python\\python38\\lib\\site-packages (from requests->fastai==2.7.9) (2.0.12)\n",
      "Requirement already satisfied: idna<4,>=2.5 in c:\\users\\ricky\\appdata\\local\\programs\\python\\python38\\lib\\site-packages (from requests->fastai==2.7.9) (3.3)\n",
      "Requirement already satisfied: urllib3<1.27,>=1.21.1 in c:\\users\\ricky\\appdata\\local\\programs\\python\\python38\\lib\\site-packages (from requests->fastai==2.7.9) (1.26.9)\n",
      "Requirement already satisfied: certifi>=2017.4.17 in c:\\users\\ricky\\appdata\\local\\programs\\python\\python38\\lib\\site-packages (from requests->fastai==2.7.9) (2022.6.15)\n",
      "Requirement already satisfied: typing-extensions in c:\\users\\ricky\\appdata\\local\\programs\\python\\python38\\lib\\site-packages (from torch<1.14,>=1.7->fastai==2.7.9) (4.2.0)\n",
      "Requirement already satisfied: cycler>=0.10 in c:\\users\\ricky\\appdata\\local\\programs\\python\\python38\\lib\\site-packages (from matplotlib->fastai==2.7.9) (0.11.0)\n",
      "Requirement already satisfied: fonttools>=4.22.0 in c:\\users\\ricky\\appdata\\local\\programs\\python\\python38\\lib\\site-packages (from matplotlib->fastai==2.7.9) (4.33.3)\n",
      "Requirement already satisfied: kiwisolver>=1.0.1 in c:\\users\\ricky\\appdata\\local\\programs\\python\\python38\\lib\\site-packages (from matplotlib->fastai==2.7.9) (1.4.3)\n",
      "Requirement already satisfied: python-dateutil>=2.7 in c:\\users\\ricky\\appdata\\local\\programs\\python\\python38\\lib\\site-packages (from matplotlib->fastai==2.7.9) (2.8.2)\n",
      "Requirement already satisfied: pytz>=2020.1 in c:\\users\\ricky\\appdata\\local\\programs\\python\\python38\\lib\\site-packages (from pandas->fastai==2.7.9) (2022.2.1)\n",
      "Requirement already satisfied: joblib>=0.11 in c:\\users\\ricky\\appdata\\local\\programs\\python\\python38\\lib\\site-packages (from scikit-learn->fastai==2.7.9) (1.1.0)\n",
      "Requirement already satisfied: threadpoolctl>=2.0.0 in c:\\users\\ricky\\appdata\\local\\programs\\python\\python38\\lib\\site-packages (from scikit-learn->fastai==2.7.9) (3.1.0)\n",
      "Requirement already satisfied: smart-open<6.0.0,>=5.2.1 in c:\\users\\ricky\\appdata\\local\\programs\\python\\python38\\lib\\site-packages (from pathy>=0.3.5->spacy<4->fastai==2.7.9) (5.2.1)\n",
      "Requirement already satisfied: six>=1.5 in c:\\users\\ricky\\appdata\\local\\programs\\python\\python38\\lib\\site-packages (from python-dateutil>=2.7->matplotlib->fastai==2.7.9) (1.16.0)\n",
      "Requirement already satisfied: blis<0.10.0,>=0.7.8 in c:\\users\\ricky\\appdata\\local\\programs\\python\\python38\\lib\\site-packages (from thinc<8.2.0,>=8.1.0->spacy<4->fastai==2.7.9) (0.9.1)\n",
      "Requirement already satisfied: confection<1.0.0,>=0.0.1 in c:\\users\\ricky\\appdata\\local\\programs\\python\\python38\\lib\\site-packages (from thinc<8.2.0,>=8.1.0->spacy<4->fastai==2.7.9) (0.0.1)\n",
      "Requirement already satisfied: colorama in c:\\users\\ricky\\appdata\\roaming\\python\\python38\\site-packages (from tqdm<5.0.0,>=4.38.0->spacy<4->fastai==2.7.9) (0.4.6)\n",
      "Requirement already satisfied: click<9.0.0,>=7.1.1 in c:\\users\\ricky\\appdata\\local\\programs\\python\\python38\\lib\\site-packages (from typer<0.5.0,>=0.3.0->spacy<4->fastai==2.7.9) (8.1.3)\n",
      "Requirement already satisfied: MarkupSafe>=2.0 in c:\\users\\ricky\\appdata\\local\\programs\\python\\python38\\lib\\site-packages (from jinja2->spacy<4->fastai==2.7.9) (2.1.1)\n",
      "Requirement already satisfied: fastkaggle==0.0.7 in c:\\users\\ricky\\appdata\\local\\programs\\python\\python38\\lib\\site-packages (0.0.7)\n",
      "Requirement already satisfied: fastcore>=1.4.5 in c:\\users\\ricky\\appdata\\local\\programs\\python\\python38\\lib\\site-packages (from fastkaggle==0.0.7) (1.5.27)\n",
      "Requirement already satisfied: kaggle in c:\\users\\ricky\\appdata\\local\\programs\\python\\python38\\lib\\site-packages (from fastkaggle==0.0.7) (1.5.12)\n",
      "Requirement already satisfied: pip in c:\\users\\ricky\\appdata\\local\\programs\\python\\python38\\lib\\site-packages (from fastcore>=1.4.5->fastkaggle==0.0.7) (23.1)\n",
      "Requirement already satisfied: packaging in c:\\users\\ricky\\appdata\\local\\programs\\python\\python38\\lib\\site-packages (from fastcore>=1.4.5->fastkaggle==0.0.7) (20.9)\n",
      "Requirement already satisfied: six>=1.10 in c:\\users\\ricky\\appdata\\local\\programs\\python\\python38\\lib\\site-packages (from kaggle->fastkaggle==0.0.7) (1.16.0)\n",
      "Requirement already satisfied: certifi in c:\\users\\ricky\\appdata\\local\\programs\\python\\python38\\lib\\site-packages (from kaggle->fastkaggle==0.0.7) (2022.6.15)\n",
      "Requirement already satisfied: python-dateutil in c:\\users\\ricky\\appdata\\local\\programs\\python\\python38\\lib\\site-packages (from kaggle->fastkaggle==0.0.7) (2.8.2)\n",
      "Requirement already satisfied: requests in c:\\users\\ricky\\appdata\\local\\programs\\python\\python38\\lib\\site-packages (from kaggle->fastkaggle==0.0.7) (2.28.0)\n",
      "Requirement already satisfied: tqdm in c:\\users\\ricky\\appdata\\local\\programs\\python\\python38\\lib\\site-packages (from kaggle->fastkaggle==0.0.7) (4.64.1)\n",
      "Requirement already satisfied: python-slugify in c:\\users\\ricky\\appdata\\local\\programs\\python\\python38\\lib\\site-packages (from kaggle->fastkaggle==0.0.7) (6.1.2)\n",
      "Requirement already satisfied: urllib3 in c:\\users\\ricky\\appdata\\local\\programs\\python\\python38\\lib\\site-packages (from kaggle->fastkaggle==0.0.7) (1.26.9)\n",
      "Requirement already satisfied: pyparsing>=2.0.2 in c:\\users\\ricky\\appdata\\local\\programs\\python\\python38\\lib\\site-packages (from packaging->fastcore>=1.4.5->fastkaggle==0.0.7) (3.0.9)\n",
      "Requirement already satisfied: text-unidecode>=1.3 in c:\\users\\ricky\\appdata\\local\\programs\\python\\python38\\lib\\site-packages (from python-slugify->kaggle->fastkaggle==0.0.7) (1.3)\n",
      "Requirement already satisfied: charset-normalizer~=2.0.0 in c:\\users\\ricky\\appdata\\local\\programs\\python\\python38\\lib\\site-packages (from requests->kaggle->fastkaggle==0.0.7) (2.0.12)\n",
      "Requirement already satisfied: idna<4,>=2.5 in c:\\users\\ricky\\appdata\\local\\programs\\python\\python38\\lib\\site-packages (from requests->kaggle->fastkaggle==0.0.7) (3.3)\n",
      "Requirement already satisfied: colorama in c:\\users\\ricky\\appdata\\roaming\\python\\python38\\site-packages (from tqdm->kaggle->fastkaggle==0.0.7) (0.4.6)\n"
     ]
    },
    {
     "name": "stderr",
     "output_type": "stream",
     "text": [
      "WARNING: Ignoring invalid distribution -indows-curses (c:\\users\\ricky\\appdata\\local\\programs\\python\\python38\\lib\\site-packages)\n",
      "WARNING: Ignoring invalid distribution -rotobuf (c:\\users\\ricky\\appdata\\local\\programs\\python\\python38\\lib\\site-packages)\n",
      "WARNING: Ignoring invalid distribution -indows-curses (c:\\users\\ricky\\appdata\\local\\programs\\python\\python38\\lib\\site-packages)\n",
      "WARNING: Ignoring invalid distribution -rotobuf (c:\\users\\ricky\\appdata\\local\\programs\\python\\python38\\lib\\site-packages)\n",
      "\n",
      "[notice] A new release of pip is available: 23.1 -> 23.2\n",
      "[notice] To update, run: python.exe -m pip install --upgrade pip\n"
     ]
    },
    {
     "name": "stdout",
     "output_type": "stream",
     "text": [
      "^C\n",
      "Requirement already satisfied: fasterai==0.1.11 in c:\\users\\ricky\\appdata\\local\\programs\\python\\python38\\lib\\site-packages (0.1.11)\n",
      "Requirement already satisfied: fastai>=2.2 in c:\\users\\ricky\\appdata\\local\\programs\\python\\python38\\lib\\site-packages (from fasterai==0.1.11) (2.7.9)\n",
      "Requirement already satisfied: pip in c:\\users\\ricky\\appdata\\local\\programs\\python\\python38\\lib\\site-packages (from fastai>=2.2->fasterai==0.1.11) (23.1)\n",
      "Requirement already satisfied: packaging in c:\\users\\ricky\\appdata\\local\\programs\\python\\python38\\lib\\site-packages (from fastai>=2.2->fasterai==0.1.11) (20.9)\n",
      "Requirement already satisfied: fastdownload<2,>=0.0.5 in c:\\users\\ricky\\appdata\\local\\programs\\python\\python38\\lib\\site-packages (from fastai>=2.2->fasterai==0.1.11) (0.0.7)\n",
      "Requirement already satisfied: fastcore<1.6,>=1.4.5 in c:\\users\\ricky\\appdata\\local\\programs\\python\\python38\\lib\\site-packages (from fastai>=2.2->fasterai==0.1.11) (1.5.27)\n",
      "Requirement already satisfied: torchvision>=0.8.2 in c:\\users\\ricky\\appdata\\local\\programs\\python\\python38\\lib\\site-packages (from fastai>=2.2->fasterai==0.1.11) (0.13.1+cu116)\n",
      "Requirement already satisfied: matplotlib in c:\\users\\ricky\\appdata\\local\\programs\\python\\python38\\lib\\site-packages (from fastai>=2.2->fasterai==0.1.11) (3.5.2)\n",
      "Requirement already satisfied: pandas in c:\\users\\ricky\\appdata\\local\\programs\\python\\python38\\lib\\site-packages (from fastai>=2.2->fasterai==0.1.11) (1.5.0)\n",
      "Requirement already satisfied: requests in c:\\users\\ricky\\appdata\\local\\programs\\python\\python38\\lib\\site-packages (from fastai>=2.2->fasterai==0.1.11) (2.28.0)\n",
      "Requirement already satisfied: pyyaml in c:\\users\\ricky\\appdata\\local\\programs\\python\\python38\\lib\\site-packages (from fastai>=2.2->fasterai==0.1.11) (6.0)\n",
      "Requirement already satisfied: fastprogress>=0.2.4 in c:\\users\\ricky\\appdata\\local\\programs\\python\\python38\\lib\\site-packages (from fastai>=2.2->fasterai==0.1.11) (1.0.3)\n",
      "Requirement already satisfied: pillow>6.0.0 in c:\\users\\ricky\\appdata\\local\\programs\\python\\python38\\lib\\site-packages (from fastai>=2.2->fasterai==0.1.11) (9.1.1)\n",
      "Requirement already satisfied: scikit-learn in c:\\users\\ricky\\appdata\\local\\programs\\python\\python38\\lib\\site-packages (from fastai>=2.2->fasterai==0.1.11) (1.0.2)\n",
      "Requirement already satisfied: scipy in c:\\users\\ricky\\appdata\\local\\programs\\python\\python38\\lib\\site-packages (from fastai>=2.2->fasterai==0.1.11) (1.8.1)\n",
      "Requirement already satisfied: spacy<4 in c:\\users\\ricky\\appdata\\local\\programs\\python\\python38\\lib\\site-packages (from fastai>=2.2->fasterai==0.1.11) (3.4.1)\n",
      "Requirement already satisfied: torch<1.14,>=1.7 in c:\\users\\ricky\\appdata\\local\\programs\\python\\python38\\lib\\site-packages (from fastai>=2.2->fasterai==0.1.11) (1.12.1+cu116)\n",
      "Requirement already satisfied: spacy-legacy<3.1.0,>=3.0.9 in c:\\users\\ricky\\appdata\\local\\programs\\python\\python38\\lib\\site-packages (from spacy<4->fastai>=2.2->fasterai==0.1.11) (3.0.10)\n",
      "Requirement already satisfied: spacy-loggers<2.0.0,>=1.0.0 in c:\\users\\ricky\\appdata\\local\\programs\\python\\python38\\lib\\site-packages (from spacy<4->fastai>=2.2->fasterai==0.1.11) (1.0.3)\n",
      "Requirement already satisfied: murmurhash<1.1.0,>=0.28.0 in c:\\users\\ricky\\appdata\\local\\programs\\python\\python38\\lib\\site-packages (from spacy<4->fastai>=2.2->fasterai==0.1.11) (1.0.8)\n",
      "Requirement already satisfied: cymem<2.1.0,>=2.0.2 in c:\\users\\ricky\\appdata\\local\\programs\\python\\python38\\lib\\site-packages (from spacy<4->fastai>=2.2->fasterai==0.1.11) (2.0.6)\n",
      "Requirement already satisfied: preshed<3.1.0,>=3.0.2 in c:\\users\\ricky\\appdata\\local\\programs\\python\\python38\\lib\\site-packages (from spacy<4->fastai>=2.2->fasterai==0.1.11) (3.0.7)\n",
      "Requirement already satisfied: thinc<8.2.0,>=8.1.0 in c:\\users\\ricky\\appdata\\local\\programs\\python\\python38\\lib\\site-packages (from spacy<4->fastai>=2.2->fasterai==0.1.11) (8.1.1)\n",
      "Requirement already satisfied: wasabi<1.1.0,>=0.9.1 in c:\\users\\ricky\\appdata\\local\\programs\\python\\python38\\lib\\site-packages (from spacy<4->fastai>=2.2->fasterai==0.1.11) (0.10.1)\n",
      "Requirement already satisfied: srsly<3.0.0,>=2.4.3 in c:\\users\\ricky\\appdata\\local\\programs\\python\\python38\\lib\\site-packages (from spacy<4->fastai>=2.2->fasterai==0.1.11) (2.4.4)\n",
      "Requirement already satisfied: catalogue<2.1.0,>=2.0.6 in c:\\users\\ricky\\appdata\\local\\programs\\python\\python38\\lib\\site-packages (from spacy<4->fastai>=2.2->fasterai==0.1.11) (2.0.8)\n",
      "Requirement already satisfied: typer<0.5.0,>=0.3.0 in c:\\users\\ricky\\appdata\\local\\programs\\python\\python38\\lib\\site-packages (from spacy<4->fastai>=2.2->fasterai==0.1.11) (0.4.2)\n",
      "Requirement already satisfied: pathy>=0.3.5 in c:\\users\\ricky\\appdata\\local\\programs\\python\\python38\\lib\\site-packages (from spacy<4->fastai>=2.2->fasterai==0.1.11) (0.6.2)\n",
      "Requirement already satisfied: tqdm<5.0.0,>=4.38.0 in c:\\users\\ricky\\appdata\\local\\programs\\python\\python38\\lib\\site-packages (from spacy<4->fastai>=2.2->fasterai==0.1.11) (4.64.1)\n",
      "Requirement already satisfied: numpy>=1.15.0 in c:\\users\\ricky\\appdata\\local\\programs\\python\\python38\\lib\\site-packages (from spacy<4->fastai>=2.2->fasterai==0.1.11) (1.22.4)\n",
      "Requirement already satisfied: pydantic!=1.8,!=1.8.1,<1.10.0,>=1.7.4 in c:\\users\\ricky\\appdata\\local\\programs\\python\\python38\\lib\\site-packages (from spacy<4->fastai>=2.2->fasterai==0.1.11) (1.9.2)\n",
      "Requirement already satisfied: jinja2 in c:\\users\\ricky\\appdata\\local\\programs\\python\\python38\\lib\\site-packages (from spacy<4->fastai>=2.2->fasterai==0.1.11) (3.1.2)\n",
      "Requirement already satisfied: setuptools in c:\\users\\ricky\\appdata\\local\\programs\\python\\python38\\lib\\site-packages (from spacy<4->fastai>=2.2->fasterai==0.1.11) (41.2.0)\n",
      "Requirement already satisfied: langcodes<4.0.0,>=3.2.0 in c:\\users\\ricky\\appdata\\local\\programs\\python\\python38\\lib\\site-packages (from spacy<4->fastai>=2.2->fasterai==0.1.11) (3.3.0)\n",
      "Requirement already satisfied: pyparsing>=2.0.2 in c:\\users\\ricky\\appdata\\local\\programs\\python\\python38\\lib\\site-packages (from packaging->fastai>=2.2->fasterai==0.1.11) (3.0.9)\n",
      "Requirement already satisfied: charset-normalizer~=2.0.0 in c:\\users\\ricky\\appdata\\local\\programs\\python\\python38\\lib\\site-packages (from requests->fastai>=2.2->fasterai==0.1.11) (2.0.12)\n",
      "Requirement already satisfied: idna<4,>=2.5 in c:\\users\\ricky\\appdata\\local\\programs\\python\\python38\\lib\\site-packages (from requests->fastai>=2.2->fasterai==0.1.11) (3.3)\n",
      "Requirement already satisfied: urllib3<1.27,>=1.21.1 in c:\\users\\ricky\\appdata\\local\\programs\\python\\python38\\lib\\site-packages (from requests->fastai>=2.2->fasterai==0.1.11) (1.26.9)\n",
      "Requirement already satisfied: certifi>=2017.4.17 in c:\\users\\ricky\\appdata\\local\\programs\\python\\python38\\lib\\site-packages (from requests->fastai>=2.2->fasterai==0.1.11) (2022.6.15)\n",
      "Requirement already satisfied: typing-extensions in c:\\users\\ricky\\appdata\\local\\programs\\python\\python38\\lib\\site-packages (from torch<1.14,>=1.7->fastai>=2.2->fasterai==0.1.11) (4.2.0)\n",
      "Requirement already satisfied: cycler>=0.10 in c:\\users\\ricky\\appdata\\local\\programs\\python\\python38\\lib\\site-packages (from matplotlib->fastai>=2.2->fasterai==0.1.11) (0.11.0)\n",
      "Requirement already satisfied: fonttools>=4.22.0 in c:\\users\\ricky\\appdata\\local\\programs\\python\\python38\\lib\\site-packages (from matplotlib->fastai>=2.2->fasterai==0.1.11) (4.33.3)\n",
      "Requirement already satisfied: kiwisolver>=1.0.1 in c:\\users\\ricky\\appdata\\local\\programs\\python\\python38\\lib\\site-packages (from matplotlib->fastai>=2.2->fasterai==0.1.11) (1.4.3)\n",
      "Requirement already satisfied: python-dateutil>=2.7 in c:\\users\\ricky\\appdata\\local\\programs\\python\\python38\\lib\\site-packages (from matplotlib->fastai>=2.2->fasterai==0.1.11) (2.8.2)\n",
      "Requirement already satisfied: pytz>=2020.1 in c:\\users\\ricky\\appdata\\local\\programs\\python\\python38\\lib\\site-packages (from pandas->fastai>=2.2->fasterai==0.1.11) (2022.2.1)\n",
      "Requirement already satisfied: joblib>=0.11 in c:\\users\\ricky\\appdata\\local\\programs\\python\\python38\\lib\\site-packages (from scikit-learn->fastai>=2.2->fasterai==0.1.11) (1.1.0)\n",
      "Requirement already satisfied: threadpoolctl>=2.0.0 in c:\\users\\ricky\\appdata\\local\\programs\\python\\python38\\lib\\site-packages (from scikit-learn->fastai>=2.2->fasterai==0.1.11) (3.1.0)\n",
      "Requirement already satisfied: smart-open<6.0.0,>=5.2.1 in c:\\users\\ricky\\appdata\\local\\programs\\python\\python38\\lib\\site-packages (from pathy>=0.3.5->spacy<4->fastai>=2.2->fasterai==0.1.11) (5.2.1)\n",
      "Requirement already satisfied: six>=1.5 in c:\\users\\ricky\\appdata\\local\\programs\\python\\python38\\lib\\site-packages (from python-dateutil>=2.7->matplotlib->fastai>=2.2->fasterai==0.1.11) (1.16.0)\n",
      "Requirement already satisfied: blis<0.10.0,>=0.7.8 in c:\\users\\ricky\\appdata\\local\\programs\\python\\python38\\lib\\site-packages (from thinc<8.2.0,>=8.1.0->spacy<4->fastai>=2.2->fasterai==0.1.11) (0.9.1)\n",
      "Requirement already satisfied: confection<1.0.0,>=0.0.1 in c:\\users\\ricky\\appdata\\local\\programs\\python\\python38\\lib\\site-packages (from thinc<8.2.0,>=8.1.0->spacy<4->fastai>=2.2->fasterai==0.1.11) (0.0.1)\n",
      "Requirement already satisfied: colorama in c:\\users\\ricky\\appdata\\roaming\\python\\python38\\site-packages (from tqdm<5.0.0,>=4.38.0->spacy<4->fastai>=2.2->fasterai==0.1.11) (0.4.6)\n",
      "Requirement already satisfied: click<9.0.0,>=7.1.1 in c:\\users\\ricky\\appdata\\local\\programs\\python\\python38\\lib\\site-packages (from typer<0.5.0,>=0.3.0->spacy<4->fastai>=2.2->fasterai==0.1.11) (8.1.3)\n",
      "Requirement already satisfied: MarkupSafe>=2.0 in c:\\users\\ricky\\appdata\\local\\programs\\python\\python38\\lib\\site-packages (from jinja2->spacy<4->fastai>=2.2->fasterai==0.1.11) (2.1.1)\n"
     ]
    },
    {
     "name": "stderr",
     "output_type": "stream",
     "text": [
      "WARNING: Ignoring invalid distribution -indows-curses (c:\\users\\ricky\\appdata\\local\\programs\\python\\python38\\lib\\site-packages)\n",
      "WARNING: Ignoring invalid distribution -rotobuf (c:\\users\\ricky\\appdata\\local\\programs\\python\\python38\\lib\\site-packages)\n",
      "WARNING: Ignoring invalid distribution -indows-curses (c:\\users\\ricky\\appdata\\local\\programs\\python\\python38\\lib\\site-packages)\n",
      "WARNING: Ignoring invalid distribution -rotobuf (c:\\users\\ricky\\appdata\\local\\programs\\python\\python38\\lib\\site-packages)\n",
      "\n",
      "[notice] A new release of pip is available: 23.1 -> 23.2\n",
      "[notice] To update, run: python.exe -m pip install --upgrade pip\n"
     ]
    },
    {
     "name": "stdout",
     "output_type": "stream",
     "text": [
      "Requirement already satisfied: ipython-autotime==0.3.1 in c:\\users\\ricky\\appdata\\local\\programs\\python\\python38\\lib\\site-packages (0.3.1)\n",
      "Requirement already satisfied: ipython in c:\\users\\ricky\\appdata\\local\\programs\\python\\python38\\lib\\site-packages (from ipython-autotime==0.3.1) (8.4.0)\n",
      "Requirement already satisfied: backcall in c:\\users\\ricky\\appdata\\local\\programs\\python\\python38\\lib\\site-packages (from ipython->ipython-autotime==0.3.1) (0.2.0)\n",
      "Requirement already satisfied: decorator in c:\\users\\ricky\\appdata\\local\\programs\\python\\python38\\lib\\site-packages (from ipython->ipython-autotime==0.3.1) (5.1.1)\n",
      "Requirement already satisfied: jedi>=0.16 in c:\\users\\ricky\\appdata\\local\\programs\\python\\python38\\lib\\site-packages (from ipython->ipython-autotime==0.3.1) (0.18.1)\n",
      "Requirement already satisfied: matplotlib-inline in c:\\users\\ricky\\appdata\\local\\programs\\python\\python38\\lib\\site-packages (from ipython->ipython-autotime==0.3.1) (0.1.3)\n",
      "Requirement already satisfied: pickleshare in c:\\users\\ricky\\appdata\\local\\programs\\python\\python38\\lib\\site-packages (from ipython->ipython-autotime==0.3.1) (0.7.5)\n",
      "Requirement already satisfied: prompt-toolkit!=3.0.0,!=3.0.1,<3.1.0,>=2.0.0 in c:\\users\\ricky\\appdata\\local\\programs\\python\\python38\\lib\\site-packages (from ipython->ipython-autotime==0.3.1) (3.0.29)\n",
      "Requirement already satisfied: pygments>=2.4.0 in c:\\users\\ricky\\appdata\\local\\programs\\python\\python38\\lib\\site-packages (from ipython->ipython-autotime==0.3.1) (2.12.0)\n",
      "Requirement already satisfied: setuptools>=18.5 in c:\\users\\ricky\\appdata\\local\\programs\\python\\python38\\lib\\site-packages (from ipython->ipython-autotime==0.3.1) (41.2.0)\n",
      "Requirement already satisfied: stack-data in c:\\users\\ricky\\appdata\\local\\programs\\python\\python38\\lib\\site-packages (from ipython->ipython-autotime==0.3.1) (0.3.0)\n",
      "Requirement already satisfied: traitlets>=5 in c:\\users\\ricky\\appdata\\local\\programs\\python\\python38\\lib\\site-packages (from ipython->ipython-autotime==0.3.1) (5.3.0)\n",
      "Requirement already satisfied: colorama in c:\\users\\ricky\\appdata\\roaming\\python\\python38\\site-packages (from ipython->ipython-autotime==0.3.1) (0.4.6)\n",
      "Requirement already satisfied: parso<0.9.0,>=0.8.0 in c:\\users\\ricky\\appdata\\local\\programs\\python\\python38\\lib\\site-packages (from jedi>=0.16->ipython->ipython-autotime==0.3.1) (0.8.3)\n",
      "Requirement already satisfied: wcwidth in c:\\users\\ricky\\appdata\\local\\programs\\python\\python38\\lib\\site-packages (from prompt-toolkit!=3.0.0,!=3.0.1,<3.1.0,>=2.0.0->ipython->ipython-autotime==0.3.1) (0.2.5)\n",
      "Requirement already satisfied: executing in c:\\users\\ricky\\appdata\\local\\programs\\python\\python38\\lib\\site-packages (from stack-data->ipython->ipython-autotime==0.3.1) (0.8.3)\n",
      "Requirement already satisfied: asttokens in c:\\users\\ricky\\appdata\\local\\programs\\python\\python38\\lib\\site-packages (from stack-data->ipython->ipython-autotime==0.3.1) (2.0.5)\n",
      "Requirement already satisfied: pure-eval in c:\\users\\ricky\\appdata\\local\\programs\\python\\python38\\lib\\site-packages (from stack-data->ipython->ipython-autotime==0.3.1) (0.2.2)\n",
      "Requirement already satisfied: six in c:\\users\\ricky\\appdata\\local\\programs\\python\\python38\\lib\\site-packages (from asttokens->stack-data->ipython->ipython-autotime==0.3.1) (1.16.0)\n"
     ]
    },
    {
     "name": "stderr",
     "output_type": "stream",
     "text": [
      "WARNING: Ignoring invalid distribution -indows-curses (c:\\users\\ricky\\appdata\\local\\programs\\python\\python38\\lib\\site-packages)\n",
      "WARNING: Ignoring invalid distribution -rotobuf (c:\\users\\ricky\\appdata\\local\\programs\\python\\python38\\lib\\site-packages)\n",
      "WARNING: Ignoring invalid distribution -indows-curses (c:\\users\\ricky\\appdata\\local\\programs\\python\\python38\\lib\\site-packages)\n",
      "WARNING: Ignoring invalid distribution -rotobuf (c:\\users\\ricky\\appdata\\local\\programs\\python\\python38\\lib\\site-packages)\n",
      "\n",
      "[notice] A new release of pip is available: 23.1 -> 23.2\n",
      "[notice] To update, run: python.exe -m pip install --upgrade pip\n"
     ]
    },
    {
     "name": "stdout",
     "output_type": "stream",
     "text": [
      "Requirement already satisfied: torch==1.12.1 in c:\\users\\ricky\\appdata\\local\\programs\\python\\python38\\lib\\site-packages (1.12.1+cu116)\n",
      "Requirement already satisfied: typing-extensions in c:\\users\\ricky\\appdata\\local\\programs\\python\\python38\\lib\\site-packages (from torch==1.12.1) (4.2.0)\n",
      "time: 0 ns (started: 2023-07-15 19:56:52 +07:00)\n"
     ]
    },
    {
     "name": "stderr",
     "output_type": "stream",
     "text": [
      "WARNING: Ignoring invalid distribution -indows-curses (c:\\users\\ricky\\appdata\\local\\programs\\python\\python38\\lib\\site-packages)\n",
      "WARNING: Ignoring invalid distribution -rotobuf (c:\\users\\ricky\\appdata\\local\\programs\\python\\python38\\lib\\site-packages)\n",
      "WARNING: Ignoring invalid distribution -indows-curses (c:\\users\\ricky\\appdata\\local\\programs\\python\\python38\\lib\\site-packages)\n",
      "WARNING: Ignoring invalid distribution -rotobuf (c:\\users\\ricky\\appdata\\local\\programs\\python\\python38\\lib\\site-packages)\n",
      "\n",
      "[notice] A new release of pip is available: 23.1 -> 23.2\n",
      "[notice] To update, run: python.exe -m pip install --upgrade pip\n"
     ]
    }
   ],
   "source": [
    "!pip install fastai==2.7.9\n",
    "!pip install fastkaggle==0.0.7\n",
    "!pip install fasterai==0.1.11\n",
    "!pip install ipython-autotime==0.3.1\n",
    "!pip install torch==1.12.1\n",
    "%load_ext autotime"
   ]
  },
  {
   "cell_type": "code",
   "execution_count": null,
   "id": "907f110a",
   "metadata": {
    "execution": {
     "iopub.execute_input": "2023-05-28T05:45:10.242519Z",
     "iopub.status.busy": "2023-05-28T05:45:10.242080Z",
     "iopub.status.idle": "2023-05-28T05:45:16.264643Z",
     "shell.execute_reply": "2023-05-28T05:45:16.263429Z"
    },
    "papermill": {
     "duration": 6.116043,
     "end_time": "2023-05-28T05:45:16.267175",
     "exception": false,
     "start_time": "2023-05-28T05:45:10.151132",
     "status": "completed"
    },
    "tags": []
   },
   "outputs": [
    {
     "name": "stderr",
     "output_type": "stream",
     "text": [
      "/opt/conda/lib/python3.10/site-packages/torchvision/io/image.py:13: UserWarning: Failed to load image Python extension: '/opt/conda/lib/python3.10/site-packages/torchvision/image.so: undefined symbol: _ZN3c104cuda20CUDACachingAllocator9allocatorE'If you don't plan on using image functionality from `torchvision.io`, you can ignore this warning. Otherwise, there might be something wrong with your environment. Did you have `libjpeg` or `libpng` installed before building `torchvision` from source?\n",
      "  warn(\n"
     ]
    },
    {
     "name": "stdout",
     "output_type": "stream",
     "text": [
      "time: 6.02 s (started: 2023-05-28 05:45:10 +00:00)\n"
     ]
    }
   ],
   "source": [
    "from fastkaggle import *\n",
    "from fastai.vision.all import *\n",
    "from fasterai.sparse.all import *\n",
    "from torchvision.models import vgg16_bn"
   ]
  },
  {
   "cell_type": "code",
   "execution_count": null,
   "id": "b843368f",
   "metadata": {
    "execution": {
     "iopub.execute_input": "2023-05-28T05:45:16.444175Z",
     "iopub.status.busy": "2023-05-28T05:45:16.443050Z",
     "iopub.status.idle": "2023-05-28T05:45:30.276776Z",
     "shell.execute_reply": "2023-05-28T05:45:30.275697Z"
    },
    "papermill": {
     "duration": 13.923182,
     "end_time": "2023-05-28T05:45:30.279004",
     "exception": false,
     "start_time": "2023-05-28T05:45:16.355822",
     "status": "completed"
    },
    "tags": []
   },
   "outputs": [
    {
     "name": "stdout",
     "output_type": "stream",
     "text": [
      "time: 13.8 s (started: 2023-05-28 05:45:16 +00:00)\n"
     ]
    }
   ],
   "source": [
    "comp = 'paddy-diseases/paddy-diseases'\n",
    "\n",
    "path = setup_comp(comp, install='\"fastcore>=1.4.5\" \"fastai>=2.7.1\" \"timm>=0.6.2.dev0\"')"
   ]
  },
  {
   "cell_type": "code",
   "execution_count": null,
   "id": "7412084a",
   "metadata": {
    "execution": {
     "iopub.execute_input": "2023-05-28T05:45:30.457751Z",
     "iopub.status.busy": "2023-05-28T05:45:30.457399Z",
     "iopub.status.idle": "2023-05-28T05:45:45.896405Z",
     "shell.execute_reply": "2023-05-28T05:45:45.895116Z"
    },
    "papermill": {
     "duration": 15.52994,
     "end_time": "2023-05-28T05:45:45.899585",
     "exception": false,
     "start_time": "2023-05-28T05:45:30.369645",
     "status": "completed"
    },
    "tags": []
   },
   "outputs": [
    {
     "name": "stdout",
     "output_type": "stream",
     "text": [
      "time: 15.4 s (started: 2023-05-28 05:45:30 +00:00)\n"
     ]
    }
   ],
   "source": [
    "dls = ImageDataLoaders.from_folder(path/\"train\", \n",
    "                                   valid_pct=0.25, \n",
    "                                   item_tfms=Resize(256), \n",
    "                                   batch_tfms=aug_transforms(   size=64, \n",
    "                                                                min_scale=0.75,\n",
    "                                                                max_rotate=10., \n",
    "                                                                min_zoom=0.8, \n",
    "                                                                max_zoom=1.2, \n",
    "                                                            \n",
    "                                                            ), \n",
    "                                   bs=32)"
   ]
  },
  {
   "cell_type": "code",
   "execution_count": null,
   "id": "307ce34d",
   "metadata": {
    "execution": {
     "iopub.execute_input": "2023-05-28T05:45:46.085962Z",
     "iopub.status.busy": "2023-05-28T05:45:46.085556Z",
     "iopub.status.idle": "2023-05-28T05:45:46.092823Z",
     "shell.execute_reply": "2023-05-28T05:45:46.091713Z"
    },
    "papermill": {
     "duration": 0.102928,
     "end_time": "2023-05-28T05:45:46.097142",
     "exception": false,
     "start_time": "2023-05-28T05:45:45.994214",
     "status": "completed"
    },
    "tags": []
   },
   "outputs": [
    {
     "name": "stdout",
     "output_type": "stream",
     "text": [
      "time: 656 µs (started: 2023-05-28 05:45:46 +00:00)\n"
     ]
    }
   ],
   "source": [
    "def run_once(func):\n",
    "    \"\"\"\n",
    "    A decorator that runs a function only once and returns the result for all subsequent calls.\n",
    "    \"\"\"\n",
    "    memo = {}\n",
    "    def wrapper(*args, **kwargs):\n",
    "        if func not in memo:\n",
    "            memo[func] = func(*args, **kwargs)\n",
    "        return memo[func]\n",
    "    return wrapper\n"
   ]
  },
  {
   "cell_type": "code",
   "execution_count": null,
   "id": "4b83d0fb",
   "metadata": {
    "execution": {
     "iopub.execute_input": "2023-05-28T05:45:46.279185Z",
     "iopub.status.busy": "2023-05-28T05:45:46.278197Z",
     "iopub.status.idle": "2023-05-28T05:45:46.285255Z",
     "shell.execute_reply": "2023-05-28T05:45:46.284132Z"
    },
    "papermill": {
     "duration": 0.101801,
     "end_time": "2023-05-28T05:45:46.287581",
     "exception": false,
     "start_time": "2023-05-28T05:45:46.185780",
     "status": "completed"
    },
    "tags": []
   },
   "outputs": [
    {
     "name": "stdout",
     "output_type": "stream",
     "text": [
      "time: 565 µs (started: 2023-05-28 05:45:46 +00:00)\n"
     ]
    }
   ],
   "source": [
    "@run_once\n",
    "def get_model_file_size(model): \n",
    "    param_size = 0\n",
    "    for param in model.parameters():\n",
    "        param_size += param.nelement() * param.element_size()\n",
    "\n",
    "    model_size = param_size \n",
    "    print('Model size: {} Byte'.format(model_size))\n"
   ]
  },
  {
   "cell_type": "code",
   "execution_count": null,
   "id": "e86b8a22",
   "metadata": {
    "execution": {
     "iopub.execute_input": "2023-05-28T05:45:46.469343Z",
     "iopub.status.busy": "2023-05-28T05:45:46.468972Z",
     "iopub.status.idle": "2023-05-28T05:45:46.474701Z",
     "shell.execute_reply": "2023-05-28T05:45:46.473780Z"
    },
    "papermill": {
     "duration": 0.100398,
     "end_time": "2023-05-28T05:45:46.477124",
     "exception": false,
     "start_time": "2023-05-28T05:45:46.376726",
     "status": "completed"
    },
    "tags": []
   },
   "outputs": [
    {
     "name": "stdout",
     "output_type": "stream",
     "text": [
      "time: 531 µs (started: 2023-05-28 05:45:46 +00:00)\n"
     ]
    }
   ],
   "source": [
    "class MemoryCallback(Callback):\n",
    "    def before_fit(self):\n",
    "        get_model_file_size(self.learn.model)"
   ]
  },
  {
   "cell_type": "code",
   "execution_count": null,
   "id": "c0111e59",
   "metadata": {
    "execution": {
     "iopub.execute_input": "2023-05-28T05:45:46.657569Z",
     "iopub.status.busy": "2023-05-28T05:45:46.656576Z",
     "iopub.status.idle": "2023-05-28T05:45:46.662737Z",
     "shell.execute_reply": "2023-05-28T05:45:46.661757Z"
    },
    "papermill": {
     "duration": 0.099702,
     "end_time": "2023-05-28T05:45:46.664788",
     "exception": false,
     "start_time": "2023-05-28T05:45:46.565086",
     "status": "completed"
    },
    "tags": []
   },
   "outputs": [
    {
     "name": "stdout",
     "output_type": "stream",
     "text": [
      "time: 686 µs (started: 2023-05-28 05:45:46 +00:00)\n"
     ]
    }
   ],
   "source": [
    "sp_cb=[\n",
    "      # GradientAccumulation(32), \n",
    "      # SparsifyCallback(sparsity=12.5, \n",
    "      #                    granularity='filter', \n",
    "      #                    context='local', \n",
    "      #                    criteria=large_final, \n",
    "      #                    schedule=one_cycle\n",
    "      #                    ),\n",
    "      MemoryCallback(),\n",
    "]"
   ]
  },
  {
   "cell_type": "code",
   "execution_count": null,
   "id": "3e500244",
   "metadata": {
    "execution": {
     "iopub.execute_input": "2023-05-28T05:45:46.849191Z",
     "iopub.status.busy": "2023-05-28T05:45:46.848831Z",
     "iopub.status.idle": "2023-05-28T05:45:48.928491Z",
     "shell.execute_reply": "2023-05-28T05:45:48.927365Z"
    },
    "papermill": {
     "duration": 2.175437,
     "end_time": "2023-05-28T05:45:48.930906",
     "exception": false,
     "start_time": "2023-05-28T05:45:46.755469",
     "status": "completed"
    },
    "tags": []
   },
   "outputs": [
    {
     "name": "stdout",
     "output_type": "stream",
     "text": [
      "time: 2.07 s (started: 2023-05-28 05:45:46 +00:00)\n"
     ]
    }
   ],
   "source": [
    "model = vgg16_bn(num_classes=10)"
   ]
  },
  {
   "cell_type": "code",
   "execution_count": null,
   "id": "9a4f06c8",
   "metadata": {
    "execution": {
     "iopub.execute_input": "2023-05-28T05:45:49.111362Z",
     "iopub.status.busy": "2023-05-28T05:45:49.110952Z",
     "iopub.status.idle": "2023-05-28T05:45:49.123954Z",
     "shell.execute_reply": "2023-05-28T05:45:49.122579Z"
    },
    "papermill": {
     "duration": 0.105731,
     "end_time": "2023-05-28T05:45:49.125967",
     "exception": false,
     "start_time": "2023-05-28T05:45:49.020236",
     "status": "completed"
    },
    "tags": []
   },
   "outputs": [
    {
     "name": "stdout",
     "output_type": "stream",
     "text": [
      "time: 7.82 ms (started: 2023-05-28 05:45:49 +00:00)\n"
     ]
    }
   ],
   "source": [
    "learn = Learner(dls, \n",
    "                model, \n",
    "                metrics=[accuracy,\n",
    "                         error_rate,\n",
    "                        ]).to_fp16()\n",
    "learn.unfreeze()\n",
    "learn.recorder.train_metrics = True"
   ]
  },
  {
   "cell_type": "code",
   "execution_count": null,
   "id": "d35dd5b4",
   "metadata": {
    "execution": {
     "iopub.execute_input": "2023-05-28T05:45:49.309575Z",
     "iopub.status.busy": "2023-05-28T05:45:49.308602Z",
     "iopub.status.idle": "2023-05-28T05:47:16.921945Z",
     "shell.execute_reply": "2023-05-28T05:47:16.920440Z"
    },
    "papermill": {
     "duration": 87.706368,
     "end_time": "2023-05-28T05:47:16.924189",
     "exception": false,
     "start_time": "2023-05-28T05:45:49.217821",
     "status": "completed"
    },
    "tags": []
   },
   "outputs": [
    {
     "data": {
      "text/html": [
       "\n",
       "<style>\n",
       "    /* Turns off some styling */\n",
       "    progress {\n",
       "        /* gets rid of default border in Firefox and Opera. */\n",
       "        border: none;\n",
       "        /* Needs to be in here for Safari polyfill so background images work as expected. */\n",
       "        background-size: auto;\n",
       "    }\n",
       "    progress:not([value]), progress:not([value])::-webkit-progress-bar {\n",
       "        background: repeating-linear-gradient(45deg, #7e7e7e, #7e7e7e 10px, #5c5c5c 10px, #5c5c5c 20px);\n",
       "    }\n",
       "    .progress-bar-interrupted, .progress-bar-interrupted::-webkit-progress-bar {\n",
       "        background: #F44336;\n",
       "    }\n",
       "</style>\n"
      ],
      "text/plain": [
       "<IPython.core.display.HTML object>"
      ]
     },
     "metadata": {},
     "output_type": "display_data"
    },
    {
     "data": {
      "text/html": [
       "<table border=\"1\" class=\"dataframe\">\n",
       "  <thead>\n",
       "    <tr style=\"text-align: left;\">\n",
       "      <th>epoch</th>\n",
       "      <th>train_loss</th>\n",
       "      <th>train_accuracy</th>\n",
       "      <th>train_error_rate</th>\n",
       "      <th>valid_loss</th>\n",
       "      <th>valid_accuracy</th>\n",
       "      <th>valid_error_rate</th>\n",
       "      <th>time</th>\n",
       "    </tr>\n",
       "  </thead>\n",
       "  <tbody>\n",
       "    <tr>\n",
       "      <td>0</td>\n",
       "      <td>2.174146</td>\n",
       "      <td>0.210897</td>\n",
       "      <td>0.789103</td>\n",
       "      <td>1.953595</td>\n",
       "      <td>0.310577</td>\n",
       "      <td>0.689423</td>\n",
       "      <td>01:27</td>\n",
       "    </tr>\n",
       "  </tbody>\n",
       "</table>"
      ],
      "text/plain": [
       "<IPython.core.display.HTML object>"
      ]
     },
     "metadata": {},
     "output_type": "display_data"
    },
    {
     "name": "stdout",
     "output_type": "stream",
     "text": [
      "Model size: 537239848 Byte\n",
      "time: 1min 27s (started: 2023-05-28 05:45:49 +00:00)\n"
     ]
    }
   ],
   "source": [
    "learn.fit_one_cycle(1, 3e-5, cbs=sp_cb)\n"
   ]
  }
 ],
 "metadata": {
  "kernelspec": {
   "display_name": "Python 3",
   "language": "python",
   "name": "python3"
  },
  "language_info": {
   "codemirror_mode": {
    "name": "ipython",
    "version": 3
   },
   "file_extension": ".py",
   "mimetype": "text/x-python",
   "name": "python",
   "nbconvert_exporter": "python",
   "pygments_lexer": "ipython3",
   "version": "3.8.1"
  },
  "papermill": {
   "default_parameters": {},
   "duration": 374.99191,
   "end_time": "2023-05-28T05:47:18.841640",
   "environment_variables": {},
   "exception": null,
   "input_path": "__notebook__.ipynb",
   "output_path": "__notebook__.ipynb",
   "parameters": {},
   "start_time": "2023-05-28T05:41:03.849730",
   "version": "2.4.0"
  }
 },
 "nbformat": 4,
 "nbformat_minor": 5
}
