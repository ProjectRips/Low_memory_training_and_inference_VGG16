{
 "cells": [
  {
   "cell_type": "code",
   "execution_count": 4,
   "id": "80ba1cd8",
   "metadata": {
    "execution": {
     "iopub.execute_input": "2023-05-28T05:41:19.102359Z",
     "iopub.status.busy": "2023-05-28T05:41:19.101883Z",
     "iopub.status.idle": "2023-05-28T05:45:10.044639Z",
     "shell.execute_reply": "2023-05-28T05:45:10.040281Z"
    },
    "papermill": {
     "duration": 230.950821,
     "end_time": "2023-05-28T05:45:10.046857",
     "exception": false,
     "start_time": "2023-05-28T05:41:19.096036",
     "status": "completed"
    },
    "tags": []
   },
   "outputs": [],
   "source": [
    "# !pip install fastai==2.7.9\n",
    "# !pip install fastkaggle==0.0.7\n",
    "# !pip install fasterai==0.1.11\n",
    "# !pip install ipython-autotime==0.3.1\n",
    "# !pip install torch==1.12.1\n",
    "# %load_ext autotime"
   ]
  },
  {
   "cell_type": "code",
   "execution_count": 5,
   "id": "907f110a",
   "metadata": {
    "execution": {
     "iopub.execute_input": "2023-05-28T05:45:10.242519Z",
     "iopub.status.busy": "2023-05-28T05:45:10.242080Z",
     "iopub.status.idle": "2023-05-28T05:45:16.264643Z",
     "shell.execute_reply": "2023-05-28T05:45:16.263429Z"
    },
    "papermill": {
     "duration": 6.116043,
     "end_time": "2023-05-28T05:45:16.267175",
     "exception": false,
     "start_time": "2023-05-28T05:45:10.151132",
     "status": "completed"
    },
    "tags": []
   },
   "outputs": [],
   "source": [
    "from fastkaggle import *\n",
    "from fastai.vision.all import *\n",
    "from fasterai.sparse.all import *\n",
    "from torchvision.models import vgg16_bn"
   ]
  },
  {
   "cell_type": "code",
   "execution_count": 6,
   "id": "b843368f",
   "metadata": {
    "execution": {
     "iopub.execute_input": "2023-05-28T05:45:16.444175Z",
     "iopub.status.busy": "2023-05-28T05:45:16.443050Z",
     "iopub.status.idle": "2023-05-28T05:45:30.276776Z",
     "shell.execute_reply": "2023-05-28T05:45:30.275697Z"
    },
    "papermill": {
     "duration": 13.923182,
     "end_time": "2023-05-28T05:45:30.279004",
     "exception": false,
     "start_time": "2023-05-28T05:45:16.355822",
     "status": "completed"
    },
    "tags": []
   },
   "outputs": [],
   "source": [
    "comp = '../../../../paddy-diseases/'\n",
    "\n",
    "path = setup_comp(comp, install='\"fastcore>=1.4.5\" \"fastai>=2.7.1\" \"timm>=0.6.2.dev0\"')"
   ]
  },
  {
   "cell_type": "code",
   "execution_count": 7,
   "id": "7412084a",
   "metadata": {
    "execution": {
     "iopub.execute_input": "2023-05-28T05:45:30.457751Z",
     "iopub.status.busy": "2023-05-28T05:45:30.457399Z",
     "iopub.status.idle": "2023-05-28T05:45:45.896405Z",
     "shell.execute_reply": "2023-05-28T05:45:45.895116Z"
    },
    "papermill": {
     "duration": 15.52994,
     "end_time": "2023-05-28T05:45:45.899585",
     "exception": false,
     "start_time": "2023-05-28T05:45:30.369645",
     "status": "completed"
    },
    "tags": []
   },
   "outputs": [
    {
     "name": "stdout",
     "output_type": "stream",
     "text": [
      "Due to IPython and Windows limitation, python multiprocessing isn't available now.\n",
      "So `number_workers` is changed to 0 to avoid getting stuck\n"
     ]
    },
    {
     "ename": "KeyboardInterrupt",
     "evalue": "",
     "output_type": "error",
     "traceback": [
      "\u001b[1;31m---------------------------------------------------------------------------\u001b[0m",
      "\u001b[1;31mKeyboardInterrupt\u001b[0m                         Traceback (most recent call last)",
      "\u001b[1;32md:\\deep-learning-paddy-disease-classification\\RESULT____________________\\Code-Skripsi-412019013-Ricky-Pratama\\Low_memory_training_and_inference_VGG16\\train_code\\train_model_memory_code\\nvidia-t4\\memory-model-fp16 - Copy.ipynb Cell 4\u001b[0m in \u001b[0;36m<cell line: 1>\u001b[1;34m()\u001b[0m\n\u001b[1;32m----> <a href='vscode-notebook-cell:/d%3A/deep-learning-paddy-disease-classification/RESULT____________________/Code-Skripsi-412019013-Ricky-Pratama/Low_memory_training_and_inference_VGG16/train_code/train_model_memory_code/nvidia-t4/memory-model-fp16%20-%20Copy.ipynb#W3sZmlsZQ%3D%3D?line=0'>1</a>\u001b[0m dls \u001b[39m=\u001b[39m ImageDataLoaders\u001b[39m.\u001b[39;49mfrom_folder(path\u001b[39m/\u001b[39;49m\u001b[39m\"\u001b[39;49m\u001b[39mtrain\u001b[39;49m\u001b[39m\"\u001b[39;49m, \n\u001b[0;32m      <a href='vscode-notebook-cell:/d%3A/deep-learning-paddy-disease-classification/RESULT____________________/Code-Skripsi-412019013-Ricky-Pratama/Low_memory_training_and_inference_VGG16/train_code/train_model_memory_code/nvidia-t4/memory-model-fp16%20-%20Copy.ipynb#W3sZmlsZQ%3D%3D?line=1'>2</a>\u001b[0m                                    valid_pct\u001b[39m=\u001b[39;49m\u001b[39m0.25\u001b[39;49m, \n\u001b[0;32m      <a href='vscode-notebook-cell:/d%3A/deep-learning-paddy-disease-classification/RESULT____________________/Code-Skripsi-412019013-Ricky-Pratama/Low_memory_training_and_inference_VGG16/train_code/train_model_memory_code/nvidia-t4/memory-model-fp16%20-%20Copy.ipynb#W3sZmlsZQ%3D%3D?line=2'>3</a>\u001b[0m                                    item_tfms\u001b[39m=\u001b[39;49mResize(\u001b[39m256\u001b[39;49m), \n\u001b[0;32m      <a href='vscode-notebook-cell:/d%3A/deep-learning-paddy-disease-classification/RESULT____________________/Code-Skripsi-412019013-Ricky-Pratama/Low_memory_training_and_inference_VGG16/train_code/train_model_memory_code/nvidia-t4/memory-model-fp16%20-%20Copy.ipynb#W3sZmlsZQ%3D%3D?line=3'>4</a>\u001b[0m                                    batch_tfms\u001b[39m=\u001b[39;49maug_transforms(   size\u001b[39m=\u001b[39;49m\u001b[39m64\u001b[39;49m, \n\u001b[0;32m      <a href='vscode-notebook-cell:/d%3A/deep-learning-paddy-disease-classification/RESULT____________________/Code-Skripsi-412019013-Ricky-Pratama/Low_memory_training_and_inference_VGG16/train_code/train_model_memory_code/nvidia-t4/memory-model-fp16%20-%20Copy.ipynb#W3sZmlsZQ%3D%3D?line=4'>5</a>\u001b[0m                                                                 min_scale\u001b[39m=\u001b[39;49m\u001b[39m0.75\u001b[39;49m,\n\u001b[0;32m      <a href='vscode-notebook-cell:/d%3A/deep-learning-paddy-disease-classification/RESULT____________________/Code-Skripsi-412019013-Ricky-Pratama/Low_memory_training_and_inference_VGG16/train_code/train_model_memory_code/nvidia-t4/memory-model-fp16%20-%20Copy.ipynb#W3sZmlsZQ%3D%3D?line=5'>6</a>\u001b[0m                                                                 max_rotate\u001b[39m=\u001b[39;49m\u001b[39m10.\u001b[39;49m, \n\u001b[0;32m      <a href='vscode-notebook-cell:/d%3A/deep-learning-paddy-disease-classification/RESULT____________________/Code-Skripsi-412019013-Ricky-Pratama/Low_memory_training_and_inference_VGG16/train_code/train_model_memory_code/nvidia-t4/memory-model-fp16%20-%20Copy.ipynb#W3sZmlsZQ%3D%3D?line=6'>7</a>\u001b[0m                                                                 min_zoom\u001b[39m=\u001b[39;49m\u001b[39m0.8\u001b[39;49m, \n\u001b[0;32m      <a href='vscode-notebook-cell:/d%3A/deep-learning-paddy-disease-classification/RESULT____________________/Code-Skripsi-412019013-Ricky-Pratama/Low_memory_training_and_inference_VGG16/train_code/train_model_memory_code/nvidia-t4/memory-model-fp16%20-%20Copy.ipynb#W3sZmlsZQ%3D%3D?line=7'>8</a>\u001b[0m                                                                 max_zoom\u001b[39m=\u001b[39;49m\u001b[39m1.2\u001b[39;49m, \n\u001b[0;32m      <a href='vscode-notebook-cell:/d%3A/deep-learning-paddy-disease-classification/RESULT____________________/Code-Skripsi-412019013-Ricky-Pratama/Low_memory_training_and_inference_VGG16/train_code/train_model_memory_code/nvidia-t4/memory-model-fp16%20-%20Copy.ipynb#W3sZmlsZQ%3D%3D?line=8'>9</a>\u001b[0m                                                             \n\u001b[0;32m     <a href='vscode-notebook-cell:/d%3A/deep-learning-paddy-disease-classification/RESULT____________________/Code-Skripsi-412019013-Ricky-Pratama/Low_memory_training_and_inference_VGG16/train_code/train_model_memory_code/nvidia-t4/memory-model-fp16%20-%20Copy.ipynb#W3sZmlsZQ%3D%3D?line=9'>10</a>\u001b[0m                                                             ), \n\u001b[0;32m     <a href='vscode-notebook-cell:/d%3A/deep-learning-paddy-disease-classification/RESULT____________________/Code-Skripsi-412019013-Ricky-Pratama/Low_memory_training_and_inference_VGG16/train_code/train_model_memory_code/nvidia-t4/memory-model-fp16%20-%20Copy.ipynb#W3sZmlsZQ%3D%3D?line=10'>11</a>\u001b[0m                                    bs\u001b[39m=\u001b[39;49m\u001b[39m32\u001b[39;49m)\n",
      "File \u001b[1;32mc:\\Users\\ricky\\AppData\\Local\\Programs\\Python\\Python38\\lib\\site-packages\\fastai\\vision\\data.py:123\u001b[0m, in \u001b[0;36mImageDataLoaders.from_folder\u001b[1;34m(cls, path, train, valid, valid_pct, seed, vocab, item_tfms, batch_tfms, **kwargs)\u001b[0m\n\u001b[0;32m    116\u001b[0m get_items \u001b[39m=\u001b[39m get_image_files \u001b[39mif\u001b[39;00m valid_pct \u001b[39melse\u001b[39;00m partial(get_image_files, folders\u001b[39m=\u001b[39m[train, valid])\n\u001b[0;32m    117\u001b[0m dblock \u001b[39m=\u001b[39m DataBlock(blocks\u001b[39m=\u001b[39m(ImageBlock, CategoryBlock(vocab\u001b[39m=\u001b[39mvocab)),\n\u001b[0;32m    118\u001b[0m                    get_items\u001b[39m=\u001b[39mget_items,\n\u001b[0;32m    119\u001b[0m                    splitter\u001b[39m=\u001b[39msplitter,\n\u001b[0;32m    120\u001b[0m                    get_y\u001b[39m=\u001b[39mparent_label,\n\u001b[0;32m    121\u001b[0m                    item_tfms\u001b[39m=\u001b[39mitem_tfms,\n\u001b[0;32m    122\u001b[0m                    batch_tfms\u001b[39m=\u001b[39mbatch_tfms)\n\u001b[1;32m--> 123\u001b[0m \u001b[39mreturn\u001b[39;00m \u001b[39mcls\u001b[39;49m\u001b[39m.\u001b[39;49mfrom_dblock(dblock, path, path\u001b[39m=\u001b[39;49mpath, \u001b[39m*\u001b[39;49m\u001b[39m*\u001b[39;49mkwargs)\n",
      "File \u001b[1;32mc:\\Users\\ricky\\AppData\\Local\\Programs\\Python\\Python38\\lib\\site-packages\\fastai\\data\\core.py:281\u001b[0m, in \u001b[0;36mDataLoaders.from_dblock\u001b[1;34m(cls, dblock, source, path, bs, val_bs, shuffle, device, **kwargs)\u001b[0m\n\u001b[0;32m    270\u001b[0m \u001b[39m@classmethod\u001b[39m\n\u001b[0;32m    271\u001b[0m \u001b[39mdef\u001b[39;00m \u001b[39mfrom_dblock\u001b[39m(\u001b[39mcls\u001b[39m, \n\u001b[0;32m    272\u001b[0m     dblock, \u001b[39m# `DataBlock` object\u001b[39;00m\n\u001b[1;32m   (...)\u001b[0m\n\u001b[0;32m    279\u001b[0m     \u001b[39m*\u001b[39m\u001b[39m*\u001b[39mkwargs\n\u001b[0;32m    280\u001b[0m ):\n\u001b[1;32m--> 281\u001b[0m     \u001b[39mreturn\u001b[39;00m dblock\u001b[39m.\u001b[39;49mdataloaders(source, path\u001b[39m=\u001b[39;49mpath, bs\u001b[39m=\u001b[39;49mbs, val_bs\u001b[39m=\u001b[39;49mval_bs, shuffle\u001b[39m=\u001b[39;49mshuffle, device\u001b[39m=\u001b[39;49mdevice, \u001b[39m*\u001b[39;49m\u001b[39m*\u001b[39;49mkwargs)\n",
      "File \u001b[1;32mc:\\Users\\ricky\\AppData\\Local\\Programs\\Python\\Python38\\lib\\site-packages\\fastai\\data\\block.py:157\u001b[0m, in \u001b[0;36mDataBlock.dataloaders\u001b[1;34m(self, source, path, verbose, **kwargs)\u001b[0m\n\u001b[0;32m    155\u001b[0m dsets \u001b[39m=\u001b[39m \u001b[39mself\u001b[39m\u001b[39m.\u001b[39mdatasets(source, verbose\u001b[39m=\u001b[39mverbose)\n\u001b[0;32m    156\u001b[0m kwargs \u001b[39m=\u001b[39m {\u001b[39m*\u001b[39m\u001b[39m*\u001b[39m\u001b[39mself\u001b[39m\u001b[39m.\u001b[39mdls_kwargs, \u001b[39m*\u001b[39m\u001b[39m*\u001b[39mkwargs, \u001b[39m'\u001b[39m\u001b[39mverbose\u001b[39m\u001b[39m'\u001b[39m: verbose}\n\u001b[1;32m--> 157\u001b[0m \u001b[39mreturn\u001b[39;00m dsets\u001b[39m.\u001b[39;49mdataloaders(path\u001b[39m=\u001b[39;49mpath, after_item\u001b[39m=\u001b[39;49m\u001b[39mself\u001b[39;49m\u001b[39m.\u001b[39;49mitem_tfms, after_batch\u001b[39m=\u001b[39;49m\u001b[39mself\u001b[39;49m\u001b[39m.\u001b[39;49mbatch_tfms, \u001b[39m*\u001b[39;49m\u001b[39m*\u001b[39;49mkwargs)\n",
      "File \u001b[1;32mc:\\Users\\ricky\\AppData\\Local\\Programs\\Python\\Python38\\lib\\site-packages\\fastai\\data\\core.py:334\u001b[0m, in \u001b[0;36mFilteredBase.dataloaders\u001b[1;34m(self, bs, shuffle_train, shuffle, val_shuffle, n, path, dl_type, dl_kwargs, device, drop_last, val_bs, **kwargs)\u001b[0m\n\u001b[0;32m    332\u001b[0m dl \u001b[39m=\u001b[39m dl_type(\u001b[39mself\u001b[39m\u001b[39m.\u001b[39msubset(\u001b[39m0\u001b[39m), \u001b[39m*\u001b[39m\u001b[39m*\u001b[39mmerge(kwargs,def_kwargs, dl_kwargs[\u001b[39m0\u001b[39m]))\n\u001b[0;32m    333\u001b[0m def_kwargs \u001b[39m=\u001b[39m {\u001b[39m'\u001b[39m\u001b[39mbs\u001b[39m\u001b[39m'\u001b[39m:bs \u001b[39mif\u001b[39;00m val_bs \u001b[39mis\u001b[39;00m \u001b[39mNone\u001b[39;00m \u001b[39melse\u001b[39;00m val_bs,\u001b[39m'\u001b[39m\u001b[39mshuffle\u001b[39m\u001b[39m'\u001b[39m:val_shuffle,\u001b[39m'\u001b[39m\u001b[39mn\u001b[39m\u001b[39m'\u001b[39m:\u001b[39mNone\u001b[39;00m,\u001b[39m'\u001b[39m\u001b[39mdrop_last\u001b[39m\u001b[39m'\u001b[39m:\u001b[39mFalse\u001b[39;00m}\n\u001b[1;32m--> 334\u001b[0m dls \u001b[39m=\u001b[39m [dl] \u001b[39m+\u001b[39m [dl\u001b[39m.\u001b[39mnew(\u001b[39mself\u001b[39m\u001b[39m.\u001b[39msubset(i), \u001b[39m*\u001b[39m\u001b[39m*\u001b[39mmerge(kwargs,def_kwargs,val_kwargs,dl_kwargs[i]))\n\u001b[0;32m    335\u001b[0m               \u001b[39mfor\u001b[39;00m i \u001b[39min\u001b[39;00m \u001b[39mrange\u001b[39m(\u001b[39m1\u001b[39m, \u001b[39mself\u001b[39m\u001b[39m.\u001b[39mn_subsets)]\n\u001b[0;32m    336\u001b[0m \u001b[39mreturn\u001b[39;00m \u001b[39mself\u001b[39m\u001b[39m.\u001b[39m_dbunch_type(\u001b[39m*\u001b[39mdls, path\u001b[39m=\u001b[39mpath, device\u001b[39m=\u001b[39mdevice)\n",
      "File \u001b[1;32mc:\\Users\\ricky\\AppData\\Local\\Programs\\Python\\Python38\\lib\\site-packages\\fastai\\data\\core.py:334\u001b[0m, in \u001b[0;36m<listcomp>\u001b[1;34m(.0)\u001b[0m\n\u001b[0;32m    332\u001b[0m dl \u001b[39m=\u001b[39m dl_type(\u001b[39mself\u001b[39m\u001b[39m.\u001b[39msubset(\u001b[39m0\u001b[39m), \u001b[39m*\u001b[39m\u001b[39m*\u001b[39mmerge(kwargs,def_kwargs, dl_kwargs[\u001b[39m0\u001b[39m]))\n\u001b[0;32m    333\u001b[0m def_kwargs \u001b[39m=\u001b[39m {\u001b[39m'\u001b[39m\u001b[39mbs\u001b[39m\u001b[39m'\u001b[39m:bs \u001b[39mif\u001b[39;00m val_bs \u001b[39mis\u001b[39;00m \u001b[39mNone\u001b[39;00m \u001b[39melse\u001b[39;00m val_bs,\u001b[39m'\u001b[39m\u001b[39mshuffle\u001b[39m\u001b[39m'\u001b[39m:val_shuffle,\u001b[39m'\u001b[39m\u001b[39mn\u001b[39m\u001b[39m'\u001b[39m:\u001b[39mNone\u001b[39;00m,\u001b[39m'\u001b[39m\u001b[39mdrop_last\u001b[39m\u001b[39m'\u001b[39m:\u001b[39mFalse\u001b[39;00m}\n\u001b[1;32m--> 334\u001b[0m dls \u001b[39m=\u001b[39m [dl] \u001b[39m+\u001b[39m [dl\u001b[39m.\u001b[39;49mnew(\u001b[39mself\u001b[39;49m\u001b[39m.\u001b[39;49msubset(i), \u001b[39m*\u001b[39;49m\u001b[39m*\u001b[39;49mmerge(kwargs,def_kwargs,val_kwargs,dl_kwargs[i]))\n\u001b[0;32m    335\u001b[0m               \u001b[39mfor\u001b[39;00m i \u001b[39min\u001b[39;00m \u001b[39mrange\u001b[39m(\u001b[39m1\u001b[39m, \u001b[39mself\u001b[39m\u001b[39m.\u001b[39mn_subsets)]\n\u001b[0;32m    336\u001b[0m \u001b[39mreturn\u001b[39;00m \u001b[39mself\u001b[39m\u001b[39m.\u001b[39m_dbunch_type(\u001b[39m*\u001b[39mdls, path\u001b[39m=\u001b[39mpath, device\u001b[39m=\u001b[39mdevice)\n",
      "File \u001b[1;32mc:\\Users\\ricky\\AppData\\Local\\Programs\\Python\\Python38\\lib\\site-packages\\fastai\\data\\core.py:97\u001b[0m, in \u001b[0;36mTfmdDL.new\u001b[1;34m(self, dataset, cls, **kwargs)\u001b[0m\n\u001b[0;32m     95\u001b[0m \u001b[39mif\u001b[39;00m \u001b[39mnot\u001b[39;00m \u001b[39mhasattr\u001b[39m(\u001b[39mself\u001b[39m, \u001b[39m'\u001b[39m\u001b[39m_n_inp\u001b[39m\u001b[39m'\u001b[39m) \u001b[39mor\u001b[39;00m \u001b[39mnot\u001b[39;00m \u001b[39mhasattr\u001b[39m(\u001b[39mself\u001b[39m, \u001b[39m'\u001b[39m\u001b[39m_types\u001b[39m\u001b[39m'\u001b[39m):\n\u001b[0;32m     96\u001b[0m     \u001b[39mtry\u001b[39;00m:\n\u001b[1;32m---> 97\u001b[0m         \u001b[39mself\u001b[39;49m\u001b[39m.\u001b[39;49m_one_pass()\n\u001b[0;32m     98\u001b[0m         res\u001b[39m.\u001b[39m_n_inp,res\u001b[39m.\u001b[39m_types \u001b[39m=\u001b[39m \u001b[39mself\u001b[39m\u001b[39m.\u001b[39m_n_inp,\u001b[39mself\u001b[39m\u001b[39m.\u001b[39m_types\n\u001b[0;32m     99\u001b[0m     \u001b[39mexcept\u001b[39;00m \u001b[39mException\u001b[39;00m \u001b[39mas\u001b[39;00m e: \n",
      "File \u001b[1;32mc:\\Users\\ricky\\AppData\\Local\\Programs\\Python\\Python38\\lib\\site-packages\\fastai\\data\\core.py:80\u001b[0m, in \u001b[0;36mTfmdDL._one_pass\u001b[1;34m(self)\u001b[0m\n\u001b[0;32m     78\u001b[0m b \u001b[39m=\u001b[39m \u001b[39mself\u001b[39m\u001b[39m.\u001b[39mdo_batch([\u001b[39mself\u001b[39m\u001b[39m.\u001b[39mdo_item(\u001b[39mNone\u001b[39;00m)])\n\u001b[0;32m     79\u001b[0m \u001b[39mif\u001b[39;00m \u001b[39mself\u001b[39m\u001b[39m.\u001b[39mdevice \u001b[39mis\u001b[39;00m \u001b[39mnot\u001b[39;00m \u001b[39mNone\u001b[39;00m: b \u001b[39m=\u001b[39m to_device(b, \u001b[39mself\u001b[39m\u001b[39m.\u001b[39mdevice)\n\u001b[1;32m---> 80\u001b[0m its \u001b[39m=\u001b[39m \u001b[39mself\u001b[39;49m\u001b[39m.\u001b[39;49mafter_batch(b)\n\u001b[0;32m     81\u001b[0m \u001b[39mself\u001b[39m\u001b[39m.\u001b[39m_n_inp \u001b[39m=\u001b[39m \u001b[39m1\u001b[39m \u001b[39mif\u001b[39;00m \u001b[39mnot\u001b[39;00m \u001b[39misinstance\u001b[39m(its, (\u001b[39mlist\u001b[39m,\u001b[39mtuple\u001b[39m)) \u001b[39mor\u001b[39;00m \u001b[39mlen\u001b[39m(its)\u001b[39m==\u001b[39m\u001b[39m1\u001b[39m \u001b[39melse\u001b[39;00m \u001b[39mlen\u001b[39m(its)\u001b[39m-\u001b[39m\u001b[39m1\u001b[39m\n\u001b[0;32m     82\u001b[0m \u001b[39mself\u001b[39m\u001b[39m.\u001b[39m_types \u001b[39m=\u001b[39m explode_types(its)\n",
      "File \u001b[1;32mc:\\Users\\ricky\\AppData\\Local\\Programs\\Python\\Python38\\lib\\site-packages\\fastcore\\transform.py:208\u001b[0m, in \u001b[0;36mPipeline.__call__\u001b[1;34m(self, o)\u001b[0m\n\u001b[1;32m--> 208\u001b[0m \u001b[39mdef\u001b[39;00m \u001b[39m__call__\u001b[39m(\u001b[39mself\u001b[39m, o): \u001b[39mreturn\u001b[39;00m compose_tfms(o, tfms\u001b[39m=\u001b[39;49m\u001b[39mself\u001b[39;49m\u001b[39m.\u001b[39;49mfs, split_idx\u001b[39m=\u001b[39;49m\u001b[39mself\u001b[39;49m\u001b[39m.\u001b[39;49msplit_idx)\n",
      "File \u001b[1;32mc:\\Users\\ricky\\AppData\\Local\\Programs\\Python\\Python38\\lib\\site-packages\\fastcore\\transform.py:158\u001b[0m, in \u001b[0;36mcompose_tfms\u001b[1;34m(x, tfms, is_enc, reverse, **kwargs)\u001b[0m\n\u001b[0;32m    156\u001b[0m \u001b[39mfor\u001b[39;00m f \u001b[39min\u001b[39;00m tfms:\n\u001b[0;32m    157\u001b[0m     \u001b[39mif\u001b[39;00m \u001b[39mnot\u001b[39;00m is_enc: f \u001b[39m=\u001b[39m f\u001b[39m.\u001b[39mdecode\n\u001b[1;32m--> 158\u001b[0m     x \u001b[39m=\u001b[39m f(x, \u001b[39m*\u001b[39;49m\u001b[39m*\u001b[39;49mkwargs)\n\u001b[0;32m    159\u001b[0m \u001b[39mreturn\u001b[39;00m x\n",
      "File \u001b[1;32mc:\\Users\\ricky\\AppData\\Local\\Programs\\Python\\Python38\\lib\\site-packages\\fastcore\\transform.py:81\u001b[0m, in \u001b[0;36mTransform.__call__\u001b[1;34m(self, x, **kwargs)\u001b[0m\n\u001b[1;32m---> 81\u001b[0m \u001b[39mdef\u001b[39;00m \u001b[39m__call__\u001b[39m(\u001b[39mself\u001b[39m, x, \u001b[39m*\u001b[39m\u001b[39m*\u001b[39mkwargs): \u001b[39mreturn\u001b[39;00m \u001b[39mself\u001b[39;49m\u001b[39m.\u001b[39;49m_call(\u001b[39m'\u001b[39;49m\u001b[39mencodes\u001b[39;49m\u001b[39m'\u001b[39;49m, x, \u001b[39m*\u001b[39;49m\u001b[39m*\u001b[39;49mkwargs)\n",
      "File \u001b[1;32mc:\\Users\\ricky\\AppData\\Local\\Programs\\Python\\Python38\\lib\\site-packages\\fastcore\\transform.py:91\u001b[0m, in \u001b[0;36mTransform._call\u001b[1;34m(self, fn, x, split_idx, **kwargs)\u001b[0m\n\u001b[0;32m     89\u001b[0m \u001b[39mdef\u001b[39;00m \u001b[39m_call\u001b[39m(\u001b[39mself\u001b[39m, fn, x, split_idx\u001b[39m=\u001b[39m\u001b[39mNone\u001b[39;00m, \u001b[39m*\u001b[39m\u001b[39m*\u001b[39mkwargs):\n\u001b[0;32m     90\u001b[0m     \u001b[39mif\u001b[39;00m split_idx\u001b[39m!=\u001b[39m\u001b[39mself\u001b[39m\u001b[39m.\u001b[39msplit_idx \u001b[39mand\u001b[39;00m \u001b[39mself\u001b[39m\u001b[39m.\u001b[39msplit_idx \u001b[39mis\u001b[39;00m \u001b[39mnot\u001b[39;00m \u001b[39mNone\u001b[39;00m: \u001b[39mreturn\u001b[39;00m x\n\u001b[1;32m---> 91\u001b[0m     \u001b[39mreturn\u001b[39;00m \u001b[39mself\u001b[39;49m\u001b[39m.\u001b[39;49m_do_call(\u001b[39mgetattr\u001b[39;49m(\u001b[39mself\u001b[39;49m, fn), x, \u001b[39m*\u001b[39;49m\u001b[39m*\u001b[39;49mkwargs)\n",
      "File \u001b[1;32mc:\\Users\\ricky\\AppData\\Local\\Programs\\Python\\Python38\\lib\\site-packages\\fastcore\\transform.py:98\u001b[0m, in \u001b[0;36mTransform._do_call\u001b[1;34m(self, f, x, **kwargs)\u001b[0m\n\u001b[0;32m     96\u001b[0m     ret \u001b[39m=\u001b[39m f\u001b[39m.\u001b[39mreturns(x) \u001b[39mif\u001b[39;00m \u001b[39mhasattr\u001b[39m(f,\u001b[39m'\u001b[39m\u001b[39mreturns\u001b[39m\u001b[39m'\u001b[39m) \u001b[39melse\u001b[39;00m \u001b[39mNone\u001b[39;00m\n\u001b[0;32m     97\u001b[0m     \u001b[39mreturn\u001b[39;00m retain_type(f(x, \u001b[39m*\u001b[39m\u001b[39m*\u001b[39mkwargs), x, ret)\n\u001b[1;32m---> 98\u001b[0m res \u001b[39m=\u001b[39m \u001b[39mtuple\u001b[39;49m(\u001b[39mself\u001b[39;49m\u001b[39m.\u001b[39;49m_do_call(f, x_, \u001b[39m*\u001b[39;49m\u001b[39m*\u001b[39;49mkwargs) \u001b[39mfor\u001b[39;49;00m x_ \u001b[39min\u001b[39;49;00m x)\n\u001b[0;32m     99\u001b[0m \u001b[39mreturn\u001b[39;00m retain_type(res, x)\n",
      "File \u001b[1;32mc:\\Users\\ricky\\AppData\\Local\\Programs\\Python\\Python38\\lib\\site-packages\\fastcore\\transform.py:98\u001b[0m, in \u001b[0;36m<genexpr>\u001b[1;34m(.0)\u001b[0m\n\u001b[0;32m     96\u001b[0m     ret \u001b[39m=\u001b[39m f\u001b[39m.\u001b[39mreturns(x) \u001b[39mif\u001b[39;00m \u001b[39mhasattr\u001b[39m(f,\u001b[39m'\u001b[39m\u001b[39mreturns\u001b[39m\u001b[39m'\u001b[39m) \u001b[39melse\u001b[39;00m \u001b[39mNone\u001b[39;00m\n\u001b[0;32m     97\u001b[0m     \u001b[39mreturn\u001b[39;00m retain_type(f(x, \u001b[39m*\u001b[39m\u001b[39m*\u001b[39mkwargs), x, ret)\n\u001b[1;32m---> 98\u001b[0m res \u001b[39m=\u001b[39m \u001b[39mtuple\u001b[39m(\u001b[39mself\u001b[39;49m\u001b[39m.\u001b[39;49m_do_call(f, x_, \u001b[39m*\u001b[39;49m\u001b[39m*\u001b[39;49mkwargs) \u001b[39mfor\u001b[39;00m x_ \u001b[39min\u001b[39;00m x)\n\u001b[0;32m     99\u001b[0m \u001b[39mreturn\u001b[39;00m retain_type(res, x)\n",
      "File \u001b[1;32mc:\\Users\\ricky\\AppData\\Local\\Programs\\Python\\Python38\\lib\\site-packages\\fastcore\\transform.py:97\u001b[0m, in \u001b[0;36mTransform._do_call\u001b[1;34m(self, f, x, **kwargs)\u001b[0m\n\u001b[0;32m     95\u001b[0m     \u001b[39mif\u001b[39;00m f \u001b[39mis\u001b[39;00m \u001b[39mNone\u001b[39;00m: \u001b[39mreturn\u001b[39;00m x\n\u001b[0;32m     96\u001b[0m     ret \u001b[39m=\u001b[39m f\u001b[39m.\u001b[39mreturns(x) \u001b[39mif\u001b[39;00m \u001b[39mhasattr\u001b[39m(f,\u001b[39m'\u001b[39m\u001b[39mreturns\u001b[39m\u001b[39m'\u001b[39m) \u001b[39melse\u001b[39;00m \u001b[39mNone\u001b[39;00m\n\u001b[1;32m---> 97\u001b[0m     \u001b[39mreturn\u001b[39;00m retain_type(f(x, \u001b[39m*\u001b[39;49m\u001b[39m*\u001b[39;49mkwargs), x, ret)\n\u001b[0;32m     98\u001b[0m res \u001b[39m=\u001b[39m \u001b[39mtuple\u001b[39m(\u001b[39mself\u001b[39m\u001b[39m.\u001b[39m_do_call(f, x_, \u001b[39m*\u001b[39m\u001b[39m*\u001b[39mkwargs) \u001b[39mfor\u001b[39;00m x_ \u001b[39min\u001b[39;00m x)\n\u001b[0;32m     99\u001b[0m \u001b[39mreturn\u001b[39;00m retain_type(res, x)\n",
      "File \u001b[1;32mc:\\Users\\ricky\\AppData\\Local\\Programs\\Python\\Python38\\lib\\site-packages\\fastcore\\dispatch.py:120\u001b[0m, in \u001b[0;36mTypeDispatch.__call__\u001b[1;34m(self, *args, **kwargs)\u001b[0m\n\u001b[0;32m    118\u001b[0m \u001b[39melif\u001b[39;00m \u001b[39mself\u001b[39m\u001b[39m.\u001b[39minst \u001b[39mis\u001b[39;00m \u001b[39mnot\u001b[39;00m \u001b[39mNone\u001b[39;00m: f \u001b[39m=\u001b[39m MethodType(f, \u001b[39mself\u001b[39m\u001b[39m.\u001b[39minst)\n\u001b[0;32m    119\u001b[0m \u001b[39melif\u001b[39;00m \u001b[39mself\u001b[39m\u001b[39m.\u001b[39mowner \u001b[39mis\u001b[39;00m \u001b[39mnot\u001b[39;00m \u001b[39mNone\u001b[39;00m: f \u001b[39m=\u001b[39m MethodType(f, \u001b[39mself\u001b[39m\u001b[39m.\u001b[39mowner)\n\u001b[1;32m--> 120\u001b[0m \u001b[39mreturn\u001b[39;00m f(\u001b[39m*\u001b[39;49margs, \u001b[39m*\u001b[39;49m\u001b[39m*\u001b[39;49mkwargs)\n",
      "File \u001b[1;32mc:\\Users\\ricky\\AppData\\Local\\Programs\\Python\\Python38\\lib\\site-packages\\fastai\\data\\transforms.py:350\u001b[0m, in \u001b[0;36mIntToFloatTensor.encodes\u001b[1;34m(self, o)\u001b[0m\n\u001b[1;32m--> 350\u001b[0m \u001b[39mdef\u001b[39;00m \u001b[39mencodes\u001b[39m(\u001b[39mself\u001b[39m, o:TensorImage): \u001b[39mreturn\u001b[39;00m o\u001b[39m.\u001b[39;49mfloat()\u001b[39m.\u001b[39mdiv_(\u001b[39mself\u001b[39m\u001b[39m.\u001b[39mdiv)\n",
      "File \u001b[1;32mc:\\Users\\ricky\\AppData\\Local\\Programs\\Python\\Python38\\lib\\site-packages\\fastai\\torch_core.py:376\u001b[0m, in \u001b[0;36mTensorBase.__torch_function__\u001b[1;34m(cls, func, types, args, kwargs)\u001b[0m\n\u001b[0;32m    374\u001b[0m \u001b[39mif\u001b[39;00m \u001b[39mcls\u001b[39m\u001b[39m.\u001b[39mdebug \u001b[39mand\u001b[39;00m func\u001b[39m.\u001b[39m\u001b[39m__name__\u001b[39m \u001b[39mnot\u001b[39;00m \u001b[39min\u001b[39;00m (\u001b[39m'\u001b[39m\u001b[39m__str__\u001b[39m\u001b[39m'\u001b[39m,\u001b[39m'\u001b[39m\u001b[39m__repr__\u001b[39m\u001b[39m'\u001b[39m): \u001b[39mprint\u001b[39m(func, types, args, kwargs)\n\u001b[0;32m    375\u001b[0m \u001b[39mif\u001b[39;00m _torch_handled(args, \u001b[39mcls\u001b[39m\u001b[39m.\u001b[39m_opt, func): types \u001b[39m=\u001b[39m (torch\u001b[39m.\u001b[39mTensor,)\n\u001b[1;32m--> 376\u001b[0m res \u001b[39m=\u001b[39m \u001b[39msuper\u001b[39;49m()\u001b[39m.\u001b[39;49m__torch_function__(func, types, args, ifnone(kwargs, {}))\n\u001b[0;32m    377\u001b[0m dict_objs \u001b[39m=\u001b[39m _find_args(args) \u001b[39mif\u001b[39;00m args \u001b[39melse\u001b[39;00m _find_args(\u001b[39mlist\u001b[39m(kwargs\u001b[39m.\u001b[39mvalues()))\n\u001b[0;32m    378\u001b[0m \u001b[39mif\u001b[39;00m \u001b[39missubclass\u001b[39m(\u001b[39mtype\u001b[39m(res),TensorBase) \u001b[39mand\u001b[39;00m dict_objs: res\u001b[39m.\u001b[39mset_meta(dict_objs[\u001b[39m0\u001b[39m],as_copy\u001b[39m=\u001b[39m\u001b[39mTrue\u001b[39;00m)\n",
      "File \u001b[1;32mc:\\Users\\ricky\\AppData\\Local\\Programs\\Python\\Python38\\lib\\site-packages\\torch\\_tensor.py:1121\u001b[0m, in \u001b[0;36mTensor.__torch_function__\u001b[1;34m(cls, func, types, args, kwargs)\u001b[0m\n\u001b[0;32m   1118\u001b[0m     \u001b[39mreturn\u001b[39;00m \u001b[39mNotImplemented\u001b[39m\n\u001b[0;32m   1120\u001b[0m \u001b[39mwith\u001b[39;00m _C\u001b[39m.\u001b[39mDisableTorchFunction():\n\u001b[1;32m-> 1121\u001b[0m     ret \u001b[39m=\u001b[39m func(\u001b[39m*\u001b[39;49margs, \u001b[39m*\u001b[39;49m\u001b[39m*\u001b[39;49mkwargs)\n\u001b[0;32m   1122\u001b[0m     \u001b[39mif\u001b[39;00m func \u001b[39min\u001b[39;00m get_default_nowrap_functions():\n\u001b[0;32m   1123\u001b[0m         \u001b[39mreturn\u001b[39;00m ret\n",
      "\u001b[1;31mKeyboardInterrupt\u001b[0m: "
     ]
    }
   ],
   "source": [
    "dls = ImageDataLoaders.from_folder(path/\"train\", \n",
    "                                   valid_pct=0.25, \n",
    "                                   item_tfms=Resize(256), \n",
    "                                   batch_tfms=aug_transforms(   size=64, \n",
    "                                                                min_scale=0.75,\n",
    "                                                                max_rotate=10., \n",
    "                                                                min_zoom=0.8, \n",
    "                                                                max_zoom=1.2, \n",
    "                                                            \n",
    "                                                            ), \n",
    "                                   bs=32)"
   ]
  },
  {
   "cell_type": "code",
   "execution_count": null,
   "id": "307ce34d",
   "metadata": {
    "execution": {
     "iopub.execute_input": "2023-05-28T05:45:46.085962Z",
     "iopub.status.busy": "2023-05-28T05:45:46.085556Z",
     "iopub.status.idle": "2023-05-28T05:45:46.092823Z",
     "shell.execute_reply": "2023-05-28T05:45:46.091713Z"
    },
    "papermill": {
     "duration": 0.102928,
     "end_time": "2023-05-28T05:45:46.097142",
     "exception": false,
     "start_time": "2023-05-28T05:45:45.994214",
     "status": "completed"
    },
    "tags": []
   },
   "outputs": [
    {
     "name": "stdout",
     "output_type": "stream",
     "text": [
      "time: 656 µs (started: 2023-05-28 05:45:46 +00:00)\n"
     ]
    }
   ],
   "source": [
    "def run_once(func):\n",
    "    \"\"\"\n",
    "    A decorator that runs a function only once and returns the result for all subsequent calls.\n",
    "    \"\"\"\n",
    "    memo = {}\n",
    "    def wrapper(*args, **kwargs):\n",
    "        if func not in memo:\n",
    "            memo[func] = func(*args, **kwargs)\n",
    "        return memo[func]\n",
    "    return wrapper\n"
   ]
  },
  {
   "cell_type": "code",
   "execution_count": null,
   "id": "4b83d0fb",
   "metadata": {
    "execution": {
     "iopub.execute_input": "2023-05-28T05:45:46.279185Z",
     "iopub.status.busy": "2023-05-28T05:45:46.278197Z",
     "iopub.status.idle": "2023-05-28T05:45:46.285255Z",
     "shell.execute_reply": "2023-05-28T05:45:46.284132Z"
    },
    "papermill": {
     "duration": 0.101801,
     "end_time": "2023-05-28T05:45:46.287581",
     "exception": false,
     "start_time": "2023-05-28T05:45:46.185780",
     "status": "completed"
    },
    "tags": []
   },
   "outputs": [
    {
     "name": "stdout",
     "output_type": "stream",
     "text": [
      "time: 565 µs (started: 2023-05-28 05:45:46 +00:00)\n"
     ]
    }
   ],
   "source": [
    "@run_once\n",
    "def get_model_file_size(model): \n",
    "    param_size = 0\n",
    "    for param in model.parameters():\n",
    "        param_size += param.nelement() * param.element_size()\n",
    "\n",
    "    model_size = param_size \n",
    "    print('Model size: {} Byte'.format(model_size))\n"
   ]
  },
  {
   "cell_type": "code",
   "execution_count": null,
   "id": "e86b8a22",
   "metadata": {
    "execution": {
     "iopub.execute_input": "2023-05-28T05:45:46.469343Z",
     "iopub.status.busy": "2023-05-28T05:45:46.468972Z",
     "iopub.status.idle": "2023-05-28T05:45:46.474701Z",
     "shell.execute_reply": "2023-05-28T05:45:46.473780Z"
    },
    "papermill": {
     "duration": 0.100398,
     "end_time": "2023-05-28T05:45:46.477124",
     "exception": false,
     "start_time": "2023-05-28T05:45:46.376726",
     "status": "completed"
    },
    "tags": []
   },
   "outputs": [
    {
     "name": "stdout",
     "output_type": "stream",
     "text": [
      "time: 531 µs (started: 2023-05-28 05:45:46 +00:00)\n"
     ]
    }
   ],
   "source": [
    "class MemoryCallback(Callback):\n",
    "    def before_fit(self):\n",
    "        get_model_file_size(self.learn.model)"
   ]
  },
  {
   "cell_type": "code",
   "execution_count": null,
   "id": "c0111e59",
   "metadata": {
    "execution": {
     "iopub.execute_input": "2023-05-28T05:45:46.657569Z",
     "iopub.status.busy": "2023-05-28T05:45:46.656576Z",
     "iopub.status.idle": "2023-05-28T05:45:46.662737Z",
     "shell.execute_reply": "2023-05-28T05:45:46.661757Z"
    },
    "papermill": {
     "duration": 0.099702,
     "end_time": "2023-05-28T05:45:46.664788",
     "exception": false,
     "start_time": "2023-05-28T05:45:46.565086",
     "status": "completed"
    },
    "tags": []
   },
   "outputs": [
    {
     "name": "stdout",
     "output_type": "stream",
     "text": [
      "time: 686 µs (started: 2023-05-28 05:45:46 +00:00)\n"
     ]
    }
   ],
   "source": [
    "sp_cb=[\n",
    "      # GradientAccumulation(32), \n",
    "      # SparsifyCallback(sparsity=12.5, \n",
    "      #                    granularity='filter', \n",
    "      #                    context='local', \n",
    "      #                    criteria=large_final, \n",
    "      #                    schedule=one_cycle\n",
    "      #                    ),\n",
    "      MemoryCallback(),\n",
    "]"
   ]
  },
  {
   "cell_type": "code",
   "execution_count": null,
   "id": "3e500244",
   "metadata": {
    "execution": {
     "iopub.execute_input": "2023-05-28T05:45:46.849191Z",
     "iopub.status.busy": "2023-05-28T05:45:46.848831Z",
     "iopub.status.idle": "2023-05-28T05:45:48.928491Z",
     "shell.execute_reply": "2023-05-28T05:45:48.927365Z"
    },
    "papermill": {
     "duration": 2.175437,
     "end_time": "2023-05-28T05:45:48.930906",
     "exception": false,
     "start_time": "2023-05-28T05:45:46.755469",
     "status": "completed"
    },
    "tags": []
   },
   "outputs": [
    {
     "name": "stdout",
     "output_type": "stream",
     "text": [
      "time: 2.07 s (started: 2023-05-28 05:45:46 +00:00)\n"
     ]
    }
   ],
   "source": [
    "model = vgg16_bn(num_classes=10)"
   ]
  },
  {
   "cell_type": "code",
   "execution_count": null,
   "id": "9a4f06c8",
   "metadata": {
    "execution": {
     "iopub.execute_input": "2023-05-28T05:45:49.111362Z",
     "iopub.status.busy": "2023-05-28T05:45:49.110952Z",
     "iopub.status.idle": "2023-05-28T05:45:49.123954Z",
     "shell.execute_reply": "2023-05-28T05:45:49.122579Z"
    },
    "papermill": {
     "duration": 0.105731,
     "end_time": "2023-05-28T05:45:49.125967",
     "exception": false,
     "start_time": "2023-05-28T05:45:49.020236",
     "status": "completed"
    },
    "tags": []
   },
   "outputs": [
    {
     "name": "stdout",
     "output_type": "stream",
     "text": [
      "time: 7.82 ms (started: 2023-05-28 05:45:49 +00:00)\n"
     ]
    }
   ],
   "source": [
    "learn = Learner(dls, \n",
    "                model, \n",
    "                metrics=[accuracy,\n",
    "                         error_rate,\n",
    "                        ]).to_fp16()\n",
    "learn.unfreeze()\n",
    "learn.recorder.train_metrics = True"
   ]
  },
  {
   "cell_type": "code",
   "execution_count": null,
   "id": "d35dd5b4",
   "metadata": {
    "execution": {
     "iopub.execute_input": "2023-05-28T05:45:49.309575Z",
     "iopub.status.busy": "2023-05-28T05:45:49.308602Z",
     "iopub.status.idle": "2023-05-28T05:47:16.921945Z",
     "shell.execute_reply": "2023-05-28T05:47:16.920440Z"
    },
    "papermill": {
     "duration": 87.706368,
     "end_time": "2023-05-28T05:47:16.924189",
     "exception": false,
     "start_time": "2023-05-28T05:45:49.217821",
     "status": "completed"
    },
    "tags": []
   },
   "outputs": [
    {
     "data": {
      "text/html": [
       "\n",
       "<style>\n",
       "    /* Turns off some styling */\n",
       "    progress {\n",
       "        /* gets rid of default border in Firefox and Opera. */\n",
       "        border: none;\n",
       "        /* Needs to be in here for Safari polyfill so background images work as expected. */\n",
       "        background-size: auto;\n",
       "    }\n",
       "    progress:not([value]), progress:not([value])::-webkit-progress-bar {\n",
       "        background: repeating-linear-gradient(45deg, #7e7e7e, #7e7e7e 10px, #5c5c5c 10px, #5c5c5c 20px);\n",
       "    }\n",
       "    .progress-bar-interrupted, .progress-bar-interrupted::-webkit-progress-bar {\n",
       "        background: #F44336;\n",
       "    }\n",
       "</style>\n"
      ],
      "text/plain": [
       "<IPython.core.display.HTML object>"
      ]
     },
     "metadata": {},
     "output_type": "display_data"
    },
    {
     "data": {
      "text/html": [
       "<table border=\"1\" class=\"dataframe\">\n",
       "  <thead>\n",
       "    <tr style=\"text-align: left;\">\n",
       "      <th>epoch</th>\n",
       "      <th>train_loss</th>\n",
       "      <th>train_accuracy</th>\n",
       "      <th>train_error_rate</th>\n",
       "      <th>valid_loss</th>\n",
       "      <th>valid_accuracy</th>\n",
       "      <th>valid_error_rate</th>\n",
       "      <th>time</th>\n",
       "    </tr>\n",
       "  </thead>\n",
       "  <tbody>\n",
       "    <tr>\n",
       "      <td>0</td>\n",
       "      <td>2.174146</td>\n",
       "      <td>0.210897</td>\n",
       "      <td>0.789103</td>\n",
       "      <td>1.953595</td>\n",
       "      <td>0.310577</td>\n",
       "      <td>0.689423</td>\n",
       "      <td>01:27</td>\n",
       "    </tr>\n",
       "  </tbody>\n",
       "</table>"
      ],
      "text/plain": [
       "<IPython.core.display.HTML object>"
      ]
     },
     "metadata": {},
     "output_type": "display_data"
    },
    {
     "name": "stdout",
     "output_type": "stream",
     "text": [
      "Model size: 537239848 Byte\n",
      "time: 1min 27s (started: 2023-05-28 05:45:49 +00:00)\n"
     ]
    }
   ],
   "source": [
    "learn.fit_one_cycle(1, 3e-5, cbs=sp_cb)\n"
   ]
  }
 ],
 "metadata": {
  "kernelspec": {
   "display_name": "Python 3",
   "language": "python",
   "name": "python3"
  },
  "language_info": {
   "codemirror_mode": {
    "name": "ipython",
    "version": 3
   },
   "file_extension": ".py",
   "mimetype": "text/x-python",
   "name": "python",
   "nbconvert_exporter": "python",
   "pygments_lexer": "ipython3",
   "version": "3.8.1"
  },
  "papermill": {
   "default_parameters": {},
   "duration": 374.99191,
   "end_time": "2023-05-28T05:47:18.841640",
   "environment_variables": {},
   "exception": null,
   "input_path": "__notebook__.ipynb",
   "output_path": "__notebook__.ipynb",
   "parameters": {},
   "start_time": "2023-05-28T05:41:03.849730",
   "version": "2.4.0"
  }
 },
 "nbformat": 4,
 "nbformat_minor": 5
}
