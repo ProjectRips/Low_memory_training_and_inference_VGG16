{
 "cells": [
  {
   "cell_type": "code",
   "execution_count": 1,
   "id": "471d6441",
   "metadata": {
    "_cell_guid": "b1076dfc-b9ad-4769-8c92-a6c4dae69d19",
    "_uuid": "8f2839f25d086af736a60e9eeb907d3b93b6e0e5",
    "execution": {
     "iopub.execute_input": "2023-08-09T12:06:16.544121Z",
     "iopub.status.busy": "2023-08-09T12:06:16.543290Z",
     "iopub.status.idle": "2023-08-09T12:09:41.392483Z",
     "shell.execute_reply": "2023-08-09T12:09:41.391084Z"
    },
    "papermill": {
     "duration": 204.856162,
     "end_time": "2023-08-09T12:09:41.394688",
     "exception": false,
     "start_time": "2023-08-09T12:06:16.538526",
     "status": "completed"
    },
    "tags": []
   },
   "outputs": [
    {
     "name": "stdout",
     "output_type": "stream",
     "text": [
      "Collecting fastai==2.7.9\r\n",
      "  Downloading fastai-2.7.9-py3-none-any.whl (225 kB)\r\n",
      "\u001b[2K     \u001b[90m━━━━━━━━━━━━━━━━━━━━━━━━━━━━━━━━━━━━━━━\u001b[0m \u001b[32m225.5/225.5 kB\u001b[0m \u001b[31m6.1 MB/s\u001b[0m eta \u001b[36m0:00:00\u001b[0m\r\n",
      "\u001b[?25hRequirement already satisfied: pip in /opt/conda/lib/python3.10/site-packages (from fastai==2.7.9) (23.1.2)\r\n",
      "Requirement already satisfied: packaging in /opt/conda/lib/python3.10/site-packages (from fastai==2.7.9) (21.3)\r\n",
      "Requirement already satisfied: fastdownload<2,>=0.0.5 in /opt/conda/lib/python3.10/site-packages (from fastai==2.7.9) (0.0.7)\r\n",
      "Requirement already satisfied: fastcore<1.6,>=1.4.5 in /opt/conda/lib/python3.10/site-packages (from fastai==2.7.9) (1.5.29)\r\n",
      "Requirement already satisfied: torchvision>=0.8.2 in /opt/conda/lib/python3.10/site-packages (from fastai==2.7.9) (0.15.1)\r\n",
      "Requirement already satisfied: matplotlib in /opt/conda/lib/python3.10/site-packages (from fastai==2.7.9) (3.7.1)\r\n",
      "Requirement already satisfied: pandas in /opt/conda/lib/python3.10/site-packages (from fastai==2.7.9) (1.5.3)\r\n",
      "Requirement already satisfied: requests in /opt/conda/lib/python3.10/site-packages (from fastai==2.7.9) (2.31.0)\r\n",
      "Requirement already satisfied: pyyaml in /opt/conda/lib/python3.10/site-packages (from fastai==2.7.9) (6.0)\r\n",
      "Requirement already satisfied: fastprogress>=0.2.4 in /opt/conda/lib/python3.10/site-packages (from fastai==2.7.9) (1.0.3)\r\n",
      "Requirement already satisfied: pillow>6.0.0 in /opt/conda/lib/python3.10/site-packages (from fastai==2.7.9) (9.5.0)\r\n",
      "Requirement already satisfied: scikit-learn in /opt/conda/lib/python3.10/site-packages (from fastai==2.7.9) (1.2.2)\r\n",
      "Requirement already satisfied: scipy in /opt/conda/lib/python3.10/site-packages (from fastai==2.7.9) (1.11.1)\r\n",
      "Requirement already satisfied: spacy<4 in /opt/conda/lib/python3.10/site-packages (from fastai==2.7.9) (3.5.4)\r\n",
      "Collecting torch<1.14,>=1.7 (from fastai==2.7.9)\r\n",
      "  Downloading torch-1.13.1-cp310-cp310-manylinux1_x86_64.whl (887.5 MB)\r\n",
      "\u001b[2K     \u001b[90m━━━━━━━━━━━━━━━━━━━━━━━━━━━━━━━━━━━━━\u001b[0m \u001b[32m887.5/887.5 MB\u001b[0m \u001b[31m726.1 kB/s\u001b[0m eta \u001b[36m0:00:00\u001b[0m\r\n",
      "\u001b[?25hRequirement already satisfied: spacy-legacy<3.1.0,>=3.0.11 in /opt/conda/lib/python3.10/site-packages (from spacy<4->fastai==2.7.9) (3.0.12)\r\n",
      "Requirement already satisfied: spacy-loggers<2.0.0,>=1.0.0 in /opt/conda/lib/python3.10/site-packages (from spacy<4->fastai==2.7.9) (1.0.4)\r\n",
      "Requirement already satisfied: murmurhash<1.1.0,>=0.28.0 in /opt/conda/lib/python3.10/site-packages (from spacy<4->fastai==2.7.9) (1.0.9)\r\n",
      "Requirement already satisfied: cymem<2.1.0,>=2.0.2 in /opt/conda/lib/python3.10/site-packages (from spacy<4->fastai==2.7.9) (2.0.7)\r\n",
      "Requirement already satisfied: preshed<3.1.0,>=3.0.2 in /opt/conda/lib/python3.10/site-packages (from spacy<4->fastai==2.7.9) (3.0.8)\r\n",
      "Requirement already satisfied: thinc<8.2.0,>=8.1.8 in /opt/conda/lib/python3.10/site-packages (from spacy<4->fastai==2.7.9) (8.1.10)\r\n",
      "Requirement already satisfied: wasabi<1.2.0,>=0.9.1 in /opt/conda/lib/python3.10/site-packages (from spacy<4->fastai==2.7.9) (1.1.2)\r\n",
      "Requirement already satisfied: srsly<3.0.0,>=2.4.3 in /opt/conda/lib/python3.10/site-packages (from spacy<4->fastai==2.7.9) (2.4.6)\r\n",
      "Requirement already satisfied: catalogue<2.1.0,>=2.0.6 in /opt/conda/lib/python3.10/site-packages (from spacy<4->fastai==2.7.9) (2.0.8)\r\n",
      "Requirement already satisfied: typer<0.10.0,>=0.3.0 in /opt/conda/lib/python3.10/site-packages (from spacy<4->fastai==2.7.9) (0.9.0)\r\n",
      "Requirement already satisfied: pathy>=0.10.0 in /opt/conda/lib/python3.10/site-packages (from spacy<4->fastai==2.7.9) (0.10.1)\r\n",
      "Requirement already satisfied: smart-open<7.0.0,>=5.2.1 in /opt/conda/lib/python3.10/site-packages (from spacy<4->fastai==2.7.9) (6.3.0)\r\n",
      "Requirement already satisfied: tqdm<5.0.0,>=4.38.0 in /opt/conda/lib/python3.10/site-packages (from spacy<4->fastai==2.7.9) (4.65.0)\r\n",
      "Requirement already satisfied: numpy>=1.15.0 in /opt/conda/lib/python3.10/site-packages (from spacy<4->fastai==2.7.9) (1.23.5)\r\n",
      "Requirement already satisfied: pydantic!=1.8,!=1.8.1,<1.11.0,>=1.7.4 in /opt/conda/lib/python3.10/site-packages (from spacy<4->fastai==2.7.9) (1.10.10)\r\n",
      "Requirement already satisfied: jinja2 in /opt/conda/lib/python3.10/site-packages (from spacy<4->fastai==2.7.9) (3.1.2)\r\n",
      "Requirement already satisfied: setuptools in /opt/conda/lib/python3.10/site-packages (from spacy<4->fastai==2.7.9) (59.8.0)\r\n",
      "Requirement already satisfied: langcodes<4.0.0,>=3.2.0 in /opt/conda/lib/python3.10/site-packages (from spacy<4->fastai==2.7.9) (3.3.0)\r\n",
      "Requirement already satisfied: pyparsing!=3.0.5,>=2.0.2 in /opt/conda/lib/python3.10/site-packages (from packaging->fastai==2.7.9) (3.0.9)\r\n",
      "Requirement already satisfied: charset-normalizer<4,>=2 in /opt/conda/lib/python3.10/site-packages (from requests->fastai==2.7.9) (3.1.0)\r\n",
      "Requirement already satisfied: idna<4,>=2.5 in /opt/conda/lib/python3.10/site-packages (from requests->fastai==2.7.9) (3.4)\r\n",
      "Requirement already satisfied: urllib3<3,>=1.21.1 in /opt/conda/lib/python3.10/site-packages (from requests->fastai==2.7.9) (1.26.15)\r\n",
      "Requirement already satisfied: certifi>=2017.4.17 in /opt/conda/lib/python3.10/site-packages (from requests->fastai==2.7.9) (2023.5.7)\r\n",
      "Requirement already satisfied: typing-extensions in /opt/conda/lib/python3.10/site-packages (from torch<1.14,>=1.7->fastai==2.7.9) (4.6.3)\r\n",
      "Collecting nvidia-cuda-runtime-cu11==11.7.99 (from torch<1.14,>=1.7->fastai==2.7.9)\r\n",
      "  Downloading nvidia_cuda_runtime_cu11-11.7.99-py3-none-manylinux1_x86_64.whl (849 kB)\r\n",
      "\u001b[2K     \u001b[90m━━━━━━━━━━━━━━━━━━━━━━━━━━━━━━━━━━━━━━\u001b[0m \u001b[32m849.3/849.3 kB\u001b[0m \u001b[31m52.1 MB/s\u001b[0m eta \u001b[36m0:00:00\u001b[0m\r\n",
      "\u001b[?25hCollecting nvidia-cudnn-cu11==8.5.0.96 (from torch<1.14,>=1.7->fastai==2.7.9)\r\n",
      "  Downloading nvidia_cudnn_cu11-8.5.0.96-2-py3-none-manylinux1_x86_64.whl (557.1 MB)\r\n",
      "\u001b[2K     \u001b[90m━━━━━━━━━━━━━━━━━━━━━━━━━━━━━━━━━━━━━━━\u001b[0m \u001b[32m557.1/557.1 MB\u001b[0m \u001b[31m2.0 MB/s\u001b[0m eta \u001b[36m0:00:00\u001b[0m\r\n",
      "\u001b[?25hCollecting nvidia-cublas-cu11==11.10.3.66 (from torch<1.14,>=1.7->fastai==2.7.9)\r\n",
      "  Downloading nvidia_cublas_cu11-11.10.3.66-py3-none-manylinux1_x86_64.whl (317.1 MB)\r\n",
      "\u001b[2K     \u001b[90m━━━━━━━━━━━━━━━━━━━━━━━━━━━━━━━━━━━━━━━\u001b[0m \u001b[32m317.1/317.1 MB\u001b[0m \u001b[31m3.5 MB/s\u001b[0m eta \u001b[36m0:00:00\u001b[0m\r\n",
      "\u001b[?25hCollecting nvidia-cuda-nvrtc-cu11==11.7.99 (from torch<1.14,>=1.7->fastai==2.7.9)\r\n",
      "  Downloading nvidia_cuda_nvrtc_cu11-11.7.99-2-py3-none-manylinux1_x86_64.whl (21.0 MB)\r\n",
      "\u001b[2K     \u001b[90m━━━━━━━━━━━━━━━━━━━━━━━━━━━━━━━━━━━━━━━━\u001b[0m \u001b[32m21.0/21.0 MB\u001b[0m \u001b[31m58.2 MB/s\u001b[0m eta \u001b[36m0:00:00\u001b[0m\r\n",
      "\u001b[?25hRequirement already satisfied: wheel in /opt/conda/lib/python3.10/site-packages (from nvidia-cublas-cu11==11.10.3.66->torch<1.14,>=1.7->fastai==2.7.9) (0.40.0)\r\n",
      "Requirement already satisfied: contourpy>=1.0.1 in /opt/conda/lib/python3.10/site-packages (from matplotlib->fastai==2.7.9) (1.1.0)\r\n",
      "Requirement already satisfied: cycler>=0.10 in /opt/conda/lib/python3.10/site-packages (from matplotlib->fastai==2.7.9) (0.11.0)\r\n",
      "Requirement already satisfied: fonttools>=4.22.0 in /opt/conda/lib/python3.10/site-packages (from matplotlib->fastai==2.7.9) (4.40.0)\r\n",
      "Requirement already satisfied: kiwisolver>=1.0.1 in /opt/conda/lib/python3.10/site-packages (from matplotlib->fastai==2.7.9) (1.4.4)\r\n",
      "Requirement already satisfied: python-dateutil>=2.7 in /opt/conda/lib/python3.10/site-packages (from matplotlib->fastai==2.7.9) (2.8.2)\r\n",
      "Requirement already satisfied: pytz>=2020.1 in /opt/conda/lib/python3.10/site-packages (from pandas->fastai==2.7.9) (2023.3)\r\n",
      "Requirement already satisfied: joblib>=1.1.1 in /opt/conda/lib/python3.10/site-packages (from scikit-learn->fastai==2.7.9) (1.2.0)\r\n",
      "Requirement already satisfied: threadpoolctl>=2.0.0 in /opt/conda/lib/python3.10/site-packages (from scikit-learn->fastai==2.7.9) (3.1.0)\r\n",
      "Requirement already satisfied: six>=1.5 in /opt/conda/lib/python3.10/site-packages (from python-dateutil>=2.7->matplotlib->fastai==2.7.9) (1.16.0)\r\n",
      "Requirement already satisfied: blis<0.8.0,>=0.7.8 in /opt/conda/lib/python3.10/site-packages (from thinc<8.2.0,>=8.1.8->spacy<4->fastai==2.7.9) (0.7.9)\r\n",
      "Requirement already satisfied: confection<1.0.0,>=0.0.1 in /opt/conda/lib/python3.10/site-packages (from thinc<8.2.0,>=8.1.8->spacy<4->fastai==2.7.9) (0.1.0)\r\n",
      "Requirement already satisfied: click<9.0.0,>=7.1.1 in /opt/conda/lib/python3.10/site-packages (from typer<0.10.0,>=0.3.0->spacy<4->fastai==2.7.9) (8.1.3)\r\n",
      "Requirement already satisfied: MarkupSafe>=2.0 in /opt/conda/lib/python3.10/site-packages (from jinja2->spacy<4->fastai==2.7.9) (2.1.3)\r\n",
      "Installing collected packages: nvidia-cuda-runtime-cu11, nvidia-cuda-nvrtc-cu11, nvidia-cublas-cu11, nvidia-cudnn-cu11, torch, fastai\r\n",
      "  Attempting uninstall: torch\r\n",
      "    Found existing installation: torch 2.0.0\r\n",
      "    Uninstalling torch-2.0.0:\r\n",
      "      Successfully uninstalled torch-2.0.0\r\n",
      "  Attempting uninstall: fastai\r\n",
      "    Found existing installation: fastai 2.7.12\r\n",
      "    Uninstalling fastai-2.7.12:\r\n",
      "      Successfully uninstalled fastai-2.7.12\r\n",
      "\u001b[31mERROR: pip's dependency resolver does not currently take into account all the packages that are installed. This behaviour is the source of the following dependency conflicts.\r\n",
      "torchdata 0.6.0 requires torch==2.0.0, but you have torch 1.13.1 which is incompatible.\u001b[0m\u001b[31m\r\n",
      "\u001b[0mSuccessfully installed fastai-2.7.9 nvidia-cublas-cu11-11.10.3.66 nvidia-cuda-nvrtc-cu11-11.7.99 nvidia-cuda-runtime-cu11-11.7.99 nvidia-cudnn-cu11-8.5.0.96 torch-1.13.1\r\n",
      "Collecting fastkaggle==0.0.7\r\n",
      "  Downloading fastkaggle-0.0.7-py3-none-any.whl (11 kB)\r\n",
      "Requirement already satisfied: fastcore>=1.4.5 in /opt/conda/lib/python3.10/site-packages (from fastkaggle==0.0.7) (1.5.29)\r\n",
      "Requirement already satisfied: kaggle in /opt/conda/lib/python3.10/site-packages (from fastkaggle==0.0.7) (1.5.15)\r\n",
      "Requirement already satisfied: pip in /opt/conda/lib/python3.10/site-packages (from fastcore>=1.4.5->fastkaggle==0.0.7) (23.1.2)\r\n",
      "Requirement already satisfied: packaging in /opt/conda/lib/python3.10/site-packages (from fastcore>=1.4.5->fastkaggle==0.0.7) (21.3)\r\n",
      "Requirement already satisfied: six>=1.10 in /opt/conda/lib/python3.10/site-packages (from kaggle->fastkaggle==0.0.7) (1.16.0)\r\n",
      "Requirement already satisfied: certifi in /opt/conda/lib/python3.10/site-packages (from kaggle->fastkaggle==0.0.7) (2023.5.7)\r\n",
      "Requirement already satisfied: python-dateutil in /opt/conda/lib/python3.10/site-packages (from kaggle->fastkaggle==0.0.7) (2.8.2)\r\n",
      "Requirement already satisfied: requests in /opt/conda/lib/python3.10/site-packages (from kaggle->fastkaggle==0.0.7) (2.31.0)\r\n",
      "Requirement already satisfied: tqdm in /opt/conda/lib/python3.10/site-packages (from kaggle->fastkaggle==0.0.7) (4.65.0)\r\n",
      "Requirement already satisfied: python-slugify in /opt/conda/lib/python3.10/site-packages (from kaggle->fastkaggle==0.0.7) (8.0.1)\r\n",
      "Requirement already satisfied: urllib3 in /opt/conda/lib/python3.10/site-packages (from kaggle->fastkaggle==0.0.7) (1.26.15)\r\n",
      "Requirement already satisfied: bleach in /opt/conda/lib/python3.10/site-packages (from kaggle->fastkaggle==0.0.7) (6.0.0)\r\n",
      "Requirement already satisfied: webencodings in /opt/conda/lib/python3.10/site-packages (from bleach->kaggle->fastkaggle==0.0.7) (0.5.1)\r\n",
      "Requirement already satisfied: pyparsing!=3.0.5,>=2.0.2 in /opt/conda/lib/python3.10/site-packages (from packaging->fastcore>=1.4.5->fastkaggle==0.0.7) (3.0.9)\r\n",
      "Requirement already satisfied: text-unidecode>=1.3 in /opt/conda/lib/python3.10/site-packages (from python-slugify->kaggle->fastkaggle==0.0.7) (1.3)\r\n",
      "Requirement already satisfied: charset-normalizer<4,>=2 in /opt/conda/lib/python3.10/site-packages (from requests->kaggle->fastkaggle==0.0.7) (3.1.0)\r\n",
      "Requirement already satisfied: idna<4,>=2.5 in /opt/conda/lib/python3.10/site-packages (from requests->kaggle->fastkaggle==0.0.7) (3.4)\r\n",
      "Installing collected packages: fastkaggle\r\n",
      "Successfully installed fastkaggle-0.0.7\r\n",
      "Collecting fasterai==0.1.11\r\n",
      "  Downloading fasterai-0.1.11-py3-none-any.whl (23 kB)\r\n",
      "Requirement already satisfied: fastai>=2.2 in /opt/conda/lib/python3.10/site-packages (from fasterai==0.1.11) (2.7.9)\r\n",
      "Requirement already satisfied: pip in /opt/conda/lib/python3.10/site-packages (from fastai>=2.2->fasterai==0.1.11) (23.1.2)\r\n",
      "Requirement already satisfied: packaging in /opt/conda/lib/python3.10/site-packages (from fastai>=2.2->fasterai==0.1.11) (21.3)\r\n",
      "Requirement already satisfied: fastdownload<2,>=0.0.5 in /opt/conda/lib/python3.10/site-packages (from fastai>=2.2->fasterai==0.1.11) (0.0.7)\r\n",
      "Requirement already satisfied: fastcore<1.6,>=1.4.5 in /opt/conda/lib/python3.10/site-packages (from fastai>=2.2->fasterai==0.1.11) (1.5.29)\r\n",
      "Requirement already satisfied: torchvision>=0.8.2 in /opt/conda/lib/python3.10/site-packages (from fastai>=2.2->fasterai==0.1.11) (0.15.1)\r\n",
      "Requirement already satisfied: matplotlib in /opt/conda/lib/python3.10/site-packages (from fastai>=2.2->fasterai==0.1.11) (3.7.1)\r\n",
      "Requirement already satisfied: pandas in /opt/conda/lib/python3.10/site-packages (from fastai>=2.2->fasterai==0.1.11) (1.5.3)\r\n",
      "Requirement already satisfied: requests in /opt/conda/lib/python3.10/site-packages (from fastai>=2.2->fasterai==0.1.11) (2.31.0)\r\n",
      "Requirement already satisfied: pyyaml in /opt/conda/lib/python3.10/site-packages (from fastai>=2.2->fasterai==0.1.11) (6.0)\r\n",
      "Requirement already satisfied: fastprogress>=0.2.4 in /opt/conda/lib/python3.10/site-packages (from fastai>=2.2->fasterai==0.1.11) (1.0.3)\r\n",
      "Requirement already satisfied: pillow>6.0.0 in /opt/conda/lib/python3.10/site-packages (from fastai>=2.2->fasterai==0.1.11) (9.5.0)\r\n",
      "Requirement already satisfied: scikit-learn in /opt/conda/lib/python3.10/site-packages (from fastai>=2.2->fasterai==0.1.11) (1.2.2)\r\n",
      "Requirement already satisfied: scipy in /opt/conda/lib/python3.10/site-packages (from fastai>=2.2->fasterai==0.1.11) (1.11.1)\r\n",
      "Requirement already satisfied: spacy<4 in /opt/conda/lib/python3.10/site-packages (from fastai>=2.2->fasterai==0.1.11) (3.5.4)\r\n",
      "Requirement already satisfied: torch<1.14,>=1.7 in /opt/conda/lib/python3.10/site-packages (from fastai>=2.2->fasterai==0.1.11) (1.13.1)\r\n",
      "Requirement already satisfied: spacy-legacy<3.1.0,>=3.0.11 in /opt/conda/lib/python3.10/site-packages (from spacy<4->fastai>=2.2->fasterai==0.1.11) (3.0.12)\r\n",
      "Requirement already satisfied: spacy-loggers<2.0.0,>=1.0.0 in /opt/conda/lib/python3.10/site-packages (from spacy<4->fastai>=2.2->fasterai==0.1.11) (1.0.4)\r\n",
      "Requirement already satisfied: murmurhash<1.1.0,>=0.28.0 in /opt/conda/lib/python3.10/site-packages (from spacy<4->fastai>=2.2->fasterai==0.1.11) (1.0.9)\r\n",
      "Requirement already satisfied: cymem<2.1.0,>=2.0.2 in /opt/conda/lib/python3.10/site-packages (from spacy<4->fastai>=2.2->fasterai==0.1.11) (2.0.7)\r\n",
      "Requirement already satisfied: preshed<3.1.0,>=3.0.2 in /opt/conda/lib/python3.10/site-packages (from spacy<4->fastai>=2.2->fasterai==0.1.11) (3.0.8)\r\n",
      "Requirement already satisfied: thinc<8.2.0,>=8.1.8 in /opt/conda/lib/python3.10/site-packages (from spacy<4->fastai>=2.2->fasterai==0.1.11) (8.1.10)\r\n",
      "Requirement already satisfied: wasabi<1.2.0,>=0.9.1 in /opt/conda/lib/python3.10/site-packages (from spacy<4->fastai>=2.2->fasterai==0.1.11) (1.1.2)\r\n",
      "Requirement already satisfied: srsly<3.0.0,>=2.4.3 in /opt/conda/lib/python3.10/site-packages (from spacy<4->fastai>=2.2->fasterai==0.1.11) (2.4.6)\r\n",
      "Requirement already satisfied: catalogue<2.1.0,>=2.0.6 in /opt/conda/lib/python3.10/site-packages (from spacy<4->fastai>=2.2->fasterai==0.1.11) (2.0.8)\r\n",
      "Requirement already satisfied: typer<0.10.0,>=0.3.0 in /opt/conda/lib/python3.10/site-packages (from spacy<4->fastai>=2.2->fasterai==0.1.11) (0.9.0)\r\n",
      "Requirement already satisfied: pathy>=0.10.0 in /opt/conda/lib/python3.10/site-packages (from spacy<4->fastai>=2.2->fasterai==0.1.11) (0.10.1)\r\n",
      "Requirement already satisfied: smart-open<7.0.0,>=5.2.1 in /opt/conda/lib/python3.10/site-packages (from spacy<4->fastai>=2.2->fasterai==0.1.11) (6.3.0)\r\n",
      "Requirement already satisfied: tqdm<5.0.0,>=4.38.0 in /opt/conda/lib/python3.10/site-packages (from spacy<4->fastai>=2.2->fasterai==0.1.11) (4.65.0)\r\n",
      "Requirement already satisfied: numpy>=1.15.0 in /opt/conda/lib/python3.10/site-packages (from spacy<4->fastai>=2.2->fasterai==0.1.11) (1.23.5)\r\n",
      "Requirement already satisfied: pydantic!=1.8,!=1.8.1,<1.11.0,>=1.7.4 in /opt/conda/lib/python3.10/site-packages (from spacy<4->fastai>=2.2->fasterai==0.1.11) (1.10.10)\r\n",
      "Requirement already satisfied: jinja2 in /opt/conda/lib/python3.10/site-packages (from spacy<4->fastai>=2.2->fasterai==0.1.11) (3.1.2)\r\n",
      "Requirement already satisfied: setuptools in /opt/conda/lib/python3.10/site-packages (from spacy<4->fastai>=2.2->fasterai==0.1.11) (59.8.0)\r\n",
      "Requirement already satisfied: langcodes<4.0.0,>=3.2.0 in /opt/conda/lib/python3.10/site-packages (from spacy<4->fastai>=2.2->fasterai==0.1.11) (3.3.0)\r\n",
      "Requirement already satisfied: pyparsing!=3.0.5,>=2.0.2 in /opt/conda/lib/python3.10/site-packages (from packaging->fastai>=2.2->fasterai==0.1.11) (3.0.9)\r\n",
      "Requirement already satisfied: charset-normalizer<4,>=2 in /opt/conda/lib/python3.10/site-packages (from requests->fastai>=2.2->fasterai==0.1.11) (3.1.0)\r\n",
      "Requirement already satisfied: idna<4,>=2.5 in /opt/conda/lib/python3.10/site-packages (from requests->fastai>=2.2->fasterai==0.1.11) (3.4)\r\n",
      "Requirement already satisfied: urllib3<3,>=1.21.1 in /opt/conda/lib/python3.10/site-packages (from requests->fastai>=2.2->fasterai==0.1.11) (1.26.15)\r\n",
      "Requirement already satisfied: certifi>=2017.4.17 in /opt/conda/lib/python3.10/site-packages (from requests->fastai>=2.2->fasterai==0.1.11) (2023.5.7)\r\n",
      "Requirement already satisfied: typing-extensions in /opt/conda/lib/python3.10/site-packages (from torch<1.14,>=1.7->fastai>=2.2->fasterai==0.1.11) (4.6.3)\r\n",
      "Requirement already satisfied: nvidia-cuda-runtime-cu11==11.7.99 in /opt/conda/lib/python3.10/site-packages (from torch<1.14,>=1.7->fastai>=2.2->fasterai==0.1.11) (11.7.99)\r\n",
      "Requirement already satisfied: nvidia-cudnn-cu11==8.5.0.96 in /opt/conda/lib/python3.10/site-packages (from torch<1.14,>=1.7->fastai>=2.2->fasterai==0.1.11) (8.5.0.96)\r\n",
      "Requirement already satisfied: nvidia-cublas-cu11==11.10.3.66 in /opt/conda/lib/python3.10/site-packages (from torch<1.14,>=1.7->fastai>=2.2->fasterai==0.1.11) (11.10.3.66)\r\n",
      "Requirement already satisfied: nvidia-cuda-nvrtc-cu11==11.7.99 in /opt/conda/lib/python3.10/site-packages (from torch<1.14,>=1.7->fastai>=2.2->fasterai==0.1.11) (11.7.99)\r\n",
      "Requirement already satisfied: wheel in /opt/conda/lib/python3.10/site-packages (from nvidia-cublas-cu11==11.10.3.66->torch<1.14,>=1.7->fastai>=2.2->fasterai==0.1.11) (0.40.0)\r\n",
      "Requirement already satisfied: contourpy>=1.0.1 in /opt/conda/lib/python3.10/site-packages (from matplotlib->fastai>=2.2->fasterai==0.1.11) (1.1.0)\r\n",
      "Requirement already satisfied: cycler>=0.10 in /opt/conda/lib/python3.10/site-packages (from matplotlib->fastai>=2.2->fasterai==0.1.11) (0.11.0)\r\n",
      "Requirement already satisfied: fonttools>=4.22.0 in /opt/conda/lib/python3.10/site-packages (from matplotlib->fastai>=2.2->fasterai==0.1.11) (4.40.0)\r\n",
      "Requirement already satisfied: kiwisolver>=1.0.1 in /opt/conda/lib/python3.10/site-packages (from matplotlib->fastai>=2.2->fasterai==0.1.11) (1.4.4)\r\n",
      "Requirement already satisfied: python-dateutil>=2.7 in /opt/conda/lib/python3.10/site-packages (from matplotlib->fastai>=2.2->fasterai==0.1.11) (2.8.2)\r\n",
      "Requirement already satisfied: pytz>=2020.1 in /opt/conda/lib/python3.10/site-packages (from pandas->fastai>=2.2->fasterai==0.1.11) (2023.3)\r\n",
      "Requirement already satisfied: joblib>=1.1.1 in /opt/conda/lib/python3.10/site-packages (from scikit-learn->fastai>=2.2->fasterai==0.1.11) (1.2.0)\r\n",
      "Requirement already satisfied: threadpoolctl>=2.0.0 in /opt/conda/lib/python3.10/site-packages (from scikit-learn->fastai>=2.2->fasterai==0.1.11) (3.1.0)\r\n",
      "Requirement already satisfied: six>=1.5 in /opt/conda/lib/python3.10/site-packages (from python-dateutil>=2.7->matplotlib->fastai>=2.2->fasterai==0.1.11) (1.16.0)\r\n",
      "Requirement already satisfied: blis<0.8.0,>=0.7.8 in /opt/conda/lib/python3.10/site-packages (from thinc<8.2.0,>=8.1.8->spacy<4->fastai>=2.2->fasterai==0.1.11) (0.7.9)\r\n",
      "Requirement already satisfied: confection<1.0.0,>=0.0.1 in /opt/conda/lib/python3.10/site-packages (from thinc<8.2.0,>=8.1.8->spacy<4->fastai>=2.2->fasterai==0.1.11) (0.1.0)\r\n",
      "Requirement already satisfied: click<9.0.0,>=7.1.1 in /opt/conda/lib/python3.10/site-packages (from typer<0.10.0,>=0.3.0->spacy<4->fastai>=2.2->fasterai==0.1.11) (8.1.3)\r\n",
      "Requirement already satisfied: MarkupSafe>=2.0 in /opt/conda/lib/python3.10/site-packages (from jinja2->spacy<4->fastai>=2.2->fasterai==0.1.11) (2.1.3)\r\n",
      "Installing collected packages: fasterai\r\n",
      "Successfully installed fasterai-0.1.11\r\n",
      "Collecting ipython-autotime==0.3.1\r\n",
      "  Downloading ipython_autotime-0.3.1-py2.py3-none-any.whl (6.8 kB)\r\n",
      "Requirement already satisfied: ipython in /opt/conda/lib/python3.10/site-packages (from ipython-autotime==0.3.1) (8.14.0)\r\n",
      "Requirement already satisfied: backcall in /opt/conda/lib/python3.10/site-packages (from ipython->ipython-autotime==0.3.1) (0.2.0)\r\n",
      "Requirement already satisfied: decorator in /opt/conda/lib/python3.10/site-packages (from ipython->ipython-autotime==0.3.1) (5.1.1)\r\n",
      "Requirement already satisfied: jedi>=0.16 in /opt/conda/lib/python3.10/site-packages (from ipython->ipython-autotime==0.3.1) (0.18.2)\r\n",
      "Requirement already satisfied: matplotlib-inline in /opt/conda/lib/python3.10/site-packages (from ipython->ipython-autotime==0.3.1) (0.1.6)\r\n",
      "Requirement already satisfied: pickleshare in /opt/conda/lib/python3.10/site-packages (from ipython->ipython-autotime==0.3.1) (0.7.5)\r\n",
      "Requirement already satisfied: prompt-toolkit!=3.0.37,<3.1.0,>=3.0.30 in /opt/conda/lib/python3.10/site-packages (from ipython->ipython-autotime==0.3.1) (3.0.38)\r\n",
      "Requirement already satisfied: pygments>=2.4.0 in /opt/conda/lib/python3.10/site-packages (from ipython->ipython-autotime==0.3.1) (2.15.1)\r\n",
      "Requirement already satisfied: stack-data in /opt/conda/lib/python3.10/site-packages (from ipython->ipython-autotime==0.3.1) (0.6.2)\r\n",
      "Requirement already satisfied: traitlets>=5 in /opt/conda/lib/python3.10/site-packages (from ipython->ipython-autotime==0.3.1) (5.9.0)\r\n",
      "Requirement already satisfied: pexpect>4.3 in /opt/conda/lib/python3.10/site-packages (from ipython->ipython-autotime==0.3.1) (4.8.0)\r\n",
      "Requirement already satisfied: parso<0.9.0,>=0.8.0 in /opt/conda/lib/python3.10/site-packages (from jedi>=0.16->ipython->ipython-autotime==0.3.1) (0.8.3)\r\n",
      "Requirement already satisfied: ptyprocess>=0.5 in /opt/conda/lib/python3.10/site-packages (from pexpect>4.3->ipython->ipython-autotime==0.3.1) (0.7.0)\r\n",
      "Requirement already satisfied: wcwidth in /opt/conda/lib/python3.10/site-packages (from prompt-toolkit!=3.0.37,<3.1.0,>=3.0.30->ipython->ipython-autotime==0.3.1) (0.2.6)\r\n",
      "Requirement already satisfied: executing>=1.2.0 in /opt/conda/lib/python3.10/site-packages (from stack-data->ipython->ipython-autotime==0.3.1) (1.2.0)\r\n",
      "Requirement already satisfied: asttokens>=2.1.0 in /opt/conda/lib/python3.10/site-packages (from stack-data->ipython->ipython-autotime==0.3.1) (2.2.1)\r\n",
      "Requirement already satisfied: pure-eval in /opt/conda/lib/python3.10/site-packages (from stack-data->ipython->ipython-autotime==0.3.1) (0.2.2)\r\n",
      "Requirement already satisfied: six in /opt/conda/lib/python3.10/site-packages (from asttokens>=2.1.0->stack-data->ipython->ipython-autotime==0.3.1) (1.16.0)\r\n",
      "Installing collected packages: ipython-autotime\r\n",
      "Successfully installed ipython-autotime-0.3.1\r\n",
      "Collecting torch==1.12.1\r\n",
      "  Downloading torch-1.12.1-cp310-cp310-manylinux1_x86_64.whl (776.3 MB)\r\n",
      "\u001b[2K     \u001b[90m━━━━━━━━━━━━━━━━━━━━━━━━━━━━━━━━━━━━━\u001b[0m \u001b[32m776.3/776.3 MB\u001b[0m \u001b[31m961.8 kB/s\u001b[0m eta \u001b[36m0:00:00\u001b[0m\r\n",
      "\u001b[?25hRequirement already satisfied: typing-extensions in /opt/conda/lib/python3.10/site-packages (from torch==1.12.1) (4.6.3)\r\n",
      "Installing collected packages: torch\r\n",
      "  Attempting uninstall: torch\r\n",
      "    Found existing installation: torch 1.13.1\r\n",
      "    Uninstalling torch-1.13.1:\r\n",
      "      Successfully uninstalled torch-1.13.1\r\n",
      "\u001b[31mERROR: pip's dependency resolver does not currently take into account all the packages that are installed. This behaviour is the source of the following dependency conflicts.\r\n",
      "torchdata 0.6.0 requires torch==2.0.0, but you have torch 1.12.1 which is incompatible.\u001b[0m\u001b[31m\r\n",
      "\u001b[0mSuccessfully installed torch-1.12.1\r\n",
      "time: 658 µs (started: 2023-08-09 12:09:41 +00:00)\n"
     ]
    }
   ],
   "source": [
    "!pip install fastai==2.7.9\n",
    "!pip install fastkaggle==0.0.7\n",
    "!pip install fasterai==0.1.11\n",
    "!pip install ipython-autotime==0.3.1\n",
    "!pip install torch==1.12.1\n",
    "%load_ext autotime"
   ]
  },
  {
   "cell_type": "code",
   "execution_count": 2,
   "id": "96551c87",
   "metadata": {
    "execution": {
     "iopub.execute_input": "2023-08-09T12:09:41.557381Z",
     "iopub.status.busy": "2023-08-09T12:09:41.556340Z",
     "iopub.status.idle": "2023-08-09T12:09:45.389137Z",
     "shell.execute_reply": "2023-08-09T12:09:45.387865Z"
    },
    "papermill": {
     "duration": 3.916712,
     "end_time": "2023-08-09T12:09:45.391501",
     "exception": false,
     "start_time": "2023-08-09T12:09:41.474789",
     "status": "completed"
    },
    "tags": []
   },
   "outputs": [
    {
     "name": "stderr",
     "output_type": "stream",
     "text": [
      "/opt/conda/lib/python3.10/site-packages/scipy/__init__.py:146: UserWarning: A NumPy version >=1.16.5 and <1.23.0 is required for this version of SciPy (detected version 1.23.5\n",
      "  warnings.warn(f\"A NumPy version >={np_minversion} and <{np_maxversion}\"\n",
      "/opt/conda/lib/python3.10/site-packages/torchvision/io/image.py:13: UserWarning: Failed to load image Python extension: '/opt/conda/lib/python3.10/site-packages/torchvision/image.so: undefined symbol: _ZN3c104cuda20CUDACachingAllocator9allocatorE'If you don't plan on using image functionality from `torchvision.io`, you can ignore this warning. Otherwise, there might be something wrong with your environment. Did you have `libjpeg` or `libpng` installed before building `torchvision` from source?\n",
      "  warn(\n"
     ]
    },
    {
     "name": "stdout",
     "output_type": "stream",
     "text": [
      "time: 3.83 s (started: 2023-08-09 12:09:41 +00:00)\n"
     ]
    }
   ],
   "source": [
    "from fastai.vision.all import *\n",
    "from fastai.callback.all import *\n",
    "from fastai.data.all import *\n",
    "from fastai.imports import *\n",
    "from fastai.torch_core import *\n",
    "from fastai.learner import *\n",
    "from fastai.fp16_utils import *\n",
    "from fastai.callback.fp16 import *\n",
    "import fastai.optimizer as optim\n",
    "\n",
    "\n",
    "from fasterai.sparse.all import *\n",
    "from fasterai.core.criteria import *\n",
    "from fasterai.regularize.all import *\n",
    "\n",
    "from fastkaggle import *\n",
    "\n",
    "import torch\n",
    "import torch.nn as nn\n",
    "import torch.nn.functional as F\n",
    "\n",
    "\n",
    "set_seed(42)"
   ]
  },
  {
   "cell_type": "code",
   "execution_count": 3,
   "id": "ce81f689",
   "metadata": {
    "execution": {
     "iopub.execute_input": "2023-08-09T12:09:45.560669Z",
     "iopub.status.busy": "2023-08-09T12:09:45.560266Z",
     "iopub.status.idle": "2023-08-09T12:09:58.262116Z",
     "shell.execute_reply": "2023-08-09T12:09:58.260229Z"
    },
    "papermill": {
     "duration": 12.788961,
     "end_time": "2023-08-09T12:09:58.264596",
     "exception": false,
     "start_time": "2023-08-09T12:09:45.475635",
     "status": "completed"
    },
    "tags": []
   },
   "outputs": [
    {
     "name": "stdout",
     "output_type": "stream",
     "text": [
      "time: 12.7 s (started: 2023-08-09 12:09:45 +00:00)\n"
     ]
    }
   ],
   "source": [
    "comp = 'paddy-diseases/paddy-diseases'\n",
    "\n",
    "path = setup_comp(comp, install='\"fastcore>=1.4.5\" \"fastai>=2.7.1\" \"timm>=0.6.2.dev0\"')"
   ]
  },
  {
   "cell_type": "code",
   "execution_count": 4,
   "id": "cbd3346e",
   "metadata": {
    "execution": {
     "iopub.execute_input": "2023-08-09T12:09:58.424112Z",
     "iopub.status.busy": "2023-08-09T12:09:58.423788Z",
     "iopub.status.idle": "2023-08-09T12:10:07.880335Z",
     "shell.execute_reply": "2023-08-09T12:10:07.878956Z"
    },
    "papermill": {
     "duration": 9.538244,
     "end_time": "2023-08-09T12:10:07.882534",
     "exception": false,
     "start_time": "2023-08-09T12:09:58.344290",
     "status": "completed"
    },
    "tags": []
   },
   "outputs": [
    {
     "name": "stdout",
     "output_type": "stream",
     "text": [
      "time: 9.45 s (started: 2023-08-09 12:09:58 +00:00)\n"
     ]
    }
   ],
   "source": [
    "dls = ImageDataLoaders.from_folder(path/\"train\", \n",
    "                                   valid_pct=0.25, \n",
    "                                   item_tfms=Resize(256), \n",
    "                                   batch_tfms=\n",
    "                                   aug_transforms(   size=64, \n",
    "                                                                min_scale=0.75,\n",
    "                                                                max_rotate=10., \n",
    "                                                                min_zoom=0.8, \n",
    "                                                                max_zoom=1.2, \n",
    "                                                            \n",
    "                                                            ),\n",
    "                                   bs=32//2)"
   ]
  },
  {
   "cell_type": "code",
   "execution_count": 5,
   "id": "ec83c8b9",
   "metadata": {
    "execution": {
     "iopub.execute_input": "2023-08-09T12:10:08.047564Z",
     "iopub.status.busy": "2023-08-09T12:10:08.047188Z",
     "iopub.status.idle": "2023-08-09T12:10:10.223838Z",
     "shell.execute_reply": "2023-08-09T12:10:10.222892Z"
    },
    "papermill": {
     "duration": 2.262944,
     "end_time": "2023-08-09T12:10:10.225927",
     "exception": false,
     "start_time": "2023-08-09T12:10:07.962983",
     "status": "completed"
    },
    "tags": []
   },
   "outputs": [
    {
     "name": "stdout",
     "output_type": "stream",
     "text": [
      "time: 2.17 s (started: 2023-08-09 12:10:08 +00:00)\n"
     ]
    }
   ],
   "source": [
    "model = vgg16_bn(num_classes=10).cuda()"
   ]
  },
  {
   "cell_type": "code",
   "execution_count": 6,
   "id": "913f3f47",
   "metadata": {
    "execution": {
     "iopub.execute_input": "2023-08-09T12:10:10.391960Z",
     "iopub.status.busy": "2023-08-09T12:10:10.391625Z",
     "iopub.status.idle": "2023-08-09T12:10:10.397323Z",
     "shell.execute_reply": "2023-08-09T12:10:10.396431Z"
    },
    "papermill": {
     "duration": 0.092828,
     "end_time": "2023-08-09T12:10:10.399838",
     "exception": false,
     "start_time": "2023-08-09T12:10:10.307010",
     "status": "completed"
    },
    "tags": []
   },
   "outputs": [
    {
     "name": "stdout",
     "output_type": "stream",
     "text": [
      "time: 695 µs (started: 2023-08-09 12:10:10 +00:00)\n"
     ]
    }
   ],
   "source": [
    "cbs = [     \n",
    "        GradientAccumulation(32), \n",
    "        SparsifyCallback(sparsity=25, \n",
    "                         granularity='filter', \n",
    "                         context='local', \n",
    "                         criteria=large_final, \n",
    "                         schedule=one_cycle),\n",
    "        ]"
   ]
  },
  {
   "cell_type": "code",
   "execution_count": 7,
   "id": "f5cf3683",
   "metadata": {
    "execution": {
     "iopub.execute_input": "2023-08-09T12:10:10.674601Z",
     "iopub.status.busy": "2023-08-09T12:10:10.674221Z",
     "iopub.status.idle": "2023-08-09T12:10:10.681124Z",
     "shell.execute_reply": "2023-08-09T12:10:10.680187Z"
    },
    "papermill": {
     "duration": 0.130591,
     "end_time": "2023-08-09T12:10:10.683677",
     "exception": false,
     "start_time": "2023-08-09T12:10:10.553086",
     "status": "completed"
    },
    "tags": []
   },
   "outputs": [
    {
     "name": "stdout",
     "output_type": "stream",
     "text": [
      "time: 950 µs (started: 2023-08-09 12:10:10 +00:00)\n"
     ]
    }
   ],
   "source": [
    "from fastai.learner import Learner\n",
    "\n",
    "class CustomLearner(Learner):\n",
    "    optimizer_memory_usage = 0\n",
    "    def _step(self):\n",
    "        before_memory = torch.cuda.max_memory_allocated(device=torch.device(\"cuda\"))\n",
    "        super()._step()\n",
    "        after_memory = torch.cuda.max_memory_allocated(device=torch.device(\"cuda\"))\n",
    "      \n",
    "        # calculate the memory usage during the optimizer step\n",
    "        self.optimizer_memory_usage += after_memory - before_memory\n",
    "    \n",
    "        print(f\"Optimizer memory usage: {self.optimizer_memory_usage} Byte\")\n"
   ]
  },
  {
   "cell_type": "code",
   "execution_count": 8,
   "id": "81c8b8e6",
   "metadata": {
    "execution": {
     "iopub.execute_input": "2023-08-09T12:10:10.844483Z",
     "iopub.status.busy": "2023-08-09T12:10:10.843673Z",
     "iopub.status.idle": "2023-08-09T12:10:10.856130Z",
     "shell.execute_reply": "2023-08-09T12:10:10.855042Z"
    },
    "papermill": {
     "duration": 0.095679,
     "end_time": "2023-08-09T12:10:10.858048",
     "exception": false,
     "start_time": "2023-08-09T12:10:10.762369",
     "status": "completed"
    },
    "tags": []
   },
   "outputs": [
    {
     "name": "stdout",
     "output_type": "stream",
     "text": [
      "time: 6.68 ms (started: 2023-08-09 12:10:10 +00:00)\n"
     ]
    }
   ],
   "source": [
    "learn = CustomLearner(dls, \n",
    "                model = model, \n",
    "                metrics=[accuracy,\n",
    "                         error_rate,\n",
    "                        ],\n",
    "               ).to_fp16()\n",
    "learn.unfreeze()\n",
    "learn.recorder.train_metrics = True\n",
    "learn.path = Path(\"/kaggle/working/\")\n",
    "\n"
   ]
  },
  {
   "cell_type": "code",
   "execution_count": 9,
   "id": "b3b7d9bf",
   "metadata": {
    "execution": {
     "iopub.execute_input": "2023-08-09T12:10:11.019538Z",
     "iopub.status.busy": "2023-08-09T12:10:11.018869Z",
     "iopub.status.idle": "2023-08-09T12:11:36.709642Z",
     "shell.execute_reply": "2023-08-09T12:11:36.708175Z"
    },
    "papermill": {
     "duration": 85.774358,
     "end_time": "2023-08-09T12:11:36.711922",
     "exception": false,
     "start_time": "2023-08-09T12:10:10.937564",
     "status": "completed"
    },
    "tags": []
   },
   "outputs": [
    {
     "name": "stdout",
     "output_type": "stream",
     "text": [
      "Pruning of filter until a sparsity of [25]%\n",
      "Saving Weights at epoch 0\n"
     ]
    },
    {
     "data": {
      "text/html": [
       "\n",
       "<style>\n",
       "    /* Turns off some styling */\n",
       "    progress {\n",
       "        /* gets rid of default border in Firefox and Opera. */\n",
       "        border: none;\n",
       "        /* Needs to be in here for Safari polyfill so background images work as expected. */\n",
       "        background-size: auto;\n",
       "    }\n",
       "    progress:not([value]), progress:not([value])::-webkit-progress-bar {\n",
       "        background: repeating-linear-gradient(45deg, #7e7e7e, #7e7e7e 10px, #5c5c5c 10px, #5c5c5c 20px);\n",
       "    }\n",
       "    .progress-bar-interrupted, .progress-bar-interrupted::-webkit-progress-bar {\n",
       "        background: #F44336;\n",
       "    }\n",
       "</style>\n"
      ],
      "text/plain": [
       "<IPython.core.display.HTML object>"
      ]
     },
     "metadata": {},
     "output_type": "display_data"
    },
    {
     "data": {
      "text/html": [
       "<table border=\"1\" class=\"dataframe\">\n",
       "  <thead>\n",
       "    <tr style=\"text-align: left;\">\n",
       "      <th>epoch</th>\n",
       "      <th>train_loss</th>\n",
       "      <th>train_accuracy</th>\n",
       "      <th>train_error_rate</th>\n",
       "      <th>valid_loss</th>\n",
       "      <th>valid_accuracy</th>\n",
       "      <th>valid_error_rate</th>\n",
       "      <th>time</th>\n",
       "    </tr>\n",
       "  </thead>\n",
       "  <tbody>\n",
       "    <tr>\n",
       "      <td>0</td>\n",
       "      <td>2.164133</td>\n",
       "      <td>0.200321</td>\n",
       "      <td>0.799679</td>\n",
       "      <td>2.017215</td>\n",
       "      <td>0.312500</td>\n",
       "      <td>0.687500</td>\n",
       "      <td>01:25</td>\n",
       "    </tr>\n",
       "  </tbody>\n",
       "</table>"
      ],
      "text/plain": [
       "<IPython.core.display.HTML object>"
      ]
     },
     "metadata": {},
     "output_type": "display_data"
    },
    {
     "name": "stdout",
     "output_type": "stream",
     "text": [
      "Optimizer memory usage: 1023441408 Byte\n",
      "Optimizer memory usage: 1106355200 Byte\n",
      "Optimizer memory usage: 1106355200 Byte\n",
      "Optimizer memory usage: 1106355200 Byte\n",
      "Optimizer memory usage: 1106355200 Byte\n",
      "Optimizer memory usage: 1106355200 Byte\n",
      "Optimizer memory usage: 1106355200 Byte\n",
      "Optimizer memory usage: 1106355200 Byte\n",
      "Optimizer memory usage: 1106355200 Byte\n",
      "Optimizer memory usage: 1106355200 Byte\n",
      "Optimizer memory usage: 1106355200 Byte\n",
      "Optimizer memory usage: 1106355200 Byte\n",
      "Optimizer memory usage: 1106355200 Byte\n",
      "Optimizer memory usage: 1106355200 Byte\n",
      "Optimizer memory usage: 1106355200 Byte\n",
      "Optimizer memory usage: 1106355200 Byte\n",
      "Optimizer memory usage: 1106355200 Byte\n",
      "Optimizer memory usage: 1106355200 Byte\n",
      "Optimizer memory usage: 1106355200 Byte\n",
      "Optimizer memory usage: 1106355200 Byte\n",
      "Optimizer memory usage: 1106355200 Byte\n",
      "Optimizer memory usage: 1106355200 Byte\n",
      "Optimizer memory usage: 1106355200 Byte\n",
      "Optimizer memory usage: 1106355200 Byte\n",
      "Optimizer memory usage: 1106355200 Byte\n",
      "Optimizer memory usage: 1106355200 Byte\n",
      "Optimizer memory usage: 1106355200 Byte\n",
      "Optimizer memory usage: 1106355200 Byte\n",
      "Optimizer memory usage: 1106355200 Byte\n",
      "Optimizer memory usage: 1106355200 Byte\n",
      "Optimizer memory usage: 1106355200 Byte\n",
      "Optimizer memory usage: 1106355200 Byte\n",
      "Optimizer memory usage: 1106355200 Byte\n",
      "Optimizer memory usage: 1106355200 Byte\n",
      "Optimizer memory usage: 1106355200 Byte\n",
      "Optimizer memory usage: 1106355200 Byte\n",
      "Optimizer memory usage: 1106355200 Byte\n",
      "Optimizer memory usage: 1106355200 Byte\n",
      "Optimizer memory usage: 1106355200 Byte\n",
      "Optimizer memory usage: 1106355200 Byte\n",
      "Optimizer memory usage: 1106355200 Byte\n",
      "Optimizer memory usage: 1106355200 Byte\n",
      "Optimizer memory usage: 1106355200 Byte\n",
      "Optimizer memory usage: 1106355200 Byte\n",
      "Optimizer memory usage: 1106355200 Byte\n",
      "Optimizer memory usage: 1106355200 Byte\n",
      "Optimizer memory usage: 1106355200 Byte\n",
      "Optimizer memory usage: 1106355200 Byte\n",
      "Optimizer memory usage: 1106355200 Byte\n",
      "Optimizer memory usage: 1106355200 Byte\n",
      "Optimizer memory usage: 1106355200 Byte\n",
      "Optimizer memory usage: 1106355200 Byte\n",
      "Optimizer memory usage: 1106355200 Byte\n",
      "Optimizer memory usage: 1106355200 Byte\n",
      "Optimizer memory usage: 1106355200 Byte\n",
      "Optimizer memory usage: 1106355200 Byte\n",
      "Optimizer memory usage: 1106355200 Byte\n",
      "Optimizer memory usage: 1106355200 Byte\n",
      "Optimizer memory usage: 1106355200 Byte\n",
      "Optimizer memory usage: 1106355200 Byte\n",
      "Optimizer memory usage: 1106355200 Byte\n",
      "Optimizer memory usage: 1106355200 Byte\n",
      "Optimizer memory usage: 1106355200 Byte\n",
      "Optimizer memory usage: 1106355200 Byte\n",
      "Optimizer memory usage: 1106355200 Byte\n",
      "Optimizer memory usage: 1106355200 Byte\n",
      "Optimizer memory usage: 1106355200 Byte\n",
      "Optimizer memory usage: 1106355200 Byte\n",
      "Optimizer memory usage: 1106355200 Byte\n",
      "Optimizer memory usage: 1106355200 Byte\n",
      "Optimizer memory usage: 1106355200 Byte\n",
      "Optimizer memory usage: 1106355200 Byte\n",
      "Optimizer memory usage: 1106355200 Byte\n",
      "Optimizer memory usage: 1106355200 Byte\n",
      "Optimizer memory usage: 1106355200 Byte\n",
      "Optimizer memory usage: 1106355200 Byte\n",
      "Optimizer memory usage: 1106355200 Byte\n",
      "Optimizer memory usage: 1106355200 Byte\n",
      "Optimizer memory usage: 1106355200 Byte\n",
      "Optimizer memory usage: 1106355200 Byte\n",
      "Optimizer memory usage: 1106355200 Byte\n",
      "Optimizer memory usage: 1106355200 Byte\n",
      "Optimizer memory usage: 1106355200 Byte\n",
      "Optimizer memory usage: 1106355200 Byte\n",
      "Optimizer memory usage: 1106355200 Byte\n",
      "Optimizer memory usage: 1106355200 Byte\n",
      "Optimizer memory usage: 1106355200 Byte\n",
      "Optimizer memory usage: 1106355200 Byte\n",
      "Optimizer memory usage: 1106355200 Byte\n",
      "Optimizer memory usage: 1106355200 Byte\n",
      "Optimizer memory usage: 1106355200 Byte\n",
      "Optimizer memory usage: 1106355200 Byte\n",
      "Optimizer memory usage: 1106355200 Byte\n",
      "Optimizer memory usage: 1106355200 Byte\n",
      "Optimizer memory usage: 1106355200 Byte\n",
      "Optimizer memory usage: 1106355200 Byte\n",
      "Optimizer memory usage: 1106355200 Byte\n",
      "Optimizer memory usage: 1106355200 Byte\n",
      "Optimizer memory usage: 1106355200 Byte\n",
      "Optimizer memory usage: 1106355200 Byte\n",
      "Optimizer memory usage: 1106355200 Byte\n",
      "Optimizer memory usage: 1106355200 Byte\n",
      "Optimizer memory usage: 1106355200 Byte\n",
      "Optimizer memory usage: 1106355200 Byte\n",
      "Optimizer memory usage: 1106355200 Byte\n",
      "Optimizer memory usage: 1106355200 Byte\n",
      "Optimizer memory usage: 1106355200 Byte\n",
      "Optimizer memory usage: 1106355200 Byte\n",
      "Optimizer memory usage: 1106355200 Byte\n",
      "Optimizer memory usage: 1106355200 Byte\n",
      "Optimizer memory usage: 1106355200 Byte\n",
      "Optimizer memory usage: 1106355200 Byte\n",
      "Optimizer memory usage: 1106355200 Byte\n",
      "Optimizer memory usage: 1106355200 Byte\n",
      "Optimizer memory usage: 1106355200 Byte\n",
      "Optimizer memory usage: 1106355200 Byte\n",
      "Optimizer memory usage: 1106355200 Byte\n",
      "Optimizer memory usage: 1106355200 Byte\n",
      "Optimizer memory usage: 1106355200 Byte\n",
      "Optimizer memory usage: 1106355200 Byte\n",
      "Optimizer memory usage: 1106355200 Byte\n",
      "Optimizer memory usage: 1106355200 Byte\n",
      "Optimizer memory usage: 1106355200 Byte\n",
      "Optimizer memory usage: 1106355200 Byte\n",
      "Optimizer memory usage: 1106355200 Byte\n",
      "Optimizer memory usage: 1106355200 Byte\n",
      "Optimizer memory usage: 1106355200 Byte\n",
      "Optimizer memory usage: 1106355200 Byte\n",
      "Optimizer memory usage: 1106355200 Byte\n",
      "Optimizer memory usage: 1106355200 Byte\n",
      "Optimizer memory usage: 1106355200 Byte\n",
      "Optimizer memory usage: 1106355200 Byte\n",
      "Optimizer memory usage: 1106355200 Byte\n",
      "Optimizer memory usage: 1106355200 Byte\n",
      "Optimizer memory usage: 1106355200 Byte\n",
      "Optimizer memory usage: 1106355200 Byte\n",
      "Optimizer memory usage: 1106355200 Byte\n",
      "Optimizer memory usage: 1106355200 Byte\n",
      "Optimizer memory usage: 1106355200 Byte\n",
      "Optimizer memory usage: 1106355200 Byte\n",
      "Optimizer memory usage: 1106355200 Byte\n",
      "Optimizer memory usage: 1106355200 Byte\n",
      "Optimizer memory usage: 1106355200 Byte\n",
      "Optimizer memory usage: 1106355200 Byte\n",
      "Optimizer memory usage: 1106355200 Byte\n",
      "Optimizer memory usage: 1106355200 Byte\n",
      "Optimizer memory usage: 1106355200 Byte\n",
      "Optimizer memory usage: 1106355200 Byte\n",
      "Optimizer memory usage: 1106355200 Byte\n",
      "Optimizer memory usage: 1106355200 Byte\n",
      "Optimizer memory usage: 1106355200 Byte\n",
      "Optimizer memory usage: 1106355200 Byte\n",
      "Optimizer memory usage: 1106355200 Byte\n",
      "Optimizer memory usage: 1106355200 Byte\n",
      "Optimizer memory usage: 1106355200 Byte\n",
      "Optimizer memory usage: 1106355200 Byte\n",
      "Optimizer memory usage: 1106355200 Byte\n",
      "Optimizer memory usage: 1106355200 Byte\n",
      "Optimizer memory usage: 1106355200 Byte\n",
      "Optimizer memory usage: 1106355200 Byte\n",
      "Optimizer memory usage: 1106355200 Byte\n",
      "Optimizer memory usage: 1106355200 Byte\n",
      "Optimizer memory usage: 1106355200 Byte\n",
      "Optimizer memory usage: 1106355200 Byte\n",
      "Optimizer memory usage: 1106355200 Byte\n",
      "Optimizer memory usage: 1106355200 Byte\n",
      "Optimizer memory usage: 1106355200 Byte\n",
      "Optimizer memory usage: 1106355200 Byte\n",
      "Optimizer memory usage: 1106355200 Byte\n",
      "Optimizer memory usage: 1106355200 Byte\n",
      "Optimizer memory usage: 1106355200 Byte\n",
      "Optimizer memory usage: 1106355200 Byte\n",
      "Optimizer memory usage: 1106355200 Byte\n",
      "Optimizer memory usage: 1106355200 Byte\n",
      "Optimizer memory usage: 1106355200 Byte\n",
      "Optimizer memory usage: 1106355200 Byte\n",
      "Optimizer memory usage: 1106355200 Byte\n",
      "Optimizer memory usage: 1106355200 Byte\n",
      "Optimizer memory usage: 1106355200 Byte\n",
      "Optimizer memory usage: 1106355200 Byte\n",
      "Optimizer memory usage: 1106355200 Byte\n",
      "Optimizer memory usage: 1106355200 Byte\n",
      "Optimizer memory usage: 1106355200 Byte\n",
      "Optimizer memory usage: 1106355200 Byte\n",
      "Optimizer memory usage: 1106355200 Byte\n",
      "Optimizer memory usage: 1106355200 Byte\n",
      "Optimizer memory usage: 1106355200 Byte\n",
      "Optimizer memory usage: 1106355200 Byte\n",
      "Optimizer memory usage: 1106355200 Byte\n",
      "Optimizer memory usage: 1106355200 Byte\n",
      "Optimizer memory usage: 1106355200 Byte\n",
      "Optimizer memory usage: 1106355200 Byte\n",
      "Optimizer memory usage: 1106355200 Byte\n",
      "Sparsity at the end of epoch 0: [25.0]%\n",
      "Final Sparsity: [25.0]%\n",
      "Sparsity in Conv2d 2: 25.00%\n",
      "Sparsity in Conv2d 5: 25.00%\n",
      "Sparsity in Conv2d 9: 25.00%\n",
      "Sparsity in Conv2d 12: 25.00%\n",
      "Sparsity in Conv2d 16: 25.00%\n",
      "Sparsity in Conv2d 19: 25.00%\n",
      "Sparsity in Conv2d 22: 25.00%\n",
      "Sparsity in Conv2d 26: 25.00%\n",
      "Sparsity in Conv2d 29: 25.00%\n",
      "Sparsity in Conv2d 32: 25.00%\n",
      "Sparsity in Conv2d 36: 25.00%\n",
      "Sparsity in Conv2d 39: 25.00%\n",
      "Sparsity in Conv2d 42: 25.00%\n",
      "time: 1min 25s (started: 2023-08-09 12:10:11 +00:00)\n"
     ]
    }
   ],
   "source": [
    "learn.fit_one_cycle(1, 3e-5, cbs=cbs)"
   ]
  }
 ],
 "metadata": {
  "kernelspec": {
   "display_name": "Python 3",
   "language": "python",
   "name": "python3"
  },
  "language_info": {
   "codemirror_mode": {
    "name": "ipython",
    "version": 3
   },
   "file_extension": ".py",
   "mimetype": "text/x-python",
   "name": "python",
   "nbconvert_exporter": "python",
   "pygments_lexer": "ipython3",
   "version": "3.10.12"
  },
  "papermill": {
   "default_parameters": {},
   "duration": 333.044186,
   "end_time": "2023-08-09T12:11:39.073762",
   "environment_variables": {},
   "exception": null,
   "input_path": "__notebook__.ipynb",
   "output_path": "__notebook__.ipynb",
   "parameters": {},
   "start_time": "2023-08-09T12:06:06.029576",
   "version": "2.4.0"
  }
 },
 "nbformat": 4,
 "nbformat_minor": 5
}
