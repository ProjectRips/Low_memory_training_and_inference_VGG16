{
 "cells": [
  {
   "cell_type": "code",
   "execution_count": 1,
   "id": "b1f0f19b",
   "metadata": {
    "_cell_guid": "b1076dfc-b9ad-4769-8c92-a6c4dae69d19",
    "_uuid": "8f2839f25d086af736a60e9eeb907d3b93b6e0e5",
    "execution": {
     "iopub.execute_input": "2023-05-28T05:00:48.682427Z",
     "iopub.status.busy": "2023-05-28T05:00:48.681719Z",
     "iopub.status.idle": "2023-05-28T05:03:12.462428Z",
     "shell.execute_reply": "2023-05-28T05:03:12.461194Z"
    },
    "papermill": {
     "duration": 143.789305,
     "end_time": "2023-05-28T05:03:12.465070",
     "exception": false,
     "start_time": "2023-05-28T05:00:48.675765",
     "status": "completed"
    },
    "tags": []
   },
   "outputs": [
    {
     "name": "stdout",
     "output_type": "stream",
     "text": [
      "Collecting fastai==2.7.9\r\n",
      "  Downloading fastai-2.7.9-py3-none-any.whl (225 kB)\r\n",
      "\u001b[2K     \u001b[90m━━━━━━━━━━━━━━━━━━━━━━━━━━━━━━━━━━━━━━━\u001b[0m \u001b[32m225.5/225.5 kB\u001b[0m \u001b[31m5.9 MB/s\u001b[0m eta \u001b[36m0:00:00\u001b[0m\r\n",
      "\u001b[?25hRequirement already satisfied: pip in /opt/conda/lib/python3.7/site-packages (from fastai==2.7.9) (22.3.1)\r\n",
      "Requirement already satisfied: packaging in /opt/conda/lib/python3.7/site-packages (from fastai==2.7.9) (23.0)\r\n",
      "Requirement already satisfied: spacy<4 in /opt/conda/lib/python3.7/site-packages (from fastai==2.7.9) (3.5.0)\r\n",
      "Requirement already satisfied: requests in /opt/conda/lib/python3.7/site-packages (from fastai==2.7.9) (2.28.2)\r\n",
      "Requirement already satisfied: pandas in /opt/conda/lib/python3.7/site-packages (from fastai==2.7.9) (1.3.5)\r\n",
      "Requirement already satisfied: scikit-learn in /opt/conda/lib/python3.7/site-packages (from fastai==2.7.9) (1.0.2)\r\n",
      "Requirement already satisfied: fastcore<1.6,>=1.4.5 in /opt/conda/lib/python3.7/site-packages (from fastai==2.7.9) (1.5.28)\r\n",
      "Requirement already satisfied: torchvision>=0.8.2 in /opt/conda/lib/python3.7/site-packages (from fastai==2.7.9) (0.14.0)\r\n",
      "Requirement already satisfied: fastprogress>=0.2.4 in /opt/conda/lib/python3.7/site-packages (from fastai==2.7.9) (1.0.3)\r\n",
      "Requirement already satisfied: pyyaml in /opt/conda/lib/python3.7/site-packages (from fastai==2.7.9) (6.0)\r\n",
      "Requirement already satisfied: torch<1.14,>=1.7 in /opt/conda/lib/python3.7/site-packages (from fastai==2.7.9) (1.13.0)\r\n",
      "Requirement already satisfied: matplotlib in /opt/conda/lib/python3.7/site-packages (from fastai==2.7.9) (3.5.3)\r\n",
      "Requirement already satisfied: pillow>6.0.0 in /opt/conda/lib/python3.7/site-packages (from fastai==2.7.9) (9.4.0)\r\n",
      "Requirement already satisfied: fastdownload<2,>=0.0.5 in /opt/conda/lib/python3.7/site-packages (from fastai==2.7.9) (0.0.7)\r\n",
      "Requirement already satisfied: scipy in /opt/conda/lib/python3.7/site-packages (from fastai==2.7.9) (1.7.3)\r\n",
      "Requirement already satisfied: tqdm<5.0.0,>=4.38.0 in /opt/conda/lib/python3.7/site-packages (from spacy<4->fastai==2.7.9) (4.64.1)\r\n",
      "Requirement already satisfied: pathy>=0.10.0 in /opt/conda/lib/python3.7/site-packages (from spacy<4->fastai==2.7.9) (0.10.1)\r\n",
      "Requirement already satisfied: thinc<8.2.0,>=8.1.0 in /opt/conda/lib/python3.7/site-packages (from spacy<4->fastai==2.7.9) (8.1.7)\r\n",
      "Requirement already satisfied: spacy-loggers<2.0.0,>=1.0.0 in /opt/conda/lib/python3.7/site-packages (from spacy<4->fastai==2.7.9) (1.0.4)\r\n",
      "Requirement already satisfied: catalogue<2.1.0,>=2.0.6 in /opt/conda/lib/python3.7/site-packages (from spacy<4->fastai==2.7.9) (2.0.8)\r\n",
      "Requirement already satisfied: wasabi<1.2.0,>=0.9.1 in /opt/conda/lib/python3.7/site-packages (from spacy<4->fastai==2.7.9) (1.1.1)\r\n",
      "Requirement already satisfied: smart-open<7.0.0,>=5.2.1 in /opt/conda/lib/python3.7/site-packages (from spacy<4->fastai==2.7.9) (6.3.0)\r\n",
      "Requirement already satisfied: numpy>=1.15.0 in /opt/conda/lib/python3.7/site-packages (from spacy<4->fastai==2.7.9) (1.21.6)\r\n",
      "Requirement already satisfied: murmurhash<1.1.0,>=0.28.0 in /opt/conda/lib/python3.7/site-packages (from spacy<4->fastai==2.7.9) (1.0.9)\r\n",
      "Requirement already satisfied: typing-extensions<4.5.0,>=3.7.4.1 in /opt/conda/lib/python3.7/site-packages (from spacy<4->fastai==2.7.9) (4.4.0)\r\n",
      "Requirement already satisfied: spacy-legacy<3.1.0,>=3.0.11 in /opt/conda/lib/python3.7/site-packages (from spacy<4->fastai==2.7.9) (3.0.12)\r\n",
      "Requirement already satisfied: pydantic!=1.8,!=1.8.1,<1.11.0,>=1.7.4 in /opt/conda/lib/python3.7/site-packages (from spacy<4->fastai==2.7.9) (1.10.4)\r\n",
      "Requirement already satisfied: typer<0.8.0,>=0.3.0 in /opt/conda/lib/python3.7/site-packages (from spacy<4->fastai==2.7.9) (0.7.0)\r\n",
      "Requirement already satisfied: jinja2 in /opt/conda/lib/python3.7/site-packages (from spacy<4->fastai==2.7.9) (3.1.2)\r\n",
      "Requirement already satisfied: preshed<3.1.0,>=3.0.2 in /opt/conda/lib/python3.7/site-packages (from spacy<4->fastai==2.7.9) (3.0.8)\r\n",
      "Requirement already satisfied: cymem<2.1.0,>=2.0.2 in /opt/conda/lib/python3.7/site-packages (from spacy<4->fastai==2.7.9) (2.0.7)\r\n",
      "Requirement already satisfied: setuptools in /opt/conda/lib/python3.7/site-packages (from spacy<4->fastai==2.7.9) (59.8.0)\r\n",
      "Requirement already satisfied: srsly<3.0.0,>=2.4.3 in /opt/conda/lib/python3.7/site-packages (from spacy<4->fastai==2.7.9) (2.4.5)\r\n",
      "Requirement already satisfied: langcodes<4.0.0,>=3.2.0 in /opt/conda/lib/python3.7/site-packages (from spacy<4->fastai==2.7.9) (3.3.0)\r\n",
      "Requirement already satisfied: charset-normalizer<4,>=2 in /opt/conda/lib/python3.7/site-packages (from requests->fastai==2.7.9) (2.1.1)\r\n",
      "Requirement already satisfied: certifi>=2017.4.17 in /opt/conda/lib/python3.7/site-packages (from requests->fastai==2.7.9) (2022.12.7)\r\n",
      "Requirement already satisfied: idna<4,>=2.5 in /opt/conda/lib/python3.7/site-packages (from requests->fastai==2.7.9) (3.4)\r\n",
      "Requirement already satisfied: urllib3<1.27,>=1.21.1 in /opt/conda/lib/python3.7/site-packages (from requests->fastai==2.7.9) (1.26.14)\r\n",
      "Requirement already satisfied: pyparsing>=2.2.1 in /opt/conda/lib/python3.7/site-packages (from matplotlib->fastai==2.7.9) (3.0.9)\r\n",
      "Requirement already satisfied: kiwisolver>=1.0.1 in /opt/conda/lib/python3.7/site-packages (from matplotlib->fastai==2.7.9) (1.4.4)\r\n",
      "Requirement already satisfied: fonttools>=4.22.0 in /opt/conda/lib/python3.7/site-packages (from matplotlib->fastai==2.7.9) (4.38.0)\r\n",
      "Requirement already satisfied: cycler>=0.10 in /opt/conda/lib/python3.7/site-packages (from matplotlib->fastai==2.7.9) (0.11.0)\r\n",
      "Requirement already satisfied: python-dateutil>=2.7 in /opt/conda/lib/python3.7/site-packages (from matplotlib->fastai==2.7.9) (2.8.2)\r\n",
      "Requirement already satisfied: pytz>=2017.3 in /opt/conda/lib/python3.7/site-packages (from pandas->fastai==2.7.9) (2022.7.1)\r\n",
      "Requirement already satisfied: threadpoolctl>=2.0.0 in /opt/conda/lib/python3.7/site-packages (from scikit-learn->fastai==2.7.9) (3.1.0)\r\n",
      "Requirement already satisfied: joblib>=0.11 in /opt/conda/lib/python3.7/site-packages (from scikit-learn->fastai==2.7.9) (1.2.0)\r\n",
      "Requirement already satisfied: zipp>=0.5 in /opt/conda/lib/python3.7/site-packages (from catalogue<2.1.0,>=2.0.6->spacy<4->fastai==2.7.9) (3.11.0)\r\n",
      "Requirement already satisfied: six>=1.5 in /opt/conda/lib/python3.7/site-packages (from python-dateutil>=2.7->matplotlib->fastai==2.7.9) (1.16.0)\r\n",
      "Requirement already satisfied: blis<0.8.0,>=0.7.8 in /opt/conda/lib/python3.7/site-packages (from thinc<8.2.0,>=8.1.0->spacy<4->fastai==2.7.9) (0.7.9)\r\n",
      "Requirement already satisfied: confection<1.0.0,>=0.0.1 in /opt/conda/lib/python3.7/site-packages (from thinc<8.2.0,>=8.1.0->spacy<4->fastai==2.7.9) (0.0.4)\r\n",
      "Requirement already satisfied: click<9.0.0,>=7.1.1 in /opt/conda/lib/python3.7/site-packages (from typer<0.8.0,>=0.3.0->spacy<4->fastai==2.7.9) (8.1.3)\r\n",
      "Requirement already satisfied: MarkupSafe>=2.0 in /opt/conda/lib/python3.7/site-packages (from jinja2->spacy<4->fastai==2.7.9) (2.1.1)\r\n",
      "Requirement already satisfied: importlib-metadata in /opt/conda/lib/python3.7/site-packages (from click<9.0.0,>=7.1.1->typer<0.8.0,>=0.3.0->spacy<4->fastai==2.7.9) (4.11.4)\r\n",
      "Installing collected packages: fastai\r\n",
      "  Attempting uninstall: fastai\r\n",
      "    Found existing installation: fastai 2.7.11\r\n",
      "    Uninstalling fastai-2.7.11:\r\n",
      "      Successfully uninstalled fastai-2.7.11\r\n",
      "Successfully installed fastai-2.7.9\r\n",
      "\u001b[33mWARNING: Running pip as the 'root' user can result in broken permissions and conflicting behaviour with the system package manager. It is recommended to use a virtual environment instead: https://pip.pypa.io/warnings/venv\u001b[0m\u001b[33m\r\n",
      "\u001b[0mCollecting fastkaggle==0.0.7\r\n",
      "  Downloading fastkaggle-0.0.7-py3-none-any.whl (11 kB)\r\n",
      "Requirement already satisfied: fastcore>=1.4.5 in /opt/conda/lib/python3.7/site-packages (from fastkaggle==0.0.7) (1.5.28)\r\n",
      "Requirement already satisfied: kaggle in /opt/conda/lib/python3.7/site-packages (from fastkaggle==0.0.7) (1.5.12)\r\n",
      "Requirement already satisfied: packaging in /opt/conda/lib/python3.7/site-packages (from fastcore>=1.4.5->fastkaggle==0.0.7) (23.0)\r\n",
      "Requirement already satisfied: pip in /opt/conda/lib/python3.7/site-packages (from fastcore>=1.4.5->fastkaggle==0.0.7) (22.3.1)\r\n",
      "Requirement already satisfied: urllib3 in /opt/conda/lib/python3.7/site-packages (from kaggle->fastkaggle==0.0.7) (1.26.14)\r\n",
      "Requirement already satisfied: requests in /opt/conda/lib/python3.7/site-packages (from kaggle->fastkaggle==0.0.7) (2.28.2)\r\n",
      "Requirement already satisfied: tqdm in /opt/conda/lib/python3.7/site-packages (from kaggle->fastkaggle==0.0.7) (4.64.1)\r\n",
      "Requirement already satisfied: python-dateutil in /opt/conda/lib/python3.7/site-packages (from kaggle->fastkaggle==0.0.7) (2.8.2)\r\n",
      "Requirement already satisfied: six>=1.10 in /opt/conda/lib/python3.7/site-packages (from kaggle->fastkaggle==0.0.7) (1.16.0)\r\n",
      "Requirement already satisfied: python-slugify in /opt/conda/lib/python3.7/site-packages (from kaggle->fastkaggle==0.0.7) (8.0.0)\r\n",
      "Requirement already satisfied: certifi in /opt/conda/lib/python3.7/site-packages (from kaggle->fastkaggle==0.0.7) (2022.12.7)\r\n",
      "Requirement already satisfied: text-unidecode>=1.3 in /opt/conda/lib/python3.7/site-packages (from python-slugify->kaggle->fastkaggle==0.0.7) (1.3)\r\n",
      "Requirement already satisfied: idna<4,>=2.5 in /opt/conda/lib/python3.7/site-packages (from requests->kaggle->fastkaggle==0.0.7) (3.4)\r\n",
      "Requirement already satisfied: charset-normalizer<4,>=2 in /opt/conda/lib/python3.7/site-packages (from requests->kaggle->fastkaggle==0.0.7) (2.1.1)\r\n",
      "Installing collected packages: fastkaggle\r\n",
      "Successfully installed fastkaggle-0.0.7\r\n",
      "\u001b[33mWARNING: Running pip as the 'root' user can result in broken permissions and conflicting behaviour with the system package manager. It is recommended to use a virtual environment instead: https://pip.pypa.io/warnings/venv\u001b[0m\u001b[33m\r\n",
      "\u001b[0mCollecting fasterai==0.1.11\r\n",
      "  Downloading fasterai-0.1.11-py3-none-any.whl (23 kB)\r\n",
      "Requirement already satisfied: fastai>=2.2 in /opt/conda/lib/python3.7/site-packages (from fasterai==0.1.11) (2.7.9)\r\n",
      "Requirement already satisfied: pillow>6.0.0 in /opt/conda/lib/python3.7/site-packages (from fastai>=2.2->fasterai==0.1.11) (9.4.0)\r\n",
      "Requirement already satisfied: pip in /opt/conda/lib/python3.7/site-packages (from fastai>=2.2->fasterai==0.1.11) (22.3.1)\r\n",
      "Requirement already satisfied: matplotlib in /opt/conda/lib/python3.7/site-packages (from fastai>=2.2->fasterai==0.1.11) (3.5.3)\r\n",
      "Requirement already satisfied: fastdownload<2,>=0.0.5 in /opt/conda/lib/python3.7/site-packages (from fastai>=2.2->fasterai==0.1.11) (0.0.7)\r\n",
      "Requirement already satisfied: fastprogress>=0.2.4 in /opt/conda/lib/python3.7/site-packages (from fastai>=2.2->fasterai==0.1.11) (1.0.3)\r\n",
      "Requirement already satisfied: spacy<4 in /opt/conda/lib/python3.7/site-packages (from fastai>=2.2->fasterai==0.1.11) (3.5.0)\r\n",
      "Requirement already satisfied: torchvision>=0.8.2 in /opt/conda/lib/python3.7/site-packages (from fastai>=2.2->fasterai==0.1.11) (0.14.0)\r\n",
      "Requirement already satisfied: scipy in /opt/conda/lib/python3.7/site-packages (from fastai>=2.2->fasterai==0.1.11) (1.7.3)\r\n",
      "Requirement already satisfied: pandas in /opt/conda/lib/python3.7/site-packages (from fastai>=2.2->fasterai==0.1.11) (1.3.5)\r\n",
      "Requirement already satisfied: fastcore<1.6,>=1.4.5 in /opt/conda/lib/python3.7/site-packages (from fastai>=2.2->fasterai==0.1.11) (1.5.28)\r\n",
      "Requirement already satisfied: pyyaml in /opt/conda/lib/python3.7/site-packages (from fastai>=2.2->fasterai==0.1.11) (6.0)\r\n",
      "Requirement already satisfied: torch<1.14,>=1.7 in /opt/conda/lib/python3.7/site-packages (from fastai>=2.2->fasterai==0.1.11) (1.13.0)\r\n",
      "Requirement already satisfied: packaging in /opt/conda/lib/python3.7/site-packages (from fastai>=2.2->fasterai==0.1.11) (23.0)\r\n",
      "Requirement already satisfied: requests in /opt/conda/lib/python3.7/site-packages (from fastai>=2.2->fasterai==0.1.11) (2.28.2)\r\n",
      "Requirement already satisfied: scikit-learn in /opt/conda/lib/python3.7/site-packages (from fastai>=2.2->fasterai==0.1.11) (1.0.2)\r\n",
      "Requirement already satisfied: murmurhash<1.1.0,>=0.28.0 in /opt/conda/lib/python3.7/site-packages (from spacy<4->fastai>=2.2->fasterai==0.1.11) (1.0.9)\r\n",
      "Requirement already satisfied: typer<0.8.0,>=0.3.0 in /opt/conda/lib/python3.7/site-packages (from spacy<4->fastai>=2.2->fasterai==0.1.11) (0.7.0)\r\n",
      "Requirement already satisfied: cymem<2.1.0,>=2.0.2 in /opt/conda/lib/python3.7/site-packages (from spacy<4->fastai>=2.2->fasterai==0.1.11) (2.0.7)\r\n",
      "Requirement already satisfied: typing-extensions<4.5.0,>=3.7.4.1 in /opt/conda/lib/python3.7/site-packages (from spacy<4->fastai>=2.2->fasterai==0.1.11) (4.4.0)\r\n",
      "Requirement already satisfied: setuptools in /opt/conda/lib/python3.7/site-packages (from spacy<4->fastai>=2.2->fasterai==0.1.11) (59.8.0)\r\n",
      "Requirement already satisfied: numpy>=1.15.0 in /opt/conda/lib/python3.7/site-packages (from spacy<4->fastai>=2.2->fasterai==0.1.11) (1.21.6)\r\n",
      "Requirement already satisfied: tqdm<5.0.0,>=4.38.0 in /opt/conda/lib/python3.7/site-packages (from spacy<4->fastai>=2.2->fasterai==0.1.11) (4.64.1)\r\n",
      "Requirement already satisfied: jinja2 in /opt/conda/lib/python3.7/site-packages (from spacy<4->fastai>=2.2->fasterai==0.1.11) (3.1.2)\r\n",
      "Requirement already satisfied: spacy-loggers<2.0.0,>=1.0.0 in /opt/conda/lib/python3.7/site-packages (from spacy<4->fastai>=2.2->fasterai==0.1.11) (1.0.4)\r\n",
      "Requirement already satisfied: langcodes<4.0.0,>=3.2.0 in /opt/conda/lib/python3.7/site-packages (from spacy<4->fastai>=2.2->fasterai==0.1.11) (3.3.0)\r\n",
      "Requirement already satisfied: preshed<3.1.0,>=3.0.2 in /opt/conda/lib/python3.7/site-packages (from spacy<4->fastai>=2.2->fasterai==0.1.11) (3.0.8)\r\n",
      "Requirement already satisfied: wasabi<1.2.0,>=0.9.1 in /opt/conda/lib/python3.7/site-packages (from spacy<4->fastai>=2.2->fasterai==0.1.11) (1.1.1)\r\n",
      "Requirement already satisfied: srsly<3.0.0,>=2.4.3 in /opt/conda/lib/python3.7/site-packages (from spacy<4->fastai>=2.2->fasterai==0.1.11) (2.4.5)\r\n",
      "Requirement already satisfied: smart-open<7.0.0,>=5.2.1 in /opt/conda/lib/python3.7/site-packages (from spacy<4->fastai>=2.2->fasterai==0.1.11) (6.3.0)\r\n",
      "Requirement already satisfied: pydantic!=1.8,!=1.8.1,<1.11.0,>=1.7.4 in /opt/conda/lib/python3.7/site-packages (from spacy<4->fastai>=2.2->fasterai==0.1.11) (1.10.4)\r\n",
      "Requirement already satisfied: spacy-legacy<3.1.0,>=3.0.11 in /opt/conda/lib/python3.7/site-packages (from spacy<4->fastai>=2.2->fasterai==0.1.11) (3.0.12)\r\n",
      "Requirement already satisfied: pathy>=0.10.0 in /opt/conda/lib/python3.7/site-packages (from spacy<4->fastai>=2.2->fasterai==0.1.11) (0.10.1)\r\n",
      "Requirement already satisfied: catalogue<2.1.0,>=2.0.6 in /opt/conda/lib/python3.7/site-packages (from spacy<4->fastai>=2.2->fasterai==0.1.11) (2.0.8)\r\n",
      "Requirement already satisfied: thinc<8.2.0,>=8.1.0 in /opt/conda/lib/python3.7/site-packages (from spacy<4->fastai>=2.2->fasterai==0.1.11) (8.1.7)\r\n",
      "Requirement already satisfied: certifi>=2017.4.17 in /opt/conda/lib/python3.7/site-packages (from requests->fastai>=2.2->fasterai==0.1.11) (2022.12.7)\r\n",
      "Requirement already satisfied: idna<4,>=2.5 in /opt/conda/lib/python3.7/site-packages (from requests->fastai>=2.2->fasterai==0.1.11) (3.4)\r\n",
      "Requirement already satisfied: charset-normalizer<4,>=2 in /opt/conda/lib/python3.7/site-packages (from requests->fastai>=2.2->fasterai==0.1.11) (2.1.1)\r\n",
      "Requirement already satisfied: urllib3<1.27,>=1.21.1 in /opt/conda/lib/python3.7/site-packages (from requests->fastai>=2.2->fasterai==0.1.11) (1.26.14)\r\n",
      "Requirement already satisfied: fonttools>=4.22.0 in /opt/conda/lib/python3.7/site-packages (from matplotlib->fastai>=2.2->fasterai==0.1.11) (4.38.0)\r\n",
      "Requirement already satisfied: pyparsing>=2.2.1 in /opt/conda/lib/python3.7/site-packages (from matplotlib->fastai>=2.2->fasterai==0.1.11) (3.0.9)\r\n",
      "Requirement already satisfied: cycler>=0.10 in /opt/conda/lib/python3.7/site-packages (from matplotlib->fastai>=2.2->fasterai==0.1.11) (0.11.0)\r\n",
      "Requirement already satisfied: kiwisolver>=1.0.1 in /opt/conda/lib/python3.7/site-packages (from matplotlib->fastai>=2.2->fasterai==0.1.11) (1.4.4)\r\n",
      "Requirement already satisfied: python-dateutil>=2.7 in /opt/conda/lib/python3.7/site-packages (from matplotlib->fastai>=2.2->fasterai==0.1.11) (2.8.2)\r\n",
      "Requirement already satisfied: pytz>=2017.3 in /opt/conda/lib/python3.7/site-packages (from pandas->fastai>=2.2->fasterai==0.1.11) (2022.7.1)\r\n",
      "Requirement already satisfied: threadpoolctl>=2.0.0 in /opt/conda/lib/python3.7/site-packages (from scikit-learn->fastai>=2.2->fasterai==0.1.11) (3.1.0)\r\n",
      "Requirement already satisfied: joblib>=0.11 in /opt/conda/lib/python3.7/site-packages (from scikit-learn->fastai>=2.2->fasterai==0.1.11) (1.2.0)\r\n",
      "Requirement already satisfied: zipp>=0.5 in /opt/conda/lib/python3.7/site-packages (from catalogue<2.1.0,>=2.0.6->spacy<4->fastai>=2.2->fasterai==0.1.11) (3.11.0)\r\n",
      "Requirement already satisfied: six>=1.5 in /opt/conda/lib/python3.7/site-packages (from python-dateutil>=2.7->matplotlib->fastai>=2.2->fasterai==0.1.11) (1.16.0)\r\n",
      "Requirement already satisfied: confection<1.0.0,>=0.0.1 in /opt/conda/lib/python3.7/site-packages (from thinc<8.2.0,>=8.1.0->spacy<4->fastai>=2.2->fasterai==0.1.11) (0.0.4)\r\n",
      "Requirement already satisfied: blis<0.8.0,>=0.7.8 in /opt/conda/lib/python3.7/site-packages (from thinc<8.2.0,>=8.1.0->spacy<4->fastai>=2.2->fasterai==0.1.11) (0.7.9)\r\n",
      "Requirement already satisfied: click<9.0.0,>=7.1.1 in /opt/conda/lib/python3.7/site-packages (from typer<0.8.0,>=0.3.0->spacy<4->fastai>=2.2->fasterai==0.1.11) (8.1.3)\r\n",
      "Requirement already satisfied: MarkupSafe>=2.0 in /opt/conda/lib/python3.7/site-packages (from jinja2->spacy<4->fastai>=2.2->fasterai==0.1.11) (2.1.1)\r\n",
      "Requirement already satisfied: importlib-metadata in /opt/conda/lib/python3.7/site-packages (from click<9.0.0,>=7.1.1->typer<0.8.0,>=0.3.0->spacy<4->fastai>=2.2->fasterai==0.1.11) (4.11.4)\r\n",
      "Installing collected packages: fasterai\r\n",
      "Successfully installed fasterai-0.1.11\r\n",
      "\u001b[33mWARNING: Running pip as the 'root' user can result in broken permissions and conflicting behaviour with the system package manager. It is recommended to use a virtual environment instead: https://pip.pypa.io/warnings/venv\u001b[0m\u001b[33m\r\n",
      "\u001b[0mCollecting ipython-autotime==0.3.1\r\n",
      "  Downloading ipython_autotime-0.3.1-py2.py3-none-any.whl (6.8 kB)\r\n",
      "Requirement already satisfied: ipython in /opt/conda/lib/python3.7/site-packages (from ipython-autotime==0.3.1) (7.34.0)\r\n",
      "Requirement already satisfied: setuptools>=18.5 in /opt/conda/lib/python3.7/site-packages (from ipython->ipython-autotime==0.3.1) (59.8.0)\r\n",
      "Requirement already satisfied: jedi>=0.16 in /opt/conda/lib/python3.7/site-packages (from ipython->ipython-autotime==0.3.1) (0.18.2)\r\n",
      "Requirement already satisfied: pexpect>4.3 in /opt/conda/lib/python3.7/site-packages (from ipython->ipython-autotime==0.3.1) (4.8.0)\r\n",
      "Requirement already satisfied: pygments in /opt/conda/lib/python3.7/site-packages (from ipython->ipython-autotime==0.3.1) (2.14.0)\r\n",
      "Requirement already satisfied: matplotlib-inline in /opt/conda/lib/python3.7/site-packages (from ipython->ipython-autotime==0.3.1) (0.1.6)\r\n",
      "Requirement already satisfied: traitlets>=4.2 in /opt/conda/lib/python3.7/site-packages (from ipython->ipython-autotime==0.3.1) (5.8.1)\r\n",
      "Requirement already satisfied: decorator in /opt/conda/lib/python3.7/site-packages (from ipython->ipython-autotime==0.3.1) (5.1.1)\r\n",
      "Requirement already satisfied: prompt-toolkit!=3.0.0,!=3.0.1,<3.1.0,>=2.0.0 in /opt/conda/lib/python3.7/site-packages (from ipython->ipython-autotime==0.3.1) (3.0.36)\r\n",
      "Requirement already satisfied: backcall in /opt/conda/lib/python3.7/site-packages (from ipython->ipython-autotime==0.3.1) (0.2.0)\r\n",
      "Requirement already satisfied: pickleshare in /opt/conda/lib/python3.7/site-packages (from ipython->ipython-autotime==0.3.1) (0.7.5)\r\n",
      "Requirement already satisfied: parso<0.9.0,>=0.8.0 in /opt/conda/lib/python3.7/site-packages (from jedi>=0.16->ipython->ipython-autotime==0.3.1) (0.8.3)\r\n",
      "Requirement already satisfied: ptyprocess>=0.5 in /opt/conda/lib/python3.7/site-packages (from pexpect>4.3->ipython->ipython-autotime==0.3.1) (0.7.0)\r\n",
      "Requirement already satisfied: wcwidth in /opt/conda/lib/python3.7/site-packages (from prompt-toolkit!=3.0.0,!=3.0.1,<3.1.0,>=2.0.0->ipython->ipython-autotime==0.3.1) (0.2.6)\r\n",
      "Installing collected packages: ipython-autotime\r\n",
      "Successfully installed ipython-autotime-0.3.1\r\n",
      "\u001b[33mWARNING: Running pip as the 'root' user can result in broken permissions and conflicting behaviour with the system package manager. It is recommended to use a virtual environment instead: https://pip.pypa.io/warnings/venv\u001b[0m\u001b[33m\r\n",
      "\u001b[0mCollecting torch==1.12.1\r\n",
      "  Downloading torch-1.12.1-cp37-cp37m-manylinux1_x86_64.whl (776.3 MB)\r\n",
      "\u001b[2K     \u001b[90m━━━━━━━━━━━━━━━━━━━━━━━━━━━━━━━━━━━━━━━\u001b[0m \u001b[32m776.3/776.3 MB\u001b[0m \u001b[31m1.1 MB/s\u001b[0m eta \u001b[36m0:00:00\u001b[0m\r\n",
      "\u001b[?25hRequirement already satisfied: typing-extensions in /opt/conda/lib/python3.7/site-packages (from torch==1.12.1) (4.4.0)\r\n",
      "Installing collected packages: torch\r\n",
      "  Attempting uninstall: torch\r\n",
      "    Found existing installation: torch 1.13.0\r\n",
      "    Uninstalling torch-1.13.0:\r\n",
      "      Successfully uninstalled torch-1.13.0\r\n",
      "Successfully installed torch-1.12.1\r\n",
      "\u001b[33mWARNING: Running pip as the 'root' user can result in broken permissions and conflicting behaviour with the system package manager. It is recommended to use a virtual environment instead: https://pip.pypa.io/warnings/venv\u001b[0m\u001b[33m\r\n",
      "\u001b[0mtime: 506 µs (started: 2023-05-28 05:03:12 +00:00)\n"
     ]
    }
   ],
   "source": [
    "!pip install fastai==2.7.9\n",
    "!pip install fastkaggle==0.0.7\n",
    "!pip install fasterai==0.1.11\n",
    "!pip install ipython-autotime==0.3.1\n",
    "!pip install torch==1.12.1\n",
    "%load_ext autotime"
   ]
  },
  {
   "cell_type": "code",
   "execution_count": 2,
   "id": "0ca403e4",
   "metadata": {
    "execution": {
     "iopub.execute_input": "2023-05-28T05:03:12.527889Z",
     "iopub.status.busy": "2023-05-28T05:03:12.527504Z",
     "iopub.status.idle": "2023-05-28T05:03:17.844416Z",
     "shell.execute_reply": "2023-05-28T05:03:17.842656Z"
    },
    "papermill": {
     "duration": 5.350658,
     "end_time": "2023-05-28T05:03:17.846876",
     "exception": false,
     "start_time": "2023-05-28T05:03:12.496218",
     "status": "completed"
    },
    "tags": []
   },
   "outputs": [
    {
     "name": "stderr",
     "output_type": "stream",
     "text": [
      "/opt/conda/lib/python3.7/site-packages/torchvision/io/image.py:13: UserWarning: Failed to load image Python extension: /opt/conda/lib/python3.7/site-packages/torchvision/image.so: undefined symbol: _ZN3c104impl8GPUTrace13gpuTraceStateE\n",
      "  warn(f\"Failed to load image Python extension: {e}\")\n"
     ]
    },
    {
     "name": "stdout",
     "output_type": "stream",
     "text": [
      "time: 5.31 s (started: 2023-05-28 05:03:12 +00:00)\n"
     ]
    }
   ],
   "source": [
    "from fastai.vision.all import *\n",
    "from fastai.callback.all import *\n",
    "from fastai.data.all import *\n",
    "from fastai.imports import *\n",
    "from fastai.torch_core import *\n",
    "from fastai.learner import *\n",
    "from fastai.fp16_utils import *\n",
    "from fastai.callback.fp16 import *\n",
    "import fastai.optimizer as optim\n",
    "\n",
    "\n",
    "from fasterai.sparse.all import *\n",
    "from fasterai.core.criteria import *\n",
    "from fasterai.regularize.all import *\n",
    "\n",
    "from fastkaggle import *\n",
    "\n",
    "import torch\n",
    "import torch.nn as nn\n",
    "import torch.nn.functional as F\n",
    "\n",
    "\n",
    "set_seed(42)"
   ]
  },
  {
   "cell_type": "code",
   "execution_count": 3,
   "id": "91cd6fa8",
   "metadata": {
    "execution": {
     "iopub.execute_input": "2023-05-28T05:03:17.910254Z",
     "iopub.status.busy": "2023-05-28T05:03:17.909943Z",
     "iopub.status.idle": "2023-05-28T05:03:32.683362Z",
     "shell.execute_reply": "2023-05-28T05:03:32.681668Z"
    },
    "papermill": {
     "duration": 14.807984,
     "end_time": "2023-05-28T05:03:32.686055",
     "exception": false,
     "start_time": "2023-05-28T05:03:17.878071",
     "status": "completed"
    },
    "tags": []
   },
   "outputs": [
    {
     "name": "stdout",
     "output_type": "stream",
     "text": [
      "time: 14.8 s (started: 2023-05-28 05:03:17 +00:00)\n"
     ]
    }
   ],
   "source": [
    "comp = 'paddy-diseases/paddy-diseases'\n",
    "\n",
    "path = setup_comp(comp, install='\"fastcore>=1.4.5\" \"fastai>=2.7.1\" \"timm>=0.6.2.dev0\"')"
   ]
  },
  {
   "cell_type": "code",
   "execution_count": 4,
   "id": "c83a63c3",
   "metadata": {
    "execution": {
     "iopub.execute_input": "2023-05-28T05:03:32.749855Z",
     "iopub.status.busy": "2023-05-28T05:03:32.749427Z",
     "iopub.status.idle": "2023-05-28T05:03:41.030431Z",
     "shell.execute_reply": "2023-05-28T05:03:41.029183Z"
    },
    "papermill": {
     "duration": 8.315731,
     "end_time": "2023-05-28T05:03:41.032952",
     "exception": false,
     "start_time": "2023-05-28T05:03:32.717221",
     "status": "completed"
    },
    "tags": []
   },
   "outputs": [
    {
     "name": "stdout",
     "output_type": "stream",
     "text": [
      "time: 8.27 s (started: 2023-05-28 05:03:32 +00:00)\n"
     ]
    }
   ],
   "source": [
    "dls = ImageDataLoaders.from_folder(path/\"train\", \n",
    "                                   valid_pct=0.25, \n",
    "                                   item_tfms=Resize(256), \n",
    "                                   batch_tfms=\n",
    "                                   aug_transforms(   size=64, \n",
    "                                                                min_scale=0.75,\n",
    "                                                                max_rotate=10., \n",
    "                                                                min_zoom=0.8, \n",
    "                                                                max_zoom=1.2, \n",
    "                                                            \n",
    "                                                            ),\n",
    "                                   bs=32//2)"
   ]
  },
  {
   "cell_type": "code",
   "execution_count": 5,
   "id": "5e9a769a",
   "metadata": {
    "execution": {
     "iopub.execute_input": "2023-05-28T05:03:41.098422Z",
     "iopub.status.busy": "2023-05-28T05:03:41.097454Z",
     "iopub.status.idle": "2023-05-28T05:03:43.409436Z",
     "shell.execute_reply": "2023-05-28T05:03:43.408298Z"
    },
    "papermill": {
     "duration": 2.348581,
     "end_time": "2023-05-28T05:03:43.412236",
     "exception": false,
     "start_time": "2023-05-28T05:03:41.063655",
     "status": "completed"
    },
    "tags": []
   },
   "outputs": [
    {
     "name": "stdout",
     "output_type": "stream",
     "text": [
      "time: 2.3 s (started: 2023-05-28 05:03:41 +00:00)\n"
     ]
    }
   ],
   "source": [
    "model = vgg16_bn().cuda()"
   ]
  },
  {
   "cell_type": "code",
   "execution_count": 6,
   "id": "106b04fa",
   "metadata": {
    "execution": {
     "iopub.execute_input": "2023-05-28T05:03:43.475974Z",
     "iopub.status.busy": "2023-05-28T05:03:43.475560Z",
     "iopub.status.idle": "2023-05-28T05:03:43.481572Z",
     "shell.execute_reply": "2023-05-28T05:03:43.480344Z"
    },
    "papermill": {
     "duration": 0.040386,
     "end_time": "2023-05-28T05:03:43.484149",
     "exception": false,
     "start_time": "2023-05-28T05:03:43.443763",
     "status": "completed"
    },
    "tags": []
   },
   "outputs": [
    {
     "name": "stdout",
     "output_type": "stream",
     "text": [
      "time: 582 µs (started: 2023-05-28 05:03:43 +00:00)\n"
     ]
    }
   ],
   "source": [
    "cbs = [     \n",
    "        GradientAccumulation(32), \n",
    "#         SparsifyCallback(sparsity=25, \n",
    "#                          granularity='filter', \n",
    "#                          context='local', \n",
    "#                          criteria=large_final, \n",
    "#                          schedule=one_cycle),\n",
    "        ]"
   ]
  },
  {
   "cell_type": "code",
   "execution_count": 7,
   "id": "cd238f10",
   "metadata": {
    "execution": {
     "iopub.execute_input": "2023-05-28T05:03:43.547070Z",
     "iopub.status.busy": "2023-05-28T05:03:43.546137Z",
     "iopub.status.idle": "2023-05-28T05:03:43.554373Z",
     "shell.execute_reply": "2023-05-28T05:03:43.553329Z"
    },
    "papermill": {
     "duration": 0.04251,
     "end_time": "2023-05-28T05:03:43.557208",
     "exception": false,
     "start_time": "2023-05-28T05:03:43.514698",
     "status": "completed"
    },
    "tags": []
   },
   "outputs": [
    {
     "name": "stdout",
     "output_type": "stream",
     "text": [
      "time: 1.17 ms (started: 2023-05-28 05:03:43 +00:00)\n"
     ]
    }
   ],
   "source": [
    "from fastai.learner import Learner\n",
    "\n",
    "class CustomLearner(Learner):\n",
    "    optimizer_memory_usage = 0\n",
    "    def _step(self):\n",
    "        before_memory = torch.cuda.max_memory_allocated(device=torch.device(\"cuda\"))\n",
    "        super()._step()\n",
    "        after_memory = torch.cuda.max_memory_allocated(device=torch.device(\"cuda\"))\n",
    "      \n",
    "        # calculate the memory usage during the optimizer step\n",
    "        self.optimizer_memory_usage += after_memory - before_memory\n",
    "    \n",
    "        print(f\"Optimizer memory usage: {self.optimizer_memory_usage} Byte\")\n"
   ]
  },
  {
   "cell_type": "code",
   "execution_count": 8,
   "id": "c4c75de7",
   "metadata": {
    "execution": {
     "iopub.execute_input": "2023-05-28T05:03:43.620911Z",
     "iopub.status.busy": "2023-05-28T05:03:43.619942Z",
     "iopub.status.idle": "2023-05-28T05:03:43.634214Z",
     "shell.execute_reply": "2023-05-28T05:03:43.632913Z"
    },
    "papermill": {
     "duration": 0.049103,
     "end_time": "2023-05-28T05:03:43.636939",
     "exception": false,
     "start_time": "2023-05-28T05:03:43.587836",
     "status": "completed"
    },
    "tags": []
   },
   "outputs": [
    {
     "name": "stdout",
     "output_type": "stream",
     "text": [
      "time: 7.27 ms (started: 2023-05-28 05:03:43 +00:00)\n"
     ]
    }
   ],
   "source": [
    "learn = CustomLearner(dls, \n",
    "                model = model, \n",
    "                metrics=[accuracy,\n",
    "                         error_rate,\n",
    "                        ],\n",
    "               ).to_non_native_fp16()\n",
    "learn.unfreeze()\n",
    "learn.recorder.train_metrics = True\n",
    "learn.path = Path(\"/kaggle/working/\")\n",
    "\n"
   ]
  },
  {
   "cell_type": "code",
   "execution_count": 9,
   "id": "b09b1b75",
   "metadata": {
    "execution": {
     "iopub.execute_input": "2023-05-28T05:03:43.700291Z",
     "iopub.status.busy": "2023-05-28T05:03:43.699451Z",
     "iopub.status.idle": "2023-05-28T05:05:24.663715Z",
     "shell.execute_reply": "2023-05-28T05:05:24.662556Z"
    },
    "papermill": {
     "duration": 100.998512,
     "end_time": "2023-05-28T05:05:24.666034",
     "exception": false,
     "start_time": "2023-05-28T05:03:43.667522",
     "status": "completed"
    },
    "tags": []
   },
   "outputs": [
    {
     "data": {
      "text/html": [
       "\n",
       "<style>\n",
       "    /* Turns off some styling */\n",
       "    progress {\n",
       "        /* gets rid of default border in Firefox and Opera. */\n",
       "        border: none;\n",
       "        /* Needs to be in here for Safari polyfill so background images work as expected. */\n",
       "        background-size: auto;\n",
       "    }\n",
       "    progress:not([value]), progress:not([value])::-webkit-progress-bar {\n",
       "        background: repeating-linear-gradient(45deg, #7e7e7e, #7e7e7e 10px, #5c5c5c 10px, #5c5c5c 20px);\n",
       "    }\n",
       "    .progress-bar-interrupted, .progress-bar-interrupted::-webkit-progress-bar {\n",
       "        background: #F44336;\n",
       "    }\n",
       "</style>\n"
      ],
      "text/plain": [
       "<IPython.core.display.HTML object>"
      ]
     },
     "metadata": {},
     "output_type": "display_data"
    },
    {
     "data": {
      "text/html": [
       "<table border=\"1\" class=\"dataframe\">\n",
       "  <thead>\n",
       "    <tr style=\"text-align: left;\">\n",
       "      <th>epoch</th>\n",
       "      <th>train_loss</th>\n",
       "      <th>train_accuracy</th>\n",
       "      <th>train_error_rate</th>\n",
       "      <th>valid_loss</th>\n",
       "      <th>valid_accuracy</th>\n",
       "      <th>valid_error_rate</th>\n",
       "      <th>time</th>\n",
       "    </tr>\n",
       "  </thead>\n",
       "  <tbody>\n",
       "    <tr>\n",
       "      <td>0</td>\n",
       "      <td>2.326760</td>\n",
       "      <td>0.185577</td>\n",
       "      <td>0.814423</td>\n",
       "      <td>1.981570</td>\n",
       "      <td>0.339904</td>\n",
       "      <td>0.660096</td>\n",
       "      <td>01:40</td>\n",
       "    </tr>\n",
       "  </tbody>\n",
       "</table>"
      ],
      "text/plain": [
       "<IPython.core.display.HTML object>"
      ]
     },
     "metadata": {},
     "output_type": "display_data"
    },
    {
     "name": "stdout",
     "output_type": "stream",
     "text": [
      "Optimizer memory usage: 1764446208 Byte\n",
      "Optimizer memory usage: 1931505664 Byte\n",
      "Optimizer memory usage: 1931505664 Byte\n",
      "Optimizer memory usage: 1931505664 Byte\n",
      "Optimizer memory usage: 1931505664 Byte\n",
      "Optimizer memory usage: 1931505664 Byte\n",
      "Optimizer memory usage: 1931505664 Byte\n",
      "Optimizer memory usage: 1931505664 Byte\n",
      "Optimizer memory usage: 1931505664 Byte\n",
      "Optimizer memory usage: 1931505664 Byte\n",
      "Optimizer memory usage: 1931505664 Byte\n",
      "Optimizer memory usage: 1931505664 Byte\n",
      "Optimizer memory usage: 1931505664 Byte\n",
      "Optimizer memory usage: 1931505664 Byte\n",
      "Optimizer memory usage: 1931505664 Byte\n",
      "Optimizer memory usage: 1931505664 Byte\n",
      "Optimizer memory usage: 1931505664 Byte\n",
      "Optimizer memory usage: 1931505664 Byte\n",
      "Optimizer memory usage: 1931505664 Byte\n",
      "Optimizer memory usage: 1931505664 Byte\n",
      "Optimizer memory usage: 1931505664 Byte\n",
      "Optimizer memory usage: 1931505664 Byte\n",
      "Optimizer memory usage: 1931505664 Byte\n",
      "Optimizer memory usage: 1931505664 Byte\n",
      "Optimizer memory usage: 1931505664 Byte\n",
      "Optimizer memory usage: 1931505664 Byte\n",
      "Optimizer memory usage: 1931505664 Byte\n",
      "Optimizer memory usage: 1931505664 Byte\n",
      "Optimizer memory usage: 1931505664 Byte\n",
      "Optimizer memory usage: 1931505664 Byte\n",
      "Optimizer memory usage: 1931505664 Byte\n",
      "Optimizer memory usage: 1931505664 Byte\n",
      "Optimizer memory usage: 1931505664 Byte\n",
      "Optimizer memory usage: 1931505664 Byte\n",
      "Optimizer memory usage: 1931505664 Byte\n",
      "Optimizer memory usage: 1931505664 Byte\n",
      "Optimizer memory usage: 1931505664 Byte\n",
      "Optimizer memory usage: 1931505664 Byte\n",
      "Optimizer memory usage: 1931505664 Byte\n",
      "Optimizer memory usage: 1931505664 Byte\n",
      "Optimizer memory usage: 1931505664 Byte\n",
      "Optimizer memory usage: 1931505664 Byte\n",
      "Optimizer memory usage: 1931505664 Byte\n",
      "Optimizer memory usage: 1931505664 Byte\n",
      "Optimizer memory usage: 1931505664 Byte\n",
      "Optimizer memory usage: 1931505664 Byte\n",
      "Optimizer memory usage: 1931505664 Byte\n",
      "Optimizer memory usage: 1931505664 Byte\n",
      "Optimizer memory usage: 1931505664 Byte\n",
      "Optimizer memory usage: 1931505664 Byte\n",
      "Optimizer memory usage: 1931505664 Byte\n",
      "Optimizer memory usage: 1931505664 Byte\n",
      "Optimizer memory usage: 1931505664 Byte\n",
      "Optimizer memory usage: 1931505664 Byte\n",
      "Optimizer memory usage: 1931505664 Byte\n",
      "Optimizer memory usage: 1931505664 Byte\n",
      "Optimizer memory usage: 1931505664 Byte\n",
      "Optimizer memory usage: 1931505664 Byte\n",
      "Optimizer memory usage: 1931505664 Byte\n",
      "Optimizer memory usage: 1931505664 Byte\n",
      "Optimizer memory usage: 1931505664 Byte\n",
      "Optimizer memory usage: 1931505664 Byte\n",
      "Optimizer memory usage: 1931505664 Byte\n",
      "Optimizer memory usage: 1931505664 Byte\n",
      "Optimizer memory usage: 1931505664 Byte\n",
      "Optimizer memory usage: 1931505664 Byte\n",
      "Optimizer memory usage: 1931505664 Byte\n",
      "Optimizer memory usage: 1931505664 Byte\n",
      "Optimizer memory usage: 1931505664 Byte\n",
      "Optimizer memory usage: 1931505664 Byte\n",
      "Optimizer memory usage: 1931505664 Byte\n",
      "Optimizer memory usage: 1931505664 Byte\n",
      "Optimizer memory usage: 1931505664 Byte\n",
      "Optimizer memory usage: 1931505664 Byte\n",
      "Optimizer memory usage: 1931505664 Byte\n",
      "Optimizer memory usage: 1931505664 Byte\n",
      "Optimizer memory usage: 1931505664 Byte\n",
      "Optimizer memory usage: 1931505664 Byte\n",
      "Optimizer memory usage: 1931505664 Byte\n",
      "Optimizer memory usage: 1931505664 Byte\n",
      "Optimizer memory usage: 1931505664 Byte\n",
      "Optimizer memory usage: 1931505664 Byte\n",
      "Optimizer memory usage: 1931505664 Byte\n",
      "Optimizer memory usage: 1931505664 Byte\n",
      "Optimizer memory usage: 1931505664 Byte\n",
      "Optimizer memory usage: 1931505664 Byte\n",
      "Optimizer memory usage: 1931505664 Byte\n",
      "Optimizer memory usage: 1931505664 Byte\n",
      "Optimizer memory usage: 1931505664 Byte\n",
      "Optimizer memory usage: 1931505664 Byte\n",
      "Optimizer memory usage: 1931505664 Byte\n",
      "Optimizer memory usage: 1931505664 Byte\n",
      "Optimizer memory usage: 1931505664 Byte\n",
      "Optimizer memory usage: 1931505664 Byte\n",
      "Optimizer memory usage: 1931505664 Byte\n",
      "Optimizer memory usage: 1931505664 Byte\n",
      "Optimizer memory usage: 1931505664 Byte\n",
      "Optimizer memory usage: 1931505664 Byte\n",
      "Optimizer memory usage: 1931505664 Byte\n",
      "Optimizer memory usage: 1931505664 Byte\n",
      "Optimizer memory usage: 1931505664 Byte\n",
      "Optimizer memory usage: 1931505664 Byte\n",
      "Optimizer memory usage: 1931505664 Byte\n",
      "Optimizer memory usage: 1931505664 Byte\n",
      "Optimizer memory usage: 1931505664 Byte\n",
      "Optimizer memory usage: 1931505664 Byte\n",
      "Optimizer memory usage: 1931505664 Byte\n",
      "Optimizer memory usage: 1931505664 Byte\n",
      "Optimizer memory usage: 1931505664 Byte\n",
      "Optimizer memory usage: 1931505664 Byte\n",
      "Optimizer memory usage: 1931505664 Byte\n",
      "Optimizer memory usage: 1931505664 Byte\n",
      "Optimizer memory usage: 1931505664 Byte\n",
      "Optimizer memory usage: 1931505664 Byte\n",
      "Optimizer memory usage: 1931505664 Byte\n",
      "Optimizer memory usage: 1931505664 Byte\n",
      "Optimizer memory usage: 1931505664 Byte\n",
      "Optimizer memory usage: 1931505664 Byte\n",
      "Optimizer memory usage: 1931505664 Byte\n",
      "Optimizer memory usage: 1931505664 Byte\n",
      "Optimizer memory usage: 1931505664 Byte\n",
      "Optimizer memory usage: 1931505664 Byte\n",
      "Optimizer memory usage: 1931505664 Byte\n",
      "Optimizer memory usage: 1931505664 Byte\n",
      "Optimizer memory usage: 1931505664 Byte\n",
      "Optimizer memory usage: 1931505664 Byte\n",
      "Optimizer memory usage: 1931505664 Byte\n",
      "Optimizer memory usage: 1931505664 Byte\n",
      "Optimizer memory usage: 1931505664 Byte\n",
      "Optimizer memory usage: 1931505664 Byte\n",
      "Optimizer memory usage: 1931505664 Byte\n",
      "Optimizer memory usage: 1931505664 Byte\n",
      "Optimizer memory usage: 1931505664 Byte\n",
      "Optimizer memory usage: 1931505664 Byte\n",
      "Optimizer memory usage: 1931505664 Byte\n",
      "Optimizer memory usage: 1931505664 Byte\n",
      "Optimizer memory usage: 1931505664 Byte\n",
      "Optimizer memory usage: 1931505664 Byte\n",
      "Optimizer memory usage: 1931505664 Byte\n",
      "Optimizer memory usage: 1931505664 Byte\n",
      "Optimizer memory usage: 1931505664 Byte\n",
      "Optimizer memory usage: 1931505664 Byte\n",
      "Optimizer memory usage: 1931505664 Byte\n",
      "Optimizer memory usage: 1931505664 Byte\n",
      "Optimizer memory usage: 1931505664 Byte\n",
      "Optimizer memory usage: 1931505664 Byte\n",
      "Optimizer memory usage: 1931505664 Byte\n",
      "Optimizer memory usage: 1931505664 Byte\n",
      "Optimizer memory usage: 1931505664 Byte\n",
      "Optimizer memory usage: 1931505664 Byte\n",
      "Optimizer memory usage: 1931505664 Byte\n",
      "Optimizer memory usage: 1931505664 Byte\n",
      "Optimizer memory usage: 1931505664 Byte\n",
      "Optimizer memory usage: 1931505664 Byte\n",
      "Optimizer memory usage: 1931505664 Byte\n",
      "Optimizer memory usage: 1931505664 Byte\n",
      "Optimizer memory usage: 1931505664 Byte\n",
      "Optimizer memory usage: 1931505664 Byte\n",
      "Optimizer memory usage: 1931505664 Byte\n",
      "Optimizer memory usage: 1931505664 Byte\n",
      "Optimizer memory usage: 1931505664 Byte\n",
      "Optimizer memory usage: 1931505664 Byte\n",
      "Optimizer memory usage: 1931505664 Byte\n",
      "Optimizer memory usage: 1931505664 Byte\n",
      "Optimizer memory usage: 1931505664 Byte\n",
      "Optimizer memory usage: 1931505664 Byte\n",
      "Optimizer memory usage: 1931505664 Byte\n",
      "Optimizer memory usage: 1931505664 Byte\n",
      "Optimizer memory usage: 1931505664 Byte\n",
      "Optimizer memory usage: 1931505664 Byte\n",
      "Optimizer memory usage: 1931505664 Byte\n",
      "Optimizer memory usage: 1931505664 Byte\n",
      "Optimizer memory usage: 1931505664 Byte\n",
      "Optimizer memory usage: 1931505664 Byte\n",
      "Optimizer memory usage: 1931505664 Byte\n",
      "Optimizer memory usage: 1931505664 Byte\n",
      "Optimizer memory usage: 1931505664 Byte\n",
      "Optimizer memory usage: 1931505664 Byte\n",
      "Optimizer memory usage: 1931505664 Byte\n",
      "Optimizer memory usage: 1931505664 Byte\n",
      "Optimizer memory usage: 1931505664 Byte\n",
      "Optimizer memory usage: 1931505664 Byte\n",
      "Optimizer memory usage: 1931505664 Byte\n",
      "Optimizer memory usage: 1931505664 Byte\n",
      "Optimizer memory usage: 1931505664 Byte\n",
      "time: 1min 40s (started: 2023-05-28 05:03:43 +00:00)\n"
     ]
    }
   ],
   "source": [
    "learn.fit_one_cycle(1, 3e-5, cbs=cbs)"
   ]
  }
 ],
 "metadata": {
  "kernelspec": {
   "display_name": "Python 3",
   "language": "python",
   "name": "python3"
  },
  "language_info": {
   "codemirror_mode": {
    "name": "ipython",
    "version": 3
   },
   "file_extension": ".py",
   "mimetype": "text/x-python",
   "name": "python",
   "nbconvert_exporter": "python",
   "pygments_lexer": "ipython3",
   "version": "3.7.12"
  },
  "papermill": {
   "default_parameters": {},
   "duration": 291.953939,
   "end_time": "2023-05-28T05:05:26.138969",
   "environment_variables": {},
   "exception": null,
   "input_path": "__notebook__.ipynb",
   "output_path": "__notebook__.ipynb",
   "parameters": {},
   "start_time": "2023-05-28T05:00:34.185030",
   "version": "2.4.0"
  }
 },
 "nbformat": 4,
 "nbformat_minor": 5
}
