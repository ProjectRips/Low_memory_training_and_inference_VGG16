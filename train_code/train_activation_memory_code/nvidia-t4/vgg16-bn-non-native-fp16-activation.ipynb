{
 "cells": [
  {
   "cell_type": "code",
   "execution_count": 1,
   "id": "b188fa26",
   "metadata": {
    "execution": {
     "iopub.execute_input": "2023-05-28T08:39:57.937658Z",
     "iopub.status.busy": "2023-05-28T08:39:57.937282Z",
     "iopub.status.idle": "2023-05-28T08:44:09.932652Z",
     "shell.execute_reply": "2023-05-28T08:44:09.931436Z"
    },
    "papermill": {
     "duration": 252.00488,
     "end_time": "2023-05-28T08:44:09.935501",
     "exception": false,
     "start_time": "2023-05-28T08:39:57.930621",
     "status": "completed"
    },
    "tags": []
   },
   "outputs": [
    {
     "name": "stdout",
     "output_type": "stream",
     "text": [
      "Collecting fastai==2.7.9\r\n",
      "  Downloading fastai-2.7.9-py3-none-any.whl (225 kB)\r\n",
      "\u001b[2K     \u001b[90m━━━━━━━━━━━━━━━━━━━━━━━━━━━━━━━━━━━━━━━\u001b[0m \u001b[32m225.5/225.5 kB\u001b[0m \u001b[31m5.4 MB/s\u001b[0m eta \u001b[36m0:00:00\u001b[0m\r\n",
      "\u001b[?25hRequirement already satisfied: pip in /opt/conda/lib/python3.10/site-packages (from fastai==2.7.9) (23.1.2)\r\n",
      "Requirement already satisfied: packaging in /opt/conda/lib/python3.10/site-packages (from fastai==2.7.9) (21.3)\r\n",
      "Requirement already satisfied: fastdownload<2,>=0.0.5 in /opt/conda/lib/python3.10/site-packages (from fastai==2.7.9) (0.0.7)\r\n",
      "Requirement already satisfied: fastcore<1.6,>=1.4.5 in /opt/conda/lib/python3.10/site-packages (from fastai==2.7.9) (1.5.29)\r\n",
      "Requirement already satisfied: torchvision>=0.8.2 in /opt/conda/lib/python3.10/site-packages (from fastai==2.7.9) (0.15.1)\r\n",
      "Requirement already satisfied: matplotlib in /opt/conda/lib/python3.10/site-packages (from fastai==2.7.9) (3.6.3)\r\n",
      "Requirement already satisfied: pandas in /opt/conda/lib/python3.10/site-packages (from fastai==2.7.9) (1.5.3)\r\n",
      "Requirement already satisfied: requests in /opt/conda/lib/python3.10/site-packages (from fastai==2.7.9) (2.28.2)\r\n",
      "Requirement already satisfied: pyyaml in /opt/conda/lib/python3.10/site-packages (from fastai==2.7.9) (5.4.1)\r\n",
      "Requirement already satisfied: fastprogress>=0.2.4 in /opt/conda/lib/python3.10/site-packages (from fastai==2.7.9) (1.0.3)\r\n",
      "Requirement already satisfied: pillow>6.0.0 in /opt/conda/lib/python3.10/site-packages (from fastai==2.7.9) (9.5.0)\r\n",
      "Requirement already satisfied: scikit-learn in /opt/conda/lib/python3.10/site-packages (from fastai==2.7.9) (1.2.2)\r\n",
      "Requirement already satisfied: scipy in /opt/conda/lib/python3.10/site-packages (from fastai==2.7.9) (1.10.1)\r\n",
      "Requirement already satisfied: spacy<4 in /opt/conda/lib/python3.10/site-packages (from fastai==2.7.9) (3.5.3)\r\n",
      "Collecting torch<1.14,>=1.7 (from fastai==2.7.9)\r\n",
      "  Downloading torch-1.13.1-cp310-cp310-manylinux1_x86_64.whl (887.5 MB)\r\n",
      "\u001b[2K     \u001b[90m━━━━━━━━━━━━━━━━━━━━━━━━━━━━━━━━━━━━━\u001b[0m \u001b[32m887.5/887.5 MB\u001b[0m \u001b[31m820.4 kB/s\u001b[0m eta \u001b[36m0:00:00\u001b[0m\r\n",
      "\u001b[?25hRequirement already satisfied: spacy-legacy<3.1.0,>=3.0.11 in /opt/conda/lib/python3.10/site-packages (from spacy<4->fastai==2.7.9) (3.0.12)\r\n",
      "Requirement already satisfied: spacy-loggers<2.0.0,>=1.0.0 in /opt/conda/lib/python3.10/site-packages (from spacy<4->fastai==2.7.9) (1.0.4)\r\n",
      "Requirement already satisfied: murmurhash<1.1.0,>=0.28.0 in /opt/conda/lib/python3.10/site-packages (from spacy<4->fastai==2.7.9) (1.0.9)\r\n",
      "Requirement already satisfied: cymem<2.1.0,>=2.0.2 in /opt/conda/lib/python3.10/site-packages (from spacy<4->fastai==2.7.9) (2.0.7)\r\n",
      "Requirement already satisfied: preshed<3.1.0,>=3.0.2 in /opt/conda/lib/python3.10/site-packages (from spacy<4->fastai==2.7.9) (3.0.8)\r\n",
      "Requirement already satisfied: thinc<8.2.0,>=8.1.8 in /opt/conda/lib/python3.10/site-packages (from spacy<4->fastai==2.7.9) (8.1.10)\r\n",
      "Requirement already satisfied: wasabi<1.2.0,>=0.9.1 in /opt/conda/lib/python3.10/site-packages (from spacy<4->fastai==2.7.9) (1.1.1)\r\n",
      "Requirement already satisfied: srsly<3.0.0,>=2.4.3 in /opt/conda/lib/python3.10/site-packages (from spacy<4->fastai==2.7.9) (2.4.6)\r\n",
      "Requirement already satisfied: catalogue<2.1.0,>=2.0.6 in /opt/conda/lib/python3.10/site-packages (from spacy<4->fastai==2.7.9) (2.0.8)\r\n",
      "Requirement already satisfied: typer<0.8.0,>=0.3.0 in /opt/conda/lib/python3.10/site-packages (from spacy<4->fastai==2.7.9) (0.7.0)\r\n",
      "Requirement already satisfied: pathy>=0.10.0 in /opt/conda/lib/python3.10/site-packages (from spacy<4->fastai==2.7.9) (0.10.1)\r\n",
      "Requirement already satisfied: smart-open<7.0.0,>=5.2.1 in /opt/conda/lib/python3.10/site-packages (from spacy<4->fastai==2.7.9) (6.3.0)\r\n",
      "Requirement already satisfied: tqdm<5.0.0,>=4.38.0 in /opt/conda/lib/python3.10/site-packages (from spacy<4->fastai==2.7.9) (4.64.1)\r\n",
      "Requirement already satisfied: numpy>=1.15.0 in /opt/conda/lib/python3.10/site-packages (from spacy<4->fastai==2.7.9) (1.23.5)\r\n",
      "Requirement already satisfied: pydantic!=1.8,!=1.8.1,<1.11.0,>=1.7.4 in /opt/conda/lib/python3.10/site-packages (from spacy<4->fastai==2.7.9) (1.10.7)\r\n",
      "Requirement already satisfied: jinja2 in /opt/conda/lib/python3.10/site-packages (from spacy<4->fastai==2.7.9) (3.1.2)\r\n",
      "Requirement already satisfied: setuptools in /opt/conda/lib/python3.10/site-packages (from spacy<4->fastai==2.7.9) (59.8.0)\r\n",
      "Requirement already satisfied: langcodes<4.0.0,>=3.2.0 in /opt/conda/lib/python3.10/site-packages (from spacy<4->fastai==2.7.9) (3.3.0)\r\n",
      "Requirement already satisfied: pyparsing!=3.0.5,>=2.0.2 in /opt/conda/lib/python3.10/site-packages (from packaging->fastai==2.7.9) (3.0.9)\r\n",
      "Requirement already satisfied: charset-normalizer<4,>=2 in /opt/conda/lib/python3.10/site-packages (from requests->fastai==2.7.9) (2.1.1)\r\n",
      "Requirement already satisfied: idna<4,>=2.5 in /opt/conda/lib/python3.10/site-packages (from requests->fastai==2.7.9) (3.4)\r\n",
      "Requirement already satisfied: urllib3<1.27,>=1.21.1 in /opt/conda/lib/python3.10/site-packages (from requests->fastai==2.7.9) (1.26.15)\r\n",
      "Requirement already satisfied: certifi>=2017.4.17 in /opt/conda/lib/python3.10/site-packages (from requests->fastai==2.7.9) (2023.5.7)\r\n",
      "Requirement already satisfied: typing-extensions in /opt/conda/lib/python3.10/site-packages (from torch<1.14,>=1.7->fastai==2.7.9) (4.5.0)\r\n",
      "Collecting nvidia-cuda-runtime-cu11==11.7.99 (from torch<1.14,>=1.7->fastai==2.7.9)\r\n",
      "  Downloading nvidia_cuda_runtime_cu11-11.7.99-py3-none-manylinux1_x86_64.whl (849 kB)\r\n",
      "\u001b[2K     \u001b[90m━━━━━━━━━━━━━━━━━━━━━━━━━━━━━━━━━━━━━━\u001b[0m \u001b[32m849.3/849.3 kB\u001b[0m \u001b[31m48.0 MB/s\u001b[0m eta \u001b[36m0:00:00\u001b[0m\r\n",
      "\u001b[?25hCollecting nvidia-cudnn-cu11==8.5.0.96 (from torch<1.14,>=1.7->fastai==2.7.9)\r\n",
      "  Downloading nvidia_cudnn_cu11-8.5.0.96-2-py3-none-manylinux1_x86_64.whl (557.1 MB)\r\n",
      "\u001b[2K     \u001b[90m━━━━━━━━━━━━━━━━━━━━━━━━━━━━━━━━━━━━━━━\u001b[0m \u001b[32m557.1/557.1 MB\u001b[0m \u001b[31m1.7 MB/s\u001b[0m eta \u001b[36m0:00:00\u001b[0m\r\n",
      "\u001b[?25hCollecting nvidia-cublas-cu11==11.10.3.66 (from torch<1.14,>=1.7->fastai==2.7.9)\r\n",
      "  Downloading nvidia_cublas_cu11-11.10.3.66-py3-none-manylinux1_x86_64.whl (317.1 MB)\r\n",
      "\u001b[2K     \u001b[90m━━━━━━━━━━━━━━━━━━━━━━━━━━━━━━━━━━━━━━━\u001b[0m \u001b[32m317.1/317.1 MB\u001b[0m \u001b[31m2.0 MB/s\u001b[0m eta \u001b[36m0:00:00\u001b[0m\r\n",
      "\u001b[?25hCollecting nvidia-cuda-nvrtc-cu11==11.7.99 (from torch<1.14,>=1.7->fastai==2.7.9)\r\n",
      "  Downloading nvidia_cuda_nvrtc_cu11-11.7.99-2-py3-none-manylinux1_x86_64.whl (21.0 MB)\r\n",
      "\u001b[2K     \u001b[90m━━━━━━━━━━━━━━━━━━━━━━━━━━━━━━━━━━━━━━━━\u001b[0m \u001b[32m21.0/21.0 MB\u001b[0m \u001b[31m58.7 MB/s\u001b[0m eta \u001b[36m0:00:00\u001b[0m\r\n",
      "\u001b[?25hRequirement already satisfied: wheel in /opt/conda/lib/python3.10/site-packages (from nvidia-cublas-cu11==11.10.3.66->torch<1.14,>=1.7->fastai==2.7.9) (0.40.0)\r\n",
      "Requirement already satisfied: contourpy>=1.0.1 in /opt/conda/lib/python3.10/site-packages (from matplotlib->fastai==2.7.9) (1.0.7)\r\n",
      "Requirement already satisfied: cycler>=0.10 in /opt/conda/lib/python3.10/site-packages (from matplotlib->fastai==2.7.9) (0.11.0)\r\n",
      "Requirement already satisfied: fonttools>=4.22.0 in /opt/conda/lib/python3.10/site-packages (from matplotlib->fastai==2.7.9) (4.39.3)\r\n",
      "Requirement already satisfied: kiwisolver>=1.0.1 in /opt/conda/lib/python3.10/site-packages (from matplotlib->fastai==2.7.9) (1.4.4)\r\n",
      "Requirement already satisfied: python-dateutil>=2.7 in /opt/conda/lib/python3.10/site-packages (from matplotlib->fastai==2.7.9) (2.8.2)\r\n",
      "Requirement already satisfied: pytz>=2020.1 in /opt/conda/lib/python3.10/site-packages (from pandas->fastai==2.7.9) (2023.3)\r\n",
      "Requirement already satisfied: joblib>=1.1.1 in /opt/conda/lib/python3.10/site-packages (from scikit-learn->fastai==2.7.9) (1.2.0)\r\n",
      "Requirement already satisfied: threadpoolctl>=2.0.0 in /opt/conda/lib/python3.10/site-packages (from scikit-learn->fastai==2.7.9) (3.1.0)\r\n",
      "Requirement already satisfied: six>=1.5 in /opt/conda/lib/python3.10/site-packages (from python-dateutil>=2.7->matplotlib->fastai==2.7.9) (1.16.0)\r\n",
      "Requirement already satisfied: blis<0.8.0,>=0.7.8 in /opt/conda/lib/python3.10/site-packages (from thinc<8.2.0,>=8.1.8->spacy<4->fastai==2.7.9) (0.7.9)\r\n",
      "Requirement already satisfied: confection<1.0.0,>=0.0.1 in /opt/conda/lib/python3.10/site-packages (from thinc<8.2.0,>=8.1.8->spacy<4->fastai==2.7.9) (0.0.4)\r\n",
      "Requirement already satisfied: click<9.0.0,>=7.1.1 in /opt/conda/lib/python3.10/site-packages (from typer<0.8.0,>=0.3.0->spacy<4->fastai==2.7.9) (8.1.3)\r\n",
      "Requirement already satisfied: MarkupSafe>=2.0 in /opt/conda/lib/python3.10/site-packages (from jinja2->spacy<4->fastai==2.7.9) (2.1.2)\r\n",
      "Installing collected packages: nvidia-cuda-runtime-cu11, nvidia-cuda-nvrtc-cu11, nvidia-cublas-cu11, nvidia-cudnn-cu11, torch, fastai\r\n",
      "  Attempting uninstall: torch\r\n",
      "    Found existing installation: torch 2.0.0\r\n",
      "    Uninstalling torch-2.0.0:\r\n",
      "      Successfully uninstalled torch-2.0.0\r\n",
      "  Attempting uninstall: fastai\r\n",
      "    Found existing installation: fastai 2.7.12\r\n",
      "    Uninstalling fastai-2.7.12:\r\n",
      "      Successfully uninstalled fastai-2.7.12\r\n",
      "\u001b[31mERROR: pip's dependency resolver does not currently take into account all the packages that are installed. This behaviour is the source of the following dependency conflicts.\r\n",
      "torchdata 0.6.0 requires torch==2.0.0, but you have torch 1.13.1 which is incompatible.\u001b[0m\u001b[31m\r\n",
      "\u001b[0mSuccessfully installed fastai-2.7.9 nvidia-cublas-cu11-11.10.3.66 nvidia-cuda-nvrtc-cu11-11.7.99 nvidia-cuda-runtime-cu11-11.7.99 nvidia-cudnn-cu11-8.5.0.96 torch-1.13.1\r\n",
      "\u001b[33mWARNING: Running pip as the 'root' user can result in broken permissions and conflicting behaviour with the system package manager. It is recommended to use a virtual environment instead: https://pip.pypa.io/warnings/venv\u001b[0m\u001b[33m\r\n",
      "\u001b[0mCollecting fastkaggle==0.0.7\r\n",
      "  Downloading fastkaggle-0.0.7-py3-none-any.whl (11 kB)\r\n",
      "Requirement already satisfied: fastcore>=1.4.5 in /opt/conda/lib/python3.10/site-packages (from fastkaggle==0.0.7) (1.5.29)\r\n",
      "Requirement already satisfied: kaggle in /opt/conda/lib/python3.10/site-packages (from fastkaggle==0.0.7) (1.5.13)\r\n",
      "Requirement already satisfied: pip in /opt/conda/lib/python3.10/site-packages (from fastcore>=1.4.5->fastkaggle==0.0.7) (23.1.2)\r\n",
      "Requirement already satisfied: packaging in /opt/conda/lib/python3.10/site-packages (from fastcore>=1.4.5->fastkaggle==0.0.7) (21.3)\r\n",
      "Requirement already satisfied: six>=1.10 in /opt/conda/lib/python3.10/site-packages (from kaggle->fastkaggle==0.0.7) (1.16.0)\r\n",
      "Requirement already satisfied: certifi in /opt/conda/lib/python3.10/site-packages (from kaggle->fastkaggle==0.0.7) (2023.5.7)\r\n",
      "Requirement already satisfied: python-dateutil in /opt/conda/lib/python3.10/site-packages (from kaggle->fastkaggle==0.0.7) (2.8.2)\r\n",
      "Requirement already satisfied: requests in /opt/conda/lib/python3.10/site-packages (from kaggle->fastkaggle==0.0.7) (2.28.2)\r\n",
      "Requirement already satisfied: tqdm in /opt/conda/lib/python3.10/site-packages (from kaggle->fastkaggle==0.0.7) (4.64.1)\r\n",
      "Requirement already satisfied: python-slugify in /opt/conda/lib/python3.10/site-packages (from kaggle->fastkaggle==0.0.7) (8.0.1)\r\n",
      "Requirement already satisfied: urllib3 in /opt/conda/lib/python3.10/site-packages (from kaggle->fastkaggle==0.0.7) (1.26.15)\r\n",
      "Requirement already satisfied: pyparsing!=3.0.5,>=2.0.2 in /opt/conda/lib/python3.10/site-packages (from packaging->fastcore>=1.4.5->fastkaggle==0.0.7) (3.0.9)\r\n",
      "Requirement already satisfied: text-unidecode>=1.3 in /opt/conda/lib/python3.10/site-packages (from python-slugify->kaggle->fastkaggle==0.0.7) (1.3)\r\n",
      "Requirement already satisfied: charset-normalizer<4,>=2 in /opt/conda/lib/python3.10/site-packages (from requests->kaggle->fastkaggle==0.0.7) (2.1.1)\r\n",
      "Requirement already satisfied: idna<4,>=2.5 in /opt/conda/lib/python3.10/site-packages (from requests->kaggle->fastkaggle==0.0.7) (3.4)\r\n",
      "Installing collected packages: fastkaggle\r\n",
      "Successfully installed fastkaggle-0.0.7\r\n",
      "\u001b[33mWARNING: Running pip as the 'root' user can result in broken permissions and conflicting behaviour with the system package manager. It is recommended to use a virtual environment instead: https://pip.pypa.io/warnings/venv\u001b[0m\u001b[33m\r\n",
      "\u001b[0mCollecting fasterai==0.1.11\r\n",
      "  Downloading fasterai-0.1.11-py3-none-any.whl (23 kB)\r\n",
      "Requirement already satisfied: fastai>=2.2 in /opt/conda/lib/python3.10/site-packages (from fasterai==0.1.11) (2.7.9)\r\n",
      "Requirement already satisfied: pip in /opt/conda/lib/python3.10/site-packages (from fastai>=2.2->fasterai==0.1.11) (23.1.2)\r\n",
      "Requirement already satisfied: packaging in /opt/conda/lib/python3.10/site-packages (from fastai>=2.2->fasterai==0.1.11) (21.3)\r\n",
      "Requirement already satisfied: fastdownload<2,>=0.0.5 in /opt/conda/lib/python3.10/site-packages (from fastai>=2.2->fasterai==0.1.11) (0.0.7)\r\n",
      "Requirement already satisfied: fastcore<1.6,>=1.4.5 in /opt/conda/lib/python3.10/site-packages (from fastai>=2.2->fasterai==0.1.11) (1.5.29)\r\n",
      "Requirement already satisfied: torchvision>=0.8.2 in /opt/conda/lib/python3.10/site-packages (from fastai>=2.2->fasterai==0.1.11) (0.15.1)\r\n",
      "Requirement already satisfied: matplotlib in /opt/conda/lib/python3.10/site-packages (from fastai>=2.2->fasterai==0.1.11) (3.6.3)\r\n",
      "Requirement already satisfied: pandas in /opt/conda/lib/python3.10/site-packages (from fastai>=2.2->fasterai==0.1.11) (1.5.3)\r\n",
      "Requirement already satisfied: requests in /opt/conda/lib/python3.10/site-packages (from fastai>=2.2->fasterai==0.1.11) (2.28.2)\r\n",
      "Requirement already satisfied: pyyaml in /opt/conda/lib/python3.10/site-packages (from fastai>=2.2->fasterai==0.1.11) (5.4.1)\r\n",
      "Requirement already satisfied: fastprogress>=0.2.4 in /opt/conda/lib/python3.10/site-packages (from fastai>=2.2->fasterai==0.1.11) (1.0.3)\r\n",
      "Requirement already satisfied: pillow>6.0.0 in /opt/conda/lib/python3.10/site-packages (from fastai>=2.2->fasterai==0.1.11) (9.5.0)\r\n",
      "Requirement already satisfied: scikit-learn in /opt/conda/lib/python3.10/site-packages (from fastai>=2.2->fasterai==0.1.11) (1.2.2)\r\n",
      "Requirement already satisfied: scipy in /opt/conda/lib/python3.10/site-packages (from fastai>=2.2->fasterai==0.1.11) (1.10.1)\r\n",
      "Requirement already satisfied: spacy<4 in /opt/conda/lib/python3.10/site-packages (from fastai>=2.2->fasterai==0.1.11) (3.5.3)\r\n",
      "Requirement already satisfied: torch<1.14,>=1.7 in /opt/conda/lib/python3.10/site-packages (from fastai>=2.2->fasterai==0.1.11) (1.13.1)\r\n",
      "Requirement already satisfied: spacy-legacy<3.1.0,>=3.0.11 in /opt/conda/lib/python3.10/site-packages (from spacy<4->fastai>=2.2->fasterai==0.1.11) (3.0.12)\r\n",
      "Requirement already satisfied: spacy-loggers<2.0.0,>=1.0.0 in /opt/conda/lib/python3.10/site-packages (from spacy<4->fastai>=2.2->fasterai==0.1.11) (1.0.4)\r\n",
      "Requirement already satisfied: murmurhash<1.1.0,>=0.28.0 in /opt/conda/lib/python3.10/site-packages (from spacy<4->fastai>=2.2->fasterai==0.1.11) (1.0.9)\r\n",
      "Requirement already satisfied: cymem<2.1.0,>=2.0.2 in /opt/conda/lib/python3.10/site-packages (from spacy<4->fastai>=2.2->fasterai==0.1.11) (2.0.7)\r\n",
      "Requirement already satisfied: preshed<3.1.0,>=3.0.2 in /opt/conda/lib/python3.10/site-packages (from spacy<4->fastai>=2.2->fasterai==0.1.11) (3.0.8)\r\n",
      "Requirement already satisfied: thinc<8.2.0,>=8.1.8 in /opt/conda/lib/python3.10/site-packages (from spacy<4->fastai>=2.2->fasterai==0.1.11) (8.1.10)\r\n",
      "Requirement already satisfied: wasabi<1.2.0,>=0.9.1 in /opt/conda/lib/python3.10/site-packages (from spacy<4->fastai>=2.2->fasterai==0.1.11) (1.1.1)\r\n",
      "Requirement already satisfied: srsly<3.0.0,>=2.4.3 in /opt/conda/lib/python3.10/site-packages (from spacy<4->fastai>=2.2->fasterai==0.1.11) (2.4.6)\r\n",
      "Requirement already satisfied: catalogue<2.1.0,>=2.0.6 in /opt/conda/lib/python3.10/site-packages (from spacy<4->fastai>=2.2->fasterai==0.1.11) (2.0.8)\r\n",
      "Requirement already satisfied: typer<0.8.0,>=0.3.0 in /opt/conda/lib/python3.10/site-packages (from spacy<4->fastai>=2.2->fasterai==0.1.11) (0.7.0)\r\n",
      "Requirement already satisfied: pathy>=0.10.0 in /opt/conda/lib/python3.10/site-packages (from spacy<4->fastai>=2.2->fasterai==0.1.11) (0.10.1)\r\n",
      "Requirement already satisfied: smart-open<7.0.0,>=5.2.1 in /opt/conda/lib/python3.10/site-packages (from spacy<4->fastai>=2.2->fasterai==0.1.11) (6.3.0)\r\n",
      "Requirement already satisfied: tqdm<5.0.0,>=4.38.0 in /opt/conda/lib/python3.10/site-packages (from spacy<4->fastai>=2.2->fasterai==0.1.11) (4.64.1)\r\n",
      "Requirement already satisfied: numpy>=1.15.0 in /opt/conda/lib/python3.10/site-packages (from spacy<4->fastai>=2.2->fasterai==0.1.11) (1.23.5)\r\n",
      "Requirement already satisfied: pydantic!=1.8,!=1.8.1,<1.11.0,>=1.7.4 in /opt/conda/lib/python3.10/site-packages (from spacy<4->fastai>=2.2->fasterai==0.1.11) (1.10.7)\r\n",
      "Requirement already satisfied: jinja2 in /opt/conda/lib/python3.10/site-packages (from spacy<4->fastai>=2.2->fasterai==0.1.11) (3.1.2)\r\n",
      "Requirement already satisfied: setuptools in /opt/conda/lib/python3.10/site-packages (from spacy<4->fastai>=2.2->fasterai==0.1.11) (59.8.0)\r\n",
      "Requirement already satisfied: langcodes<4.0.0,>=3.2.0 in /opt/conda/lib/python3.10/site-packages (from spacy<4->fastai>=2.2->fasterai==0.1.11) (3.3.0)\r\n",
      "Requirement already satisfied: pyparsing!=3.0.5,>=2.0.2 in /opt/conda/lib/python3.10/site-packages (from packaging->fastai>=2.2->fasterai==0.1.11) (3.0.9)\r\n",
      "Requirement already satisfied: charset-normalizer<4,>=2 in /opt/conda/lib/python3.10/site-packages (from requests->fastai>=2.2->fasterai==0.1.11) (2.1.1)\r\n",
      "Requirement already satisfied: idna<4,>=2.5 in /opt/conda/lib/python3.10/site-packages (from requests->fastai>=2.2->fasterai==0.1.11) (3.4)\r\n",
      "Requirement already satisfied: urllib3<1.27,>=1.21.1 in /opt/conda/lib/python3.10/site-packages (from requests->fastai>=2.2->fasterai==0.1.11) (1.26.15)\r\n",
      "Requirement already satisfied: certifi>=2017.4.17 in /opt/conda/lib/python3.10/site-packages (from requests->fastai>=2.2->fasterai==0.1.11) (2023.5.7)\r\n",
      "Requirement already satisfied: typing-extensions in /opt/conda/lib/python3.10/site-packages (from torch<1.14,>=1.7->fastai>=2.2->fasterai==0.1.11) (4.5.0)\r\n",
      "Requirement already satisfied: nvidia-cuda-runtime-cu11==11.7.99 in /opt/conda/lib/python3.10/site-packages (from torch<1.14,>=1.7->fastai>=2.2->fasterai==0.1.11) (11.7.99)\r\n",
      "Requirement already satisfied: nvidia-cudnn-cu11==8.5.0.96 in /opt/conda/lib/python3.10/site-packages (from torch<1.14,>=1.7->fastai>=2.2->fasterai==0.1.11) (8.5.0.96)\r\n",
      "Requirement already satisfied: nvidia-cublas-cu11==11.10.3.66 in /opt/conda/lib/python3.10/site-packages (from torch<1.14,>=1.7->fastai>=2.2->fasterai==0.1.11) (11.10.3.66)\r\n",
      "Requirement already satisfied: nvidia-cuda-nvrtc-cu11==11.7.99 in /opt/conda/lib/python3.10/site-packages (from torch<1.14,>=1.7->fastai>=2.2->fasterai==0.1.11) (11.7.99)\r\n",
      "Requirement already satisfied: wheel in /opt/conda/lib/python3.10/site-packages (from nvidia-cublas-cu11==11.10.3.66->torch<1.14,>=1.7->fastai>=2.2->fasterai==0.1.11) (0.40.0)\r\n",
      "Requirement already satisfied: contourpy>=1.0.1 in /opt/conda/lib/python3.10/site-packages (from matplotlib->fastai>=2.2->fasterai==0.1.11) (1.0.7)\r\n",
      "Requirement already satisfied: cycler>=0.10 in /opt/conda/lib/python3.10/site-packages (from matplotlib->fastai>=2.2->fasterai==0.1.11) (0.11.0)\r\n",
      "Requirement already satisfied: fonttools>=4.22.0 in /opt/conda/lib/python3.10/site-packages (from matplotlib->fastai>=2.2->fasterai==0.1.11) (4.39.3)\r\n",
      "Requirement already satisfied: kiwisolver>=1.0.1 in /opt/conda/lib/python3.10/site-packages (from matplotlib->fastai>=2.2->fasterai==0.1.11) (1.4.4)\r\n",
      "Requirement already satisfied: python-dateutil>=2.7 in /opt/conda/lib/python3.10/site-packages (from matplotlib->fastai>=2.2->fasterai==0.1.11) (2.8.2)\r\n",
      "Requirement already satisfied: pytz>=2020.1 in /opt/conda/lib/python3.10/site-packages (from pandas->fastai>=2.2->fasterai==0.1.11) (2023.3)\r\n",
      "Requirement already satisfied: joblib>=1.1.1 in /opt/conda/lib/python3.10/site-packages (from scikit-learn->fastai>=2.2->fasterai==0.1.11) (1.2.0)\r\n",
      "Requirement already satisfied: threadpoolctl>=2.0.0 in /opt/conda/lib/python3.10/site-packages (from scikit-learn->fastai>=2.2->fasterai==0.1.11) (3.1.0)\r\n",
      "Requirement already satisfied: six>=1.5 in /opt/conda/lib/python3.10/site-packages (from python-dateutil>=2.7->matplotlib->fastai>=2.2->fasterai==0.1.11) (1.16.0)\r\n",
      "Requirement already satisfied: blis<0.8.0,>=0.7.8 in /opt/conda/lib/python3.10/site-packages (from thinc<8.2.0,>=8.1.8->spacy<4->fastai>=2.2->fasterai==0.1.11) (0.7.9)\r\n",
      "Requirement already satisfied: confection<1.0.0,>=0.0.1 in /opt/conda/lib/python3.10/site-packages (from thinc<8.2.0,>=8.1.8->spacy<4->fastai>=2.2->fasterai==0.1.11) (0.0.4)\r\n",
      "Requirement already satisfied: click<9.0.0,>=7.1.1 in /opt/conda/lib/python3.10/site-packages (from typer<0.8.0,>=0.3.0->spacy<4->fastai>=2.2->fasterai==0.1.11) (8.1.3)\r\n",
      "Requirement already satisfied: MarkupSafe>=2.0 in /opt/conda/lib/python3.10/site-packages (from jinja2->spacy<4->fastai>=2.2->fasterai==0.1.11) (2.1.2)\r\n",
      "Installing collected packages: fasterai\r\n",
      "Successfully installed fasterai-0.1.11\r\n",
      "\u001b[33mWARNING: Running pip as the 'root' user can result in broken permissions and conflicting behaviour with the system package manager. It is recommended to use a virtual environment instead: https://pip.pypa.io/warnings/venv\u001b[0m\u001b[33m\r\n",
      "\u001b[0mCollecting ipython-autotime==0.3.1\r\n",
      "  Downloading ipython_autotime-0.3.1-py2.py3-none-any.whl (6.8 kB)\r\n",
      "Requirement already satisfied: ipython in /opt/conda/lib/python3.10/site-packages (from ipython-autotime==0.3.1) (8.13.2)\r\n",
      "Requirement already satisfied: backcall in /opt/conda/lib/python3.10/site-packages (from ipython->ipython-autotime==0.3.1) (0.2.0)\r\n",
      "Requirement already satisfied: decorator in /opt/conda/lib/python3.10/site-packages (from ipython->ipython-autotime==0.3.1) (5.1.1)\r\n",
      "Requirement already satisfied: jedi>=0.16 in /opt/conda/lib/python3.10/site-packages (from ipython->ipython-autotime==0.3.1) (0.18.2)\r\n",
      "Requirement already satisfied: matplotlib-inline in /opt/conda/lib/python3.10/site-packages (from ipython->ipython-autotime==0.3.1) (0.1.6)\r\n",
      "Requirement already satisfied: pickleshare in /opt/conda/lib/python3.10/site-packages (from ipython->ipython-autotime==0.3.1) (0.7.5)\r\n",
      "Requirement already satisfied: prompt-toolkit!=3.0.37,<3.1.0,>=3.0.30 in /opt/conda/lib/python3.10/site-packages (from ipython->ipython-autotime==0.3.1) (3.0.38)\r\n",
      "Requirement already satisfied: pygments>=2.4.0 in /opt/conda/lib/python3.10/site-packages (from ipython->ipython-autotime==0.3.1) (2.15.1)\r\n",
      "Requirement already satisfied: stack-data in /opt/conda/lib/python3.10/site-packages (from ipython->ipython-autotime==0.3.1) (0.6.2)\r\n",
      "Requirement already satisfied: traitlets>=5 in /opt/conda/lib/python3.10/site-packages (from ipython->ipython-autotime==0.3.1) (5.9.0)\r\n",
      "Requirement already satisfied: pexpect>4.3 in /opt/conda/lib/python3.10/site-packages (from ipython->ipython-autotime==0.3.1) (4.8.0)\r\n",
      "Requirement already satisfied: parso<0.9.0,>=0.8.0 in /opt/conda/lib/python3.10/site-packages (from jedi>=0.16->ipython->ipython-autotime==0.3.1) (0.8.3)\r\n",
      "Requirement already satisfied: ptyprocess>=0.5 in /opt/conda/lib/python3.10/site-packages (from pexpect>4.3->ipython->ipython-autotime==0.3.1) (0.7.0)\r\n",
      "Requirement already satisfied: wcwidth in /opt/conda/lib/python3.10/site-packages (from prompt-toolkit!=3.0.37,<3.1.0,>=3.0.30->ipython->ipython-autotime==0.3.1) (0.2.6)\r\n",
      "Requirement already satisfied: executing>=1.2.0 in /opt/conda/lib/python3.10/site-packages (from stack-data->ipython->ipython-autotime==0.3.1) (1.2.0)\r\n",
      "Requirement already satisfied: asttokens>=2.1.0 in /opt/conda/lib/python3.10/site-packages (from stack-data->ipython->ipython-autotime==0.3.1) (2.2.1)\r\n",
      "Requirement already satisfied: pure-eval in /opt/conda/lib/python3.10/site-packages (from stack-data->ipython->ipython-autotime==0.3.1) (0.2.2)\r\n",
      "Requirement already satisfied: six in /opt/conda/lib/python3.10/site-packages (from asttokens>=2.1.0->stack-data->ipython->ipython-autotime==0.3.1) (1.16.0)\r\n",
      "Installing collected packages: ipython-autotime\r\n",
      "Successfully installed ipython-autotime-0.3.1\r\n",
      "\u001b[33mWARNING: Running pip as the 'root' user can result in broken permissions and conflicting behaviour with the system package manager. It is recommended to use a virtual environment instead: https://pip.pypa.io/warnings/venv\u001b[0m\u001b[33m\r\n",
      "\u001b[0mCollecting torch==1.12.1\r\n",
      "  Downloading torch-1.12.1-cp310-cp310-manylinux1_x86_64.whl (776.3 MB)\r\n",
      "\u001b[2K     \u001b[90m━━━━━━━━━━━━━━━━━━━━━━━━━━━━━━━━━━━━━\u001b[0m \u001b[32m776.3/776.3 MB\u001b[0m \u001b[31m929.3 kB/s\u001b[0m eta \u001b[36m0:00:00\u001b[0m\r\n",
      "\u001b[?25hRequirement already satisfied: typing-extensions in /opt/conda/lib/python3.10/site-packages (from torch==1.12.1) (4.5.0)\r\n",
      "Installing collected packages: torch\r\n",
      "  Attempting uninstall: torch\r\n",
      "    Found existing installation: torch 1.13.1\r\n",
      "    Uninstalling torch-1.13.1:\r\n",
      "      Successfully uninstalled torch-1.13.1\r\n",
      "\u001b[31mERROR: pip's dependency resolver does not currently take into account all the packages that are installed. This behaviour is the source of the following dependency conflicts.\r\n",
      "torchdata 0.6.0 requires torch==2.0.0, but you have torch 1.12.1 which is incompatible.\u001b[0m\u001b[31m\r\n",
      "\u001b[0mSuccessfully installed torch-1.12.1\r\n",
      "\u001b[33mWARNING: Running pip as the 'root' user can result in broken permissions and conflicting behaviour with the system package manager. It is recommended to use a virtual environment instead: https://pip.pypa.io/warnings/venv\u001b[0m\u001b[33m\r\n",
      "\u001b[0mCollecting fairscale==0.4.6\r\n",
      "  Downloading fairscale-0.4.6.tar.gz (248 kB)\r\n",
      "\u001b[2K     \u001b[90m━━━━━━━━━━━━━━━━━━━━━━━━━━━━━━━━━━━━━━━\u001b[0m \u001b[32m248.2/248.2 kB\u001b[0m \u001b[31m4.7 MB/s\u001b[0m eta \u001b[36m0:00:00\u001b[0m\r\n",
      "\u001b[?25h  Installing build dependencies ... \u001b[?25l-\b \b\\\b \b|\b \b/\b \bdone\r\n",
      "\u001b[?25h  Getting requirements to build wheel ... \u001b[?25ldone\r\n",
      "\u001b[?25h  Installing backend dependencies ... \u001b[?25l-\b \b\\\b \bdone\r\n",
      "\u001b[?25h  Preparing metadata (pyproject.toml) ... \u001b[?25l-\b \bdone\r\n",
      "\u001b[?25hRequirement already satisfied: torch>=1.8.0 in /opt/conda/lib/python3.10/site-packages (from fairscale==0.4.6) (1.12.1)\r\n",
      "Requirement already satisfied: typing-extensions in /opt/conda/lib/python3.10/site-packages (from torch>=1.8.0->fairscale==0.4.6) (4.5.0)\r\n",
      "Building wheels for collected packages: fairscale\r\n",
      "  Building wheel for fairscale (pyproject.toml) ... \u001b[?25l-\b \b\\\b \bdone\r\n",
      "\u001b[?25h  Created wheel for fairscale: filename=fairscale-0.4.6-py3-none-any.whl size=307224 sha256=8161d95750620fd0a3917980bfcc0b25383e7bf0ee7ccf492933be26bafd6d5b\r\n",
      "  Stored in directory: /root/.cache/pip/wheels/a1/58/3d/e114952ab4a8f31eb9dae230658450afff986b211a5b1f2256\r\n",
      "Successfully built fairscale\r\n",
      "Installing collected packages: fairscale\r\n",
      "Successfully installed fairscale-0.4.6\r\n",
      "\u001b[33mWARNING: Running pip as the 'root' user can result in broken permissions and conflicting behaviour with the system package manager. It is recommended to use a virtual environment instead: https://pip.pypa.io/warnings/venv\u001b[0m\u001b[33m\r\n",
      "\u001b[0mtime: 680 µs (started: 2023-05-28 08:44:09 +00:00)\n"
     ]
    }
   ],
   "source": [
    "!pip install fastai==2.7.9\n",
    "!pip install fastkaggle==0.0.7\n",
    "!pip install fasterai==0.1.11\n",
    "!pip install ipython-autotime==0.3.1\n",
    "!pip install torch==1.12.1\n",
    "!pip install fairscale==0.4.6\n",
    "%load_ext autotime"
   ]
  },
  {
   "cell_type": "code",
   "execution_count": 2,
   "id": "401992ca",
   "metadata": {
    "_cell_guid": "0baae140-b1b5-47e9-b27a-4b9033c3055c",
    "_uuid": "24d05a0f-0aec-4df4-a929-23e0061e4ef7",
    "collapsed": false,
    "execution": {
     "iopub.execute_input": "2023-05-28T08:44:10.111740Z",
     "iopub.status.busy": "2023-05-28T08:44:10.111364Z",
     "iopub.status.idle": "2023-05-28T08:44:31.913718Z",
     "shell.execute_reply": "2023-05-28T08:44:31.912664Z"
    },
    "jupyter": {
     "outputs_hidden": false
    },
    "papermill": {
     "duration": 21.892077,
     "end_time": "2023-05-28T08:44:31.915996",
     "exception": false,
     "start_time": "2023-05-28T08:44:10.023919",
     "status": "completed"
    },
    "tags": []
   },
   "outputs": [
    {
     "name": "stderr",
     "output_type": "stream",
     "text": [
      "/opt/conda/lib/python3.10/site-packages/torchvision/io/image.py:13: UserWarning: Failed to load image Python extension: '/opt/conda/lib/python3.10/site-packages/torchvision/image.so: undefined symbol: _ZN3c104cuda20CUDACachingAllocator9allocatorE'If you don't plan on using image functionality from `torchvision.io`, you can ignore this warning. Otherwise, there might be something wrong with your environment. Did you have `libjpeg` or `libpng` installed before building `torchvision` from source?\n",
      "  warn(\n",
      "/opt/conda/lib/python3.10/site-packages/tensorflow_io/python/ops/__init__.py:98: UserWarning: unable to load libtensorflow_io_plugins.so: unable to open file: libtensorflow_io_plugins.so, from paths: ['/opt/conda/lib/python3.10/site-packages/tensorflow_io/python/ops/libtensorflow_io_plugins.so']\n",
      "caused by: ['/opt/conda/lib/python3.10/site-packages/tensorflow_io/python/ops/libtensorflow_io_plugins.so: undefined symbol: _ZN3tsl6StatusC1EN10tensorflow5error4CodeESt17basic_string_viewIcSt11char_traitsIcEENS_14SourceLocationE']\n",
      "  warnings.warn(f\"unable to load libtensorflow_io_plugins.so: {e}\")\n",
      "/opt/conda/lib/python3.10/site-packages/tensorflow_io/python/ops/__init__.py:104: UserWarning: file system plugins are not loaded: unable to open file: libtensorflow_io.so, from paths: ['/opt/conda/lib/python3.10/site-packages/tensorflow_io/python/ops/libtensorflow_io.so']\n",
      "caused by: ['/opt/conda/lib/python3.10/site-packages/tensorflow_io/python/ops/libtensorflow_io.so: undefined symbol: _ZTVN10tensorflow13GcsFileSystemE']\n",
      "  warnings.warn(f\"file system plugins are not loaded: {e}\")\n"
     ]
    },
    {
     "name": "stdout",
     "output_type": "stream",
     "text": [
      "time: 21.8 s (started: 2023-05-28 08:44:10 +00:00)\n"
     ]
    }
   ],
   "source": [
    "from fastai.vision.all import *\n",
    "from fastai.callback.all import *\n",
    "from fastai.data.all import *\n",
    "\n",
    "from fasterai.sparse.all import *\n",
    "\n",
    "import torch\n",
    "import torch.nn as nn\n",
    "import torch.nn.functional as F\n",
    "\n",
    "from fastkaggle import *\n",
    "\n",
    "from fasterai.core.criteria import *\n",
    "from fasterai.regularize.all import *\n",
    "\n",
    "from fairscale.experimental.tooling.layer_memory_tracker import LayerwiseMemoryTracker\n",
    "\n",
    "\n",
    "from fastai.imports import *\n",
    "from fastai.torch_core import *\n",
    "from fastai.learner import *\n",
    "from fastai.fp16_utils import *\n",
    "import tensorflow as tf\n",
    "import pickle as pkl\n",
    "\n",
    "set_seed(42)"
   ]
  },
  {
   "cell_type": "code",
   "execution_count": 3,
   "id": "5a789cfa",
   "metadata": {
    "execution": {
     "iopub.execute_input": "2023-05-28T08:44:32.106451Z",
     "iopub.status.busy": "2023-05-28T08:44:32.105658Z",
     "iopub.status.idle": "2023-05-28T08:44:32.119280Z",
     "shell.execute_reply": "2023-05-28T08:44:32.118264Z"
    },
    "papermill": {
     "duration": 0.114072,
     "end_time": "2023-05-28T08:44:32.121974",
     "exception": false,
     "start_time": "2023-05-28T08:44:32.007902",
     "status": "completed"
    },
    "tags": []
   },
   "outputs": [
    {
     "name": "stdout",
     "output_type": "stream",
     "text": [
      "time: 1.92 ms (started: 2023-05-28 08:44:32 +00:00)\n"
     ]
    }
   ],
   "source": [
    "@patch\n",
    "def custom_plot_losses(self: Recorder, skip_start=5, with_valid=True, filename=\"temp.txt\"):\n",
    "    fig2 = plt.figure(\"Figure 2\")\n",
    "\n",
    "    idx = (np.array(self.iters)<skip_start).sum()\n",
    "    train_col = self.metric_names.index('train_loss') - 1 \n",
    "    plt.plot(self.iters[idx:], L(self.values[idx:]).itemgot(train_col), label='train loss')\n",
    "    plt.legend()\n",
    "    if with_valid:\n",
    "        idx = (np.array(self.iters)<skip_start).sum()\n",
    "        valid_col = self.metric_names.index('valid_loss') - 1 \n",
    "        plt.plot(self.iters[idx:], L(self.values[idx:]).itemgot(valid_col), label='valid loss')\n",
    "        plt.legend()\n",
    "\n",
    "    \n",
    "@patch\n",
    "def custom_plot_values(self: Recorder, skip_start=5, with_valid=True):\n",
    "    fig3 = plt.figure(\"Figure 3\")\n",
    "    \n",
    "    idx = (np.array(self.iters)<skip_start).sum()\n",
    "    train_col = self.metric_names.index('train_accuracy') - 1 \n",
    "    plt.plot(self.iters[idx:], L(self.values[idx:]).itemgot(train_col), label='train accuracy')\n",
    "\n",
    "    plt.legend()\n",
    "    if with_valid:\n",
    "        idx = (np.array(self.iters)<skip_start).sum()\n",
    "        valid_col = self.metric_names.index('valid_accuracy') - 1 \n",
    "        plt.plot(self.iters[idx:], L(self.values[idx:]).itemgot(valid_col), label='valid accuracy')\n",
    "        plt.legend()"
   ]
  },
  {
   "cell_type": "code",
   "execution_count": 4,
   "id": "65fc9f31",
   "metadata": {
    "_cell_guid": "10c08517-c474-406a-80fe-142e05c01b30",
    "_uuid": "6d794b02-4c3e-4ca8-9ef1-a082665e15dc",
    "collapsed": false,
    "execution": {
     "iopub.execute_input": "2023-05-28T08:44:32.308036Z",
     "iopub.status.busy": "2023-05-28T08:44:32.307700Z",
     "iopub.status.idle": "2023-05-28T08:44:43.747581Z",
     "shell.execute_reply": "2023-05-28T08:44:43.746310Z"
    },
    "jupyter": {
     "outputs_hidden": false
    },
    "papermill": {
     "duration": 11.531425,
     "end_time": "2023-05-28T08:44:43.749668",
     "exception": false,
     "start_time": "2023-05-28T08:44:32.218243",
     "status": "completed"
    },
    "tags": []
   },
   "outputs": [
    {
     "name": "stdout",
     "output_type": "stream",
     "text": [
      "time: 11.4 s (started: 2023-05-28 08:44:32 +00:00)\n"
     ]
    }
   ],
   "source": [
    "comp = 'paddy-diseases/paddy-diseases'\n",
    "\n",
    "path = setup_comp(comp, install='\"fastcore>=1.4.5\" \"fastai>=2.7.1\" \"timm>=0.6.2.dev0\"')"
   ]
  },
  {
   "cell_type": "code",
   "execution_count": 5,
   "id": "f6f27761",
   "metadata": {
    "_cell_guid": "52f63a4e-9264-4b44-b7d3-acb3ad65c031",
    "_uuid": "233ccd37-186f-43f1-887c-fc1aa81a4a3c",
    "collapsed": false,
    "execution": {
     "iopub.execute_input": "2023-05-28T08:44:43.923986Z",
     "iopub.status.busy": "2023-05-28T08:44:43.923657Z",
     "iopub.status.idle": "2023-05-28T08:44:51.669938Z",
     "shell.execute_reply": "2023-05-28T08:44:51.668329Z"
    },
    "jupyter": {
     "outputs_hidden": false
    },
    "papermill": {
     "duration": 7.836038,
     "end_time": "2023-05-28T08:44:51.672304",
     "exception": false,
     "start_time": "2023-05-28T08:44:43.836266",
     "status": "completed"
    },
    "tags": []
   },
   "outputs": [
    {
     "name": "stdout",
     "output_type": "stream",
     "text": [
      "time: 7.74 s (started: 2023-05-28 08:44:43 +00:00)\n"
     ]
    }
   ],
   "source": [
    "dls = ImageDataLoaders.from_folder(path/\"train\", \n",
    "                                   valid_pct=0.25, \n",
    "                                   item_tfms=Resize(256), \n",
    "                                   batch_tfms=aug_transforms(   size=64, \n",
    "                                                                min_scale=0.75,\n",
    "                                                                max_rotate=10., \n",
    "                                                                min_zoom=0.8, \n",
    "                                                                max_zoom=1.2, \n",
    "                                                            \n",
    "                                                            ), \n",
    "                                   bs=32)"
   ]
  },
  {
   "cell_type": "code",
   "execution_count": 6,
   "id": "a92fb82e",
   "metadata": {
    "_cell_guid": "f46e8321-a125-4058-816c-69c10685e2ce",
    "_uuid": "08bd3435-e439-4580-85d6-7bb2352a55dd",
    "collapsed": false,
    "execution": {
     "iopub.execute_input": "2023-05-28T08:44:51.846592Z",
     "iopub.status.busy": "2023-05-28T08:44:51.846191Z",
     "iopub.status.idle": "2023-05-28T08:44:51.851693Z",
     "shell.execute_reply": "2023-05-28T08:44:51.850683Z"
    },
    "jupyter": {
     "outputs_hidden": false
    },
    "papermill": {
     "duration": 0.095694,
     "end_time": "2023-05-28T08:44:51.854501",
     "exception": false,
     "start_time": "2023-05-28T08:44:51.758807",
     "status": "completed"
    },
    "tags": []
   },
   "outputs": [
    {
     "name": "stdout",
     "output_type": "stream",
     "text": [
      "time: 526 µs (started: 2023-05-28 08:44:51 +00:00)\n"
     ]
    }
   ],
   "source": [
    "sp_cb=[\n",
    "#       GradientAccumulation(32), \n",
    "#       SparsifyCallback(sparsity=50, \n",
    "#                          granularity='filter', \n",
    "#                          context='local', \n",
    "#                          criteria=large_final, \n",
    "#                          schedule=one_cycle),\n",
    "\n",
    "\n",
    "]"
   ]
  },
  {
   "cell_type": "code",
   "execution_count": 7,
   "id": "d7c256d8",
   "metadata": {
    "execution": {
     "iopub.execute_input": "2023-05-28T08:44:52.037582Z",
     "iopub.status.busy": "2023-05-28T08:44:52.037228Z",
     "iopub.status.idle": "2023-05-28T08:44:54.096639Z",
     "shell.execute_reply": "2023-05-28T08:44:54.095470Z"
    },
    "papermill": {
     "duration": 2.153129,
     "end_time": "2023-05-28T08:44:54.099032",
     "exception": false,
     "start_time": "2023-05-28T08:44:51.945903",
     "status": "completed"
    },
    "tags": []
   },
   "outputs": [
    {
     "name": "stdout",
     "output_type": "stream",
     "text": [
      "time: 2.05 s (started: 2023-05-28 08:44:52 +00:00)\n"
     ]
    }
   ],
   "source": [
    "model = vgg16_bn(num_classes=10)\n"
   ]
  },
  {
   "cell_type": "code",
   "execution_count": 8,
   "id": "e8dbcb30",
   "metadata": {
    "_cell_guid": "89c00fcb-c20d-4cc2-8d0e-8bd7b818d059",
    "_uuid": "01c6b08d-0bc7-4019-9341-2ab88659aeac",
    "collapsed": false,
    "execution": {
     "iopub.execute_input": "2023-05-28T08:44:54.277579Z",
     "iopub.status.busy": "2023-05-28T08:44:54.276699Z",
     "iopub.status.idle": "2023-05-28T08:44:54.290905Z",
     "shell.execute_reply": "2023-05-28T08:44:54.289667Z"
    },
    "jupyter": {
     "outputs_hidden": false
    },
    "papermill": {
     "duration": 0.103253,
     "end_time": "2023-05-28T08:44:54.293087",
     "exception": false,
     "start_time": "2023-05-28T08:44:54.189834",
     "status": "completed"
    },
    "tags": []
   },
   "outputs": [
    {
     "name": "stdout",
     "output_type": "stream",
     "text": [
      "time: 8.54 ms (started: 2023-05-28 08:44:54 +00:00)\n"
     ]
    }
   ],
   "source": [
    "learn = Learner(dls, \n",
    "                model, \n",
    "                metrics=[accuracy,\n",
    "                         error_rate,\n",
    "                        ]).to_non_native_fp16()\n",
    "learn.unfreeze()\n",
    "learn.recorder.train_metrics = True\n",
    "learn.path = Path(\"/kaggle/working/\")"
   ]
  },
  {
   "cell_type": "code",
   "execution_count": 9,
   "id": "8c9c527e",
   "metadata": {
    "execution": {
     "iopub.execute_input": "2023-05-28T08:44:54.468716Z",
     "iopub.status.busy": "2023-05-28T08:44:54.468068Z",
     "iopub.status.idle": "2023-05-28T08:44:54.475249Z",
     "shell.execute_reply": "2023-05-28T08:44:54.474285Z"
    },
    "papermill": {
     "duration": 0.098332,
     "end_time": "2023-05-28T08:44:54.477698",
     "exception": false,
     "start_time": "2023-05-28T08:44:54.379366",
     "status": "completed"
    },
    "tags": []
   },
   "outputs": [
    {
     "name": "stdout",
     "output_type": "stream",
     "text": [
      "time: 2.19 ms (started: 2023-05-28 08:44:54 +00:00)\n"
     ]
    }
   ],
   "source": [
    "tracker = LayerwiseMemoryTracker()\n",
    "tracker.monitor(learn.model)"
   ]
  },
  {
   "cell_type": "code",
   "execution_count": 10,
   "id": "5a95cf75",
   "metadata": {
    "execution": {
     "iopub.execute_input": "2023-05-28T08:44:54.666886Z",
     "iopub.status.busy": "2023-05-28T08:44:54.666188Z",
     "iopub.status.idle": "2023-05-28T08:46:35.738523Z",
     "shell.execute_reply": "2023-05-28T08:46:35.736979Z"
    },
    "papermill": {
     "duration": 101.170414,
     "end_time": "2023-05-28T08:46:35.740745",
     "exception": false,
     "start_time": "2023-05-28T08:44:54.570331",
     "status": "completed"
    },
    "tags": []
   },
   "outputs": [
    {
     "data": {
      "text/html": [
       "\n",
       "<style>\n",
       "    /* Turns off some styling */\n",
       "    progress {\n",
       "        /* gets rid of default border in Firefox and Opera. */\n",
       "        border: none;\n",
       "        /* Needs to be in here for Safari polyfill so background images work as expected. */\n",
       "        background-size: auto;\n",
       "    }\n",
       "    progress:not([value]), progress:not([value])::-webkit-progress-bar {\n",
       "        background: repeating-linear-gradient(45deg, #7e7e7e, #7e7e7e 10px, #5c5c5c 10px, #5c5c5c 20px);\n",
       "    }\n",
       "    .progress-bar-interrupted, .progress-bar-interrupted::-webkit-progress-bar {\n",
       "        background: #F44336;\n",
       "    }\n",
       "</style>\n"
      ],
      "text/plain": [
       "<IPython.core.display.HTML object>"
      ]
     },
     "metadata": {},
     "output_type": "display_data"
    },
    {
     "data": {
      "text/html": [
       "<table border=\"1\" class=\"dataframe\">\n",
       "  <thead>\n",
       "    <tr style=\"text-align: left;\">\n",
       "      <th>epoch</th>\n",
       "      <th>train_loss</th>\n",
       "      <th>train_accuracy</th>\n",
       "      <th>train_error_rate</th>\n",
       "      <th>valid_loss</th>\n",
       "      <th>valid_accuracy</th>\n",
       "      <th>valid_error_rate</th>\n",
       "      <th>time</th>\n",
       "    </tr>\n",
       "  </thead>\n",
       "  <tbody>\n",
       "    <tr>\n",
       "      <td>0</td>\n",
       "      <td>2.172000</td>\n",
       "      <td>0.215705</td>\n",
       "      <td>0.784295</td>\n",
       "      <td>1.931134</td>\n",
       "      <td>0.317788</td>\n",
       "      <td>0.682212</td>\n",
       "      <td>01:40</td>\n",
       "    </tr>\n",
       "  </tbody>\n",
       "</table>"
      ],
      "text/plain": [
       "<IPython.core.display.HTML object>"
      ]
     },
     "metadata": {},
     "output_type": "display_data"
    },
    {
     "name": "stderr",
     "output_type": "stream",
     "text": [
      "/opt/conda/lib/python3.10/site-packages/torch/nn/modules/module.py:1053: UserWarning: Using a non-full backward hook when the forward contains multiple autograd Nodes is deprecated and will be removed in future versions. This hook will be missing some grad_input. Please use register_full_backward_hook to get the documented behavior.\n",
      "  warnings.warn(\"Using a non-full backward hook when the forward contains multiple autograd Nodes \"\n"
     ]
    },
    {
     "name": "stdout",
     "output_type": "stream",
     "text": [
      "time: 1min 41s (started: 2023-05-28 08:44:54 +00:00)\n"
     ]
    }
   ],
   "source": [
    "learn.fit_one_cycle(1, 3e-5, cbs=sp_cb)"
   ]
  },
  {
   "cell_type": "code",
   "execution_count": 11,
   "id": "02f3c799",
   "metadata": {
    "execution": {
     "iopub.execute_input": "2023-05-28T08:46:35.950916Z",
     "iopub.status.busy": "2023-05-28T08:46:35.950541Z",
     "iopub.status.idle": "2023-05-28T08:46:37.861195Z",
     "shell.execute_reply": "2023-05-28T08:46:37.860271Z"
    },
    "papermill": {
     "duration": 2.005908,
     "end_time": "2023-05-28T08:46:37.865764",
     "exception": false,
     "start_time": "2023-05-28T08:46:35.859856",
     "status": "completed"
    },
    "tags": []
   },
   "outputs": [
    {
     "data": {
      "image/png": "[encoded data removed]",
      "text/plain": [
       "<Figure size 1600x2000 with 6 Axes>"
      ]
     },
     "metadata": {},
     "output_type": "display_data"
    },
    {
     "name": "stdout",
     "output_type": "stream",
     "text": [
      "time: 1.9 s (started: 2023-05-28 08:46:35 +00:00)\n"
     ]
    }
   ],
   "source": [
    "# # Stop monitoring the model\n",
    "tracker.stop()\n",
    "\n",
    "# # Show some useful default plots\n",
    "tracker.show_plots()"
   ]
  },
  {
   "cell_type": "code",
   "execution_count": 12,
   "id": "922825f8",
   "metadata": {
    "execution": {
     "iopub.execute_input": "2023-05-28T08:46:38.091352Z",
     "iopub.status.busy": "2023-05-28T08:46:38.091014Z",
     "iopub.status.idle": "2023-05-28T08:46:38.098828Z",
     "shell.execute_reply": "2023-05-28T08:46:38.097865Z"
    },
    "papermill": {
     "duration": 0.146705,
     "end_time": "2023-05-28T08:46:38.101590",
     "exception": false,
     "start_time": "2023-05-28T08:46:37.954885",
     "status": "completed"
    },
    "tags": []
   },
   "outputs": [
    {
     "name": "stdout",
     "output_type": "stream",
     "text": [
      "0\n",
      "time: 2.72 ms (started: 2023-05-28 08:46:38 +00:00)\n"
     ]
    }
   ],
   "source": [
    "forward_act = sum(t.event.memory_activations for t in tracker.forward_traces[13520:27080]) \n",
    "print(forward_act)"
   ]
  },
  {
   "cell_type": "code",
   "execution_count": 13,
   "id": "104e6bfa",
   "metadata": {
    "execution": {
     "iopub.execute_input": "2023-05-28T08:46:38.283811Z",
     "iopub.status.busy": "2023-05-28T08:46:38.282840Z",
     "iopub.status.idle": "2023-05-28T08:46:38.290573Z",
     "shell.execute_reply": "2023-05-28T08:46:38.289626Z"
    },
    "papermill": {
     "duration": 0.100149,
     "end_time": "2023-05-28T08:46:38.292555",
     "exception": false,
     "start_time": "2023-05-28T08:46:38.192406",
     "status": "completed"
    },
    "tags": []
   },
   "outputs": [
    {
     "name": "stdout",
     "output_type": "stream",
     "text": [
      "152208000\n",
      "time: 2.46 ms (started: 2023-05-28 08:46:38 +00:00)\n"
     ]
    }
   ],
   "source": [
    "forward_act = sum(t.event.memory_activations for t in tracker.forward_traces[0:52]) \n",
    "print(forward_act)"
   ]
  },
  {
   "cell_type": "code",
   "execution_count": 14,
   "id": "e06b010f",
   "metadata": {
    "execution": {
     "iopub.execute_input": "2023-05-28T08:46:38.473687Z",
     "iopub.status.busy": "2023-05-28T08:46:38.473002Z",
     "iopub.status.idle": "2023-05-28T08:46:38.480315Z",
     "shell.execute_reply": "2023-05-28T08:46:38.479405Z"
    },
    "papermill": {
     "duration": 0.0983,
     "end_time": "2023-05-28T08:46:38.483037",
     "exception": false,
     "start_time": "2023-05-28T08:46:38.384737",
     "status": "completed"
    },
    "tags": []
   },
   "outputs": [
    {
     "name": "stdout",
     "output_type": "stream",
     "text": [
      "223511168\n",
      "time: 2.2 ms (started: 2023-05-28 08:46:38 +00:00)\n"
     ]
    }
   ],
   "source": [
    "backward_act = sum(t.event.memory_activations for t in tracker.backward_traces[0:52])\n",
    "print(backward_act)"
   ]
  },
  {
   "cell_type": "code",
   "execution_count": 15,
   "id": "38fb7420",
   "metadata": {
    "execution": {
     "iopub.execute_input": "2023-05-28T08:46:38.664399Z",
     "iopub.status.busy": "2023-05-28T08:46:38.664045Z",
     "iopub.status.idle": "2023-05-28T08:46:38.669195Z",
     "shell.execute_reply": "2023-05-28T08:46:38.668314Z"
    },
    "papermill": {
     "duration": 0.096333,
     "end_time": "2023-05-28T08:46:38.671297",
     "exception": false,
     "start_time": "2023-05-28T08:46:38.574964",
     "status": "completed"
    },
    "tags": []
   },
   "outputs": [
    {
     "name": "stdout",
     "output_type": "stream",
     "text": [
      "Activation Memory: 375719168 Byte\n",
      "time: 550 µs (started: 2023-05-28 08:46:38 +00:00)\n"
     ]
    }
   ],
   "source": [
    "total_act = forward_act + backward_act\n",
    "print(f\"Activation Memory: {total_act} Byte\")"
   ]
  },
  {
   "cell_type": "code",
   "execution_count": 16,
   "id": "6506a58a",
   "metadata": {
    "execution": {
     "iopub.execute_input": "2023-05-28T08:46:38.846582Z",
     "iopub.status.busy": "2023-05-28T08:46:38.846223Z",
     "iopub.status.idle": "2023-05-28T08:46:38.851336Z",
     "shell.execute_reply": "2023-05-28T08:46:38.850474Z"
    },
    "papermill": {
     "duration": 0.095235,
     "end_time": "2023-05-28T08:46:38.853405",
     "exception": false,
     "start_time": "2023-05-28T08:46:38.758170",
     "status": "completed"
    },
    "tags": []
   },
   "outputs": [
    {
     "name": "stdout",
     "output_type": "stream",
     "text": [
      "time: 420 µs (started: 2023-05-28 08:46:38 +00:00)\n"
     ]
    }
   ],
   "source": [
    "# Stop monitoring the model\n",
    "tracker.stop()\n"
   ]
  }
 ],
 "metadata": {
  "kernelspec": {
   "display_name": "Python 3",
   "language": "python",
   "name": "python3"
  },
  "language_info": {
   "codemirror_mode": {
    "name": "ipython",
    "version": 3
   },
   "file_extension": ".py",
   "mimetype": "text/x-python",
   "name": "python",
   "nbconvert_exporter": "python",
   "pygments_lexer": "ipython3",
   "version": "3.10.10"
  },
  "papermill": {
   "default_parameters": {},
   "duration": 418.922149,
   "end_time": "2023-05-28T08:46:42.090113",
   "environment_variables": {},
   "exception": null,
   "input_path": "__notebook__.ipynb",
   "output_path": "__notebook__.ipynb",
   "parameters": {},
   "start_time": "2023-05-28T08:39:43.167964",
   "version": "2.4.0"
  }
 },
 "nbformat": 4,
 "nbformat_minor": 5
}
